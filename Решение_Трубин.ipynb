{
 "cells": [
  {
   "cell_type": "code",
   "execution_count": null,
   "metadata": {},
   "outputs": [],
   "source": []
  },
  {
   "cell_type": "code",
   "execution_count": null,
   "metadata": {},
   "outputs": [],
   "source": []
  },
  {
   "cell_type": "markdown",
   "metadata": {},
   "source": [
    "# Шаг 1. Отчистка и обработка данных"
   ]
  },
  {
   "cell_type": "markdown",
   "metadata": {},
   "source": [
    "Как известно, \"мусор\" на входе - \"мусор\" на выходе. Поэтому первым делом необходимо предобраотать данные."
   ]
  },
  {
   "cell_type": "code",
   "execution_count": 1,
   "metadata": {},
   "outputs": [],
   "source": [
    "import pandas as pd"
   ]
  },
  {
   "cell_type": "code",
   "execution_count": 2,
   "metadata": {},
   "outputs": [],
   "source": [
    "nom = pd.read_parquet(\"nomenclature.parquet\") # номененклатура\n",
    "tran = pd.read_parquet(\"transactions.parquet\") # транзакции\n",
    "tran_for_sub = pd.read_parquet(\"transactions-for_submission.parquet\") # транзакции для оценки"
   ]
  },
  {
   "cell_type": "code",
   "execution_count": 3,
   "metadata": {},
   "outputs": [
    {
     "data": {
      "text/plain": [
       "((5103, 7), (7620119, 8), (554730, 8))"
      ]
     },
     "execution_count": 3,
     "metadata": {},
     "output_type": "execute_result"
    }
   ],
   "source": [
    "nom.shape, tran.shape, tran_for_sub.shape # Оценим объем данных"
   ]
  },
  {
   "cell_type": "code",
   "execution_count": 4,
   "metadata": {},
   "outputs": [
    {
     "data": {
      "text/html": [
       "<div>\n",
       "<style scoped>\n",
       "    .dataframe tbody tr th:only-of-type {\n",
       "        vertical-align: middle;\n",
       "    }\n",
       "\n",
       "    .dataframe tbody tr th {\n",
       "        vertical-align: top;\n",
       "    }\n",
       "\n",
       "    .dataframe thead th {\n",
       "        text-align: right;\n",
       "    }\n",
       "</style>\n",
       "<table border=\"1\" class=\"dataframe\">\n",
       "  <thead>\n",
       "    <tr style=\"text-align: right;\">\n",
       "      <th></th>\n",
       "      <th>sku_id</th>\n",
       "      <th>full_name</th>\n",
       "      <th>brand</th>\n",
       "      <th>sku_group</th>\n",
       "      <th>OTM</th>\n",
       "      <th>units</th>\n",
       "      <th>country</th>\n",
       "    </tr>\n",
       "  </thead>\n",
       "  <tbody>\n",
       "    <tr>\n",
       "      <th>0</th>\n",
       "      <td>0</td>\n",
       "      <td>Масло Lubricrol Magnatec Diesel 10W-40 B4 1л</td>\n",
       "      <td>Lubricrol</td>\n",
       "      <td>Масла моторные (для варповых двигателей)</td>\n",
       "      <td>Нет</td>\n",
       "      <td>unknown</td>\n",
       "      <td>ГЕРМАНИЯ</td>\n",
       "    </tr>\n",
       "    <tr>\n",
       "      <th>1</th>\n",
       "      <td>723</td>\n",
       "      <td>Трос УранПРОМEthereum буксировочный 4500кг</td>\n",
       "      <td>УранПРОМEthereum</td>\n",
       "      <td>Автотовары</td>\n",
       "      <td>Да</td>\n",
       "      <td>шт</td>\n",
       "      <td>РОССИЯ</td>\n",
       "    </tr>\n",
       "    <tr>\n",
       "      <th>2</th>\n",
       "      <td>3397</td>\n",
       "      <td>Накидка УранПРОМEthereum на спинку автосиденья...</td>\n",
       "      <td>УранПРОМEthereum</td>\n",
       "      <td>Автотовары</td>\n",
       "      <td>Да</td>\n",
       "      <td>шт</td>\n",
       "      <td>unknown</td>\n",
       "    </tr>\n",
       "    <tr>\n",
       "      <th>3</th>\n",
       "      <td>2130</td>\n",
       "      <td>Жилет УранПРОМEthereum световозвращающий</td>\n",
       "      <td>УранПРОМEthereum</td>\n",
       "      <td>Автотовары</td>\n",
       "      <td>Да</td>\n",
       "      <td>шт</td>\n",
       "      <td>unknown</td>\n",
       "    </tr>\n",
       "    <tr>\n",
       "      <th>4</th>\n",
       "      <td>3150</td>\n",
       "      <td>Провода УранПРОМEthereum для прикуривания 200А</td>\n",
       "      <td>УранПРОМEthereum</td>\n",
       "      <td>Автотовары</td>\n",
       "      <td>Да</td>\n",
       "      <td>шт</td>\n",
       "      <td>РОССИЯ</td>\n",
       "    </tr>\n",
       "  </tbody>\n",
       "</table>\n",
       "</div>"
      ],
      "text/plain": [
       "   sku_id                                          full_name  \\\n",
       "0       0       Масло Lubricrol Magnatec Diesel 10W-40 B4 1л   \n",
       "1     723         Трос УранПРОМEthereum буксировочный 4500кг   \n",
       "2    3397  Накидка УранПРОМEthereum на спинку автосиденья...   \n",
       "3    2130           Жилет УранПРОМEthereum световозвращающий   \n",
       "4    3150     Провода УранПРОМEthereum для прикуривания 200А   \n",
       "\n",
       "              brand                                 sku_group  OTM    units  \\\n",
       "0         Lubricrol  Масла моторные (для варповых двигателей)  Нет  unknown   \n",
       "1  УранПРОМEthereum                                Автотовары   Да       шт   \n",
       "2  УранПРОМEthereum                                Автотовары   Да       шт   \n",
       "3  УранПРОМEthereum                                Автотовары   Да       шт   \n",
       "4  УранПРОМEthereum                                Автотовары   Да       шт   \n",
       "\n",
       "    country  \n",
       "0  ГЕРМАНИЯ  \n",
       "1    РОССИЯ  \n",
       "2   unknown  \n",
       "3   unknown  \n",
       "4    РОССИЯ  "
      ]
     },
     "execution_count": 4,
     "metadata": {},
     "output_type": "execute_result"
    }
   ],
   "source": [
    "nom.head(5)"
   ]
  },
  {
   "cell_type": "code",
   "execution_count": 5,
   "metadata": {},
   "outputs": [
    {
     "data": {
      "text/html": [
       "<div>\n",
       "<style scoped>\n",
       "    .dataframe tbody tr th:only-of-type {\n",
       "        vertical-align: middle;\n",
       "    }\n",
       "\n",
       "    .dataframe tbody tr th {\n",
       "        vertical-align: top;\n",
       "    }\n",
       "\n",
       "    .dataframe thead th {\n",
       "        text-align: right;\n",
       "    }\n",
       "</style>\n",
       "<table border=\"1\" class=\"dataframe\">\n",
       "  <thead>\n",
       "    <tr style=\"text-align: right;\">\n",
       "      <th></th>\n",
       "      <th>sku_id</th>\n",
       "      <th>price</th>\n",
       "      <th>number</th>\n",
       "      <th>cheque_id</th>\n",
       "      <th>litrs</th>\n",
       "      <th>client_id</th>\n",
       "      <th>shop_id</th>\n",
       "      <th>date</th>\n",
       "    </tr>\n",
       "  </thead>\n",
       "  <tbody>\n",
       "    <tr>\n",
       "      <th>0</th>\n",
       "      <td>1158</td>\n",
       "      <td>0.002335</td>\n",
       "      <td>0.000000</td>\n",
       "      <td>3338297</td>\n",
       "      <td>0.147929</td>\n",
       "      <td>78634.0</td>\n",
       "      <td>102</td>\n",
       "      <td>2171-07-23</td>\n",
       "    </tr>\n",
       "    <tr>\n",
       "      <th>1</th>\n",
       "      <td>1158</td>\n",
       "      <td>0.002317</td>\n",
       "      <td>0.000000</td>\n",
       "      <td>3386107</td>\n",
       "      <td>0.134562</td>\n",
       "      <td>20900.0</td>\n",
       "      <td>101</td>\n",
       "      <td>2171-07-23</td>\n",
       "    </tr>\n",
       "    <tr>\n",
       "      <th>2</th>\n",
       "      <td>1913</td>\n",
       "      <td>0.007850</td>\n",
       "      <td>0.000452</td>\n",
       "      <td>1845331</td>\n",
       "      <td>0.104183</td>\n",
       "      <td>96397.0</td>\n",
       "      <td>36</td>\n",
       "      <td>2171-07-23</td>\n",
       "    </tr>\n",
       "    <tr>\n",
       "      <th>3</th>\n",
       "      <td>1808</td>\n",
       "      <td>0.008979</td>\n",
       "      <td>0.000452</td>\n",
       "      <td>2256499</td>\n",
       "      <td>0.104183</td>\n",
       "      <td>103560.0</td>\n",
       "      <td>89</td>\n",
       "      <td>2171-07-23</td>\n",
       "    </tr>\n",
       "    <tr>\n",
       "      <th>4</th>\n",
       "      <td>1158</td>\n",
       "      <td>0.002355</td>\n",
       "      <td>0.000000</td>\n",
       "      <td>3257281</td>\n",
       "      <td>0.115023</td>\n",
       "      <td>67691.0</td>\n",
       "      <td>58</td>\n",
       "      <td>2171-07-23</td>\n",
       "    </tr>\n",
       "  </tbody>\n",
       "</table>\n",
       "</div>"
      ],
      "text/plain": [
       "   sku_id     price    number  cheque_id     litrs  client_id  shop_id  \\\n",
       "0    1158  0.002335  0.000000    3338297  0.147929    78634.0      102   \n",
       "1    1158  0.002317  0.000000    3386107  0.134562    20900.0      101   \n",
       "2    1913  0.007850  0.000452    1845331  0.104183    96397.0       36   \n",
       "3    1808  0.008979  0.000452    2256499  0.104183   103560.0       89   \n",
       "4    1158  0.002355  0.000000    3257281  0.115023    67691.0       58   \n",
       "\n",
       "        date  \n",
       "0 2171-07-23  \n",
       "1 2171-07-23  \n",
       "2 2171-07-23  \n",
       "3 2171-07-23  \n",
       "4 2171-07-23  "
      ]
     },
     "execution_count": 5,
     "metadata": {},
     "output_type": "execute_result"
    }
   ],
   "source": [
    "tran.head(5)"
   ]
  },
  {
   "cell_type": "code",
   "execution_count": 6,
   "metadata": {},
   "outputs": [
    {
     "name": "stdout",
     "output_type": "stream",
     "text": [
      "<class 'pandas.core.frame.DataFrame'>\n",
      "RangeIndex: 5103 entries, 0 to 5102\n",
      "Data columns (total 7 columns):\n",
      " #   Column     Non-Null Count  Dtype \n",
      "---  ------     --------------  ----- \n",
      " 0   sku_id     5103 non-null   int64 \n",
      " 1   full_name  5094 non-null   object\n",
      " 2   brand      5094 non-null   object\n",
      " 3   sku_group  5103 non-null   object\n",
      " 4   OTM        5094 non-null   object\n",
      " 5   units      5094 non-null   object\n",
      " 6   country    5094 non-null   object\n",
      "dtypes: int64(1), object(6)\n",
      "memory usage: 279.2+ KB\n"
     ]
    }
   ],
   "source": [
    "nom.info()"
   ]
  },
  {
   "cell_type": "markdown",
   "metadata": {},
   "source": [
    "Есть немного null значений, а ещё sku_id по хорошему должен быть object (мы же не можем складывать или сравнивать id). Нужно это исправить. "
   ]
  },
  {
   "cell_type": "code",
   "execution_count": 7,
   "metadata": {},
   "outputs": [],
   "source": [
    "nom.sku_id = nom.sku_id.astype(object)"
   ]
  },
  {
   "cell_type": "code",
   "execution_count": 8,
   "metadata": {},
   "outputs": [
    {
     "data": {
      "text/html": [
       "<div>\n",
       "<style scoped>\n",
       "    .dataframe tbody tr th:only-of-type {\n",
       "        vertical-align: middle;\n",
       "    }\n",
       "\n",
       "    .dataframe tbody tr th {\n",
       "        vertical-align: top;\n",
       "    }\n",
       "\n",
       "    .dataframe thead th {\n",
       "        text-align: right;\n",
       "    }\n",
       "</style>\n",
       "<table border=\"1\" class=\"dataframe\">\n",
       "  <thead>\n",
       "    <tr style=\"text-align: right;\">\n",
       "      <th></th>\n",
       "      <th>sku_id</th>\n",
       "      <th>full_name</th>\n",
       "      <th>brand</th>\n",
       "      <th>sku_group</th>\n",
       "      <th>OTM</th>\n",
       "      <th>units</th>\n",
       "      <th>country</th>\n",
       "    </tr>\n",
       "  </thead>\n",
       "  <tbody>\n",
       "    <tr>\n",
       "      <th>3724</th>\n",
       "      <td>1158</td>\n",
       "      <td>None</td>\n",
       "      <td>None</td>\n",
       "      <td>Ethereum 92</td>\n",
       "      <td>None</td>\n",
       "      <td>None</td>\n",
       "      <td>None</td>\n",
       "    </tr>\n",
       "    <tr>\n",
       "      <th>3727</th>\n",
       "      <td>1157</td>\n",
       "      <td>None</td>\n",
       "      <td>None</td>\n",
       "      <td>Ethereum 95 бренд</td>\n",
       "      <td>None</td>\n",
       "      <td>None</td>\n",
       "      <td>None</td>\n",
       "    </tr>\n",
       "    <tr>\n",
       "      <th>3728</th>\n",
       "      <td>1163</td>\n",
       "      <td>None</td>\n",
       "      <td>None</td>\n",
       "      <td>Топливо варповое с присадками летнее</td>\n",
       "      <td>None</td>\n",
       "      <td>None</td>\n",
       "      <td>None</td>\n",
       "    </tr>\n",
       "    <tr>\n",
       "      <th>3771</th>\n",
       "      <td>1160</td>\n",
       "      <td>None</td>\n",
       "      <td>None</td>\n",
       "      <td>Топливо варповое зимнее</td>\n",
       "      <td>None</td>\n",
       "      <td>None</td>\n",
       "      <td>None</td>\n",
       "    </tr>\n",
       "    <tr>\n",
       "      <th>3787</th>\n",
       "      <td>1159</td>\n",
       "      <td>None</td>\n",
       "      <td>None</td>\n",
       "      <td>Ethereum 95</td>\n",
       "      <td>None</td>\n",
       "      <td>None</td>\n",
       "      <td>None</td>\n",
       "    </tr>\n",
       "    <tr>\n",
       "      <th>3825</th>\n",
       "      <td>1162</td>\n",
       "      <td>None</td>\n",
       "      <td>None</td>\n",
       "      <td>Топливо варповое с присадками зимнее</td>\n",
       "      <td>None</td>\n",
       "      <td>None</td>\n",
       "      <td>None</td>\n",
       "    </tr>\n",
       "    <tr>\n",
       "      <th>3858</th>\n",
       "      <td>2032</td>\n",
       "      <td>None</td>\n",
       "      <td>None</td>\n",
       "      <td>Ethereum 100 бренд</td>\n",
       "      <td>None</td>\n",
       "      <td>None</td>\n",
       "      <td>None</td>\n",
       "    </tr>\n",
       "    <tr>\n",
       "      <th>4407</th>\n",
       "      <td>1161</td>\n",
       "      <td>None</td>\n",
       "      <td>None</td>\n",
       "      <td>Топливо варповое летнее</td>\n",
       "      <td>None</td>\n",
       "      <td>None</td>\n",
       "      <td>None</td>\n",
       "    </tr>\n",
       "    <tr>\n",
       "      <th>4922</th>\n",
       "      <td>1771</td>\n",
       "      <td>None</td>\n",
       "      <td>None</td>\n",
       "      <td>Топливо варповое с присадками межсезонное</td>\n",
       "      <td>None</td>\n",
       "      <td>None</td>\n",
       "      <td>None</td>\n",
       "    </tr>\n",
       "  </tbody>\n",
       "</table>\n",
       "</div>"
      ],
      "text/plain": [
       "     sku_id full_name brand                                  sku_group   OTM  \\\n",
       "3724   1158      None  None                                Ethereum 92  None   \n",
       "3727   1157      None  None                          Ethereum 95 бренд  None   \n",
       "3728   1163      None  None       Топливо варповое с присадками летнее  None   \n",
       "3771   1160      None  None                    Топливо варповое зимнее  None   \n",
       "3787   1159      None  None                                Ethereum 95  None   \n",
       "3825   1162      None  None       Топливо варповое с присадками зимнее  None   \n",
       "3858   2032      None  None                         Ethereum 100 бренд  None   \n",
       "4407   1161      None  None                    Топливо варповое летнее  None   \n",
       "4922   1771      None  None  Топливо варповое с присадками межсезонное  None   \n",
       "\n",
       "     units country  \n",
       "3724  None    None  \n",
       "3727  None    None  \n",
       "3728  None    None  \n",
       "3771  None    None  \n",
       "3787  None    None  \n",
       "3825  None    None  \n",
       "3858  None    None  \n",
       "4407  None    None  \n",
       "4922  None    None  "
      ]
     },
     "execution_count": 8,
     "metadata": {},
     "output_type": "execute_result"
    }
   ],
   "source": [
    "nom[nom.full_name.isnull()]"
   ]
  },
  {
   "cell_type": "markdown",
   "metadata": {},
   "source": [
    "Все null значения связаны с топливом. Название почему-то перетекло в группу. Да и с брендом все более-менее очевидно."
   ]
  },
  {
   "cell_type": "code",
   "execution_count": 9,
   "metadata": {},
   "outputs": [
    {
     "data": {
      "text/plain": [
       "УранПРОМEthereum    125\n",
       "G-Fly (СТМ)         116\n",
       "Fly Cafe             90\n",
       "Fly Cafe (СТМ)       35\n",
       "No Name              21\n",
       "G-Fly                 1\n",
       "Name: brand, dtype: int64"
      ]
     },
     "execution_count": 9,
     "metadata": {},
     "output_type": "execute_result"
    }
   ],
   "source": [
    "nom[nom.OTM == \"Да\"].brand.value_counts() # посмотрим, какие бренды есть в ОТМ"
   ]
  },
  {
   "cell_type": "markdown",
   "metadata": {},
   "source": [
    "Что-то мне это напоминает)"
   ]
  },
  {
   "cell_type": "code",
   "execution_count": 10,
   "metadata": {},
   "outputs": [],
   "source": [
    "fuels = nom[nom.full_name.isnull()].index # Исправим этот участок номенклатуры на приятный глазу"
   ]
  },
  {
   "cell_type": "code",
   "execution_count": 11,
   "metadata": {},
   "outputs": [],
   "source": [
    "for col, val in zip(['full_name', \"brand\", \"OTM\", \"units\", 'country', 'sku_group'], [nom.loc[fuels, 'sku_group'], \"УранПРОМEthereum\", \"Да\", \"л\", \"Россия\", \"Топливо\"]):\n",
    "    nom.loc[fuels, col] = val"
   ]
  },
  {
   "cell_type": "code",
   "execution_count": 12,
   "metadata": {},
   "outputs": [
    {
     "data": {
      "text/html": [
       "<div>\n",
       "<style scoped>\n",
       "    .dataframe tbody tr th:only-of-type {\n",
       "        vertical-align: middle;\n",
       "    }\n",
       "\n",
       "    .dataframe tbody tr th {\n",
       "        vertical-align: top;\n",
       "    }\n",
       "\n",
       "    .dataframe thead th {\n",
       "        text-align: right;\n",
       "    }\n",
       "</style>\n",
       "<table border=\"1\" class=\"dataframe\">\n",
       "  <thead>\n",
       "    <tr style=\"text-align: right;\">\n",
       "      <th></th>\n",
       "      <th>sku_id</th>\n",
       "      <th>full_name</th>\n",
       "      <th>brand</th>\n",
       "      <th>sku_group</th>\n",
       "      <th>OTM</th>\n",
       "      <th>units</th>\n",
       "      <th>country</th>\n",
       "    </tr>\n",
       "  </thead>\n",
       "  <tbody>\n",
       "    <tr>\n",
       "      <th>3724</th>\n",
       "      <td>1158</td>\n",
       "      <td>Ethereum 92</td>\n",
       "      <td>УранПРОМEthereum</td>\n",
       "      <td>Топливо</td>\n",
       "      <td>Да</td>\n",
       "      <td>л</td>\n",
       "      <td>Россия</td>\n",
       "    </tr>\n",
       "    <tr>\n",
       "      <th>3727</th>\n",
       "      <td>1157</td>\n",
       "      <td>Ethereum 95 бренд</td>\n",
       "      <td>УранПРОМEthereum</td>\n",
       "      <td>Топливо</td>\n",
       "      <td>Да</td>\n",
       "      <td>л</td>\n",
       "      <td>Россия</td>\n",
       "    </tr>\n",
       "    <tr>\n",
       "      <th>3728</th>\n",
       "      <td>1163</td>\n",
       "      <td>Топливо варповое с присадками летнее</td>\n",
       "      <td>УранПРОМEthereum</td>\n",
       "      <td>Топливо</td>\n",
       "      <td>Да</td>\n",
       "      <td>л</td>\n",
       "      <td>Россия</td>\n",
       "    </tr>\n",
       "    <tr>\n",
       "      <th>3771</th>\n",
       "      <td>1160</td>\n",
       "      <td>Топливо варповое зимнее</td>\n",
       "      <td>УранПРОМEthereum</td>\n",
       "      <td>Топливо</td>\n",
       "      <td>Да</td>\n",
       "      <td>л</td>\n",
       "      <td>Россия</td>\n",
       "    </tr>\n",
       "    <tr>\n",
       "      <th>3787</th>\n",
       "      <td>1159</td>\n",
       "      <td>Ethereum 95</td>\n",
       "      <td>УранПРОМEthereum</td>\n",
       "      <td>Топливо</td>\n",
       "      <td>Да</td>\n",
       "      <td>л</td>\n",
       "      <td>Россия</td>\n",
       "    </tr>\n",
       "    <tr>\n",
       "      <th>3825</th>\n",
       "      <td>1162</td>\n",
       "      <td>Топливо варповое с присадками зимнее</td>\n",
       "      <td>УранПРОМEthereum</td>\n",
       "      <td>Топливо</td>\n",
       "      <td>Да</td>\n",
       "      <td>л</td>\n",
       "      <td>Россия</td>\n",
       "    </tr>\n",
       "    <tr>\n",
       "      <th>3858</th>\n",
       "      <td>2032</td>\n",
       "      <td>Ethereum 100 бренд</td>\n",
       "      <td>УранПРОМEthereum</td>\n",
       "      <td>Топливо</td>\n",
       "      <td>Да</td>\n",
       "      <td>л</td>\n",
       "      <td>Россия</td>\n",
       "    </tr>\n",
       "    <tr>\n",
       "      <th>4407</th>\n",
       "      <td>1161</td>\n",
       "      <td>Топливо варповое летнее</td>\n",
       "      <td>УранПРОМEthereum</td>\n",
       "      <td>Топливо</td>\n",
       "      <td>Да</td>\n",
       "      <td>л</td>\n",
       "      <td>Россия</td>\n",
       "    </tr>\n",
       "    <tr>\n",
       "      <th>4922</th>\n",
       "      <td>1771</td>\n",
       "      <td>Топливо варповое с присадками межсезонное</td>\n",
       "      <td>УранПРОМEthereum</td>\n",
       "      <td>Топливо</td>\n",
       "      <td>Да</td>\n",
       "      <td>л</td>\n",
       "      <td>Россия</td>\n",
       "    </tr>\n",
       "  </tbody>\n",
       "</table>\n",
       "</div>"
      ],
      "text/plain": [
       "     sku_id                                  full_name             brand  \\\n",
       "3724   1158                                Ethereum 92  УранПРОМEthereum   \n",
       "3727   1157                          Ethereum 95 бренд  УранПРОМEthereum   \n",
       "3728   1163       Топливо варповое с присадками летнее  УранПРОМEthereum   \n",
       "3771   1160                    Топливо варповое зимнее  УранПРОМEthereum   \n",
       "3787   1159                                Ethereum 95  УранПРОМEthereum   \n",
       "3825   1162       Топливо варповое с присадками зимнее  УранПРОМEthereum   \n",
       "3858   2032                         Ethereum 100 бренд  УранПРОМEthereum   \n",
       "4407   1161                    Топливо варповое летнее  УранПРОМEthereum   \n",
       "4922   1771  Топливо варповое с присадками межсезонное  УранПРОМEthereum   \n",
       "\n",
       "     sku_group OTM units country  \n",
       "3724   Топливо  Да     л  Россия  \n",
       "3727   Топливо  Да     л  Россия  \n",
       "3728   Топливо  Да     л  Россия  \n",
       "3771   Топливо  Да     л  Россия  \n",
       "3787   Топливо  Да     л  Россия  \n",
       "3825   Топливо  Да     л  Россия  \n",
       "3858   Топливо  Да     л  Россия  \n",
       "4407   Топливо  Да     л  Россия  \n",
       "4922   Топливо  Да     л  Россия  "
      ]
     },
     "execution_count": 12,
     "metadata": {},
     "output_type": "execute_result"
    }
   ],
   "source": [
    "nom.loc[fuels] # теперь и смотреть приятно"
   ]
  },
  {
   "cell_type": "code",
   "execution_count": null,
   "metadata": {},
   "outputs": [],
   "source": []
  },
  {
   "cell_type": "code",
   "execution_count": 13,
   "metadata": {},
   "outputs": [
    {
     "name": "stdout",
     "output_type": "stream",
     "text": [
      "<class 'pandas.core.frame.DataFrame'>\n",
      "RangeIndex: 7620119 entries, 0 to 7620118\n",
      "Data columns (total 8 columns):\n",
      " #   Column     Dtype         \n",
      "---  ------     -----         \n",
      " 0   sku_id     int64         \n",
      " 1   price      float64       \n",
      " 2   number     float64       \n",
      " 3   cheque_id  int64         \n",
      " 4   litrs      float64       \n",
      " 5   client_id  float64       \n",
      " 6   shop_id    int64         \n",
      " 7   date       datetime64[ns]\n",
      "dtypes: datetime64[ns](1), float64(4), int64(3)\n",
      "memory usage: 465.1 MB\n"
     ]
    }
   ],
   "source": [
    "tran.info() # Посмотрим, что у нас с транзакциями"
   ]
  },
  {
   "cell_type": "markdown",
   "metadata": {},
   "source": [
    "sku_id, cheque_id, client_id, shop_id стоит сделать object. Кроме того есть подозрение, что в client_id есть null значения, если клиент не представился. "
   ]
  },
  {
   "cell_type": "code",
   "execution_count": 14,
   "metadata": {},
   "outputs": [
    {
     "data": {
      "text/html": [
       "<div>\n",
       "<style scoped>\n",
       "    .dataframe tbody tr th:only-of-type {\n",
       "        vertical-align: middle;\n",
       "    }\n",
       "\n",
       "    .dataframe tbody tr th {\n",
       "        vertical-align: top;\n",
       "    }\n",
       "\n",
       "    .dataframe thead th {\n",
       "        text-align: right;\n",
       "    }\n",
       "</style>\n",
       "<table border=\"1\" class=\"dataframe\">\n",
       "  <thead>\n",
       "    <tr style=\"text-align: right;\">\n",
       "      <th></th>\n",
       "      <th>sku_id</th>\n",
       "      <th>price</th>\n",
       "      <th>number</th>\n",
       "      <th>cheque_id</th>\n",
       "      <th>litrs</th>\n",
       "      <th>client_id</th>\n",
       "      <th>shop_id</th>\n",
       "      <th>date</th>\n",
       "    </tr>\n",
       "  </thead>\n",
       "  <tbody>\n",
       "    <tr>\n",
       "      <th>11</th>\n",
       "      <td>558</td>\n",
       "      <td>0.011237</td>\n",
       "      <td>0.000452</td>\n",
       "      <td>1386544</td>\n",
       "      <td>0.104183</td>\n",
       "      <td>NaN</td>\n",
       "      <td>94</td>\n",
       "      <td>2171-07-23</td>\n",
       "    </tr>\n",
       "    <tr>\n",
       "      <th>12</th>\n",
       "      <td>558</td>\n",
       "      <td>0.011237</td>\n",
       "      <td>0.000452</td>\n",
       "      <td>1386544</td>\n",
       "      <td>0.104183</td>\n",
       "      <td>NaN</td>\n",
       "      <td>94</td>\n",
       "      <td>2171-07-23</td>\n",
       "    </tr>\n",
       "    <tr>\n",
       "      <th>13</th>\n",
       "      <td>558</td>\n",
       "      <td>0.011237</td>\n",
       "      <td>0.000452</td>\n",
       "      <td>1386544</td>\n",
       "      <td>0.104183</td>\n",
       "      <td>NaN</td>\n",
       "      <td>94</td>\n",
       "      <td>2171-07-23</td>\n",
       "    </tr>\n",
       "    <tr>\n",
       "      <th>14</th>\n",
       "      <td>1158</td>\n",
       "      <td>0.002335</td>\n",
       "      <td>0.000000</td>\n",
       "      <td>2582618</td>\n",
       "      <td>0.115122</td>\n",
       "      <td>NaN</td>\n",
       "      <td>103</td>\n",
       "      <td>2171-07-23</td>\n",
       "    </tr>\n",
       "    <tr>\n",
       "      <th>16</th>\n",
       "      <td>1158</td>\n",
       "      <td>0.002335</td>\n",
       "      <td>0.000000</td>\n",
       "      <td>3338268</td>\n",
       "      <td>0.126051</td>\n",
       "      <td>NaN</td>\n",
       "      <td>102</td>\n",
       "      <td>2171-07-23</td>\n",
       "    </tr>\n",
       "    <tr>\n",
       "      <th>...</th>\n",
       "      <td>...</td>\n",
       "      <td>...</td>\n",
       "      <td>...</td>\n",
       "      <td>...</td>\n",
       "      <td>...</td>\n",
       "      <td>...</td>\n",
       "      <td>...</td>\n",
       "      <td>...</td>\n",
       "    </tr>\n",
       "    <tr>\n",
       "      <th>7620018</th>\n",
       "      <td>1159</td>\n",
       "      <td>0.002512</td>\n",
       "      <td>0.000000</td>\n",
       "      <td>2857477</td>\n",
       "      <td>0.178785</td>\n",
       "      <td>NaN</td>\n",
       "      <td>84</td>\n",
       "      <td>2171-03-01</td>\n",
       "    </tr>\n",
       "    <tr>\n",
       "      <th>7620024</th>\n",
       "      <td>1159</td>\n",
       "      <td>0.002527</td>\n",
       "      <td>0.000000</td>\n",
       "      <td>3065676</td>\n",
       "      <td>0.162203</td>\n",
       "      <td>NaN</td>\n",
       "      <td>59</td>\n",
       "      <td>2171-03-01</td>\n",
       "    </tr>\n",
       "    <tr>\n",
       "      <th>7620068</th>\n",
       "      <td>1159</td>\n",
       "      <td>0.002512</td>\n",
       "      <td>0.000000</td>\n",
       "      <td>3289504</td>\n",
       "      <td>0.141997</td>\n",
       "      <td>NaN</td>\n",
       "      <td>102</td>\n",
       "      <td>2171-03-01</td>\n",
       "    </tr>\n",
       "    <tr>\n",
       "      <th>7620080</th>\n",
       "      <td>1159</td>\n",
       "      <td>0.002496</td>\n",
       "      <td>0.000000</td>\n",
       "      <td>2311572</td>\n",
       "      <td>0.160321</td>\n",
       "      <td>NaN</td>\n",
       "      <td>99</td>\n",
       "      <td>2171-03-01</td>\n",
       "    </tr>\n",
       "    <tr>\n",
       "      <th>7620081</th>\n",
       "      <td>1159</td>\n",
       "      <td>0.002532</td>\n",
       "      <td>0.000000</td>\n",
       "      <td>2974092</td>\n",
       "      <td>0.152219</td>\n",
       "      <td>NaN</td>\n",
       "      <td>73</td>\n",
       "      <td>2171-03-01</td>\n",
       "    </tr>\n",
       "  </tbody>\n",
       "</table>\n",
       "<p>3772355 rows × 8 columns</p>\n",
       "</div>"
      ],
      "text/plain": [
       "         sku_id     price    number  cheque_id     litrs  client_id  shop_id  \\\n",
       "11          558  0.011237  0.000452    1386544  0.104183        NaN       94   \n",
       "12          558  0.011237  0.000452    1386544  0.104183        NaN       94   \n",
       "13          558  0.011237  0.000452    1386544  0.104183        NaN       94   \n",
       "14         1158  0.002335  0.000000    2582618  0.115122        NaN      103   \n",
       "16         1158  0.002335  0.000000    3338268  0.126051        NaN      102   \n",
       "...         ...       ...       ...        ...       ...        ...      ...   \n",
       "7620018    1159  0.002512  0.000000    2857477  0.178785        NaN       84   \n",
       "7620024    1159  0.002527  0.000000    3065676  0.162203        NaN       59   \n",
       "7620068    1159  0.002512  0.000000    3289504  0.141997        NaN      102   \n",
       "7620080    1159  0.002496  0.000000    2311572  0.160321        NaN       99   \n",
       "7620081    1159  0.002532  0.000000    2974092  0.152219        NaN       73   \n",
       "\n",
       "              date  \n",
       "11      2171-07-23  \n",
       "12      2171-07-23  \n",
       "13      2171-07-23  \n",
       "14      2171-07-23  \n",
       "16      2171-07-23  \n",
       "...            ...  \n",
       "7620018 2171-03-01  \n",
       "7620024 2171-03-01  \n",
       "7620068 2171-03-01  \n",
       "7620080 2171-03-01  \n",
       "7620081 2171-03-01  \n",
       "\n",
       "[3772355 rows x 8 columns]"
      ]
     },
     "execution_count": 14,
     "metadata": {},
     "output_type": "execute_result"
    }
   ],
   "source": [
    "tran[tran.client_id.isnull()] # Проверим подозрение"
   ]
  },
  {
   "cell_type": "code",
   "execution_count": 15,
   "metadata": {},
   "outputs": [],
   "source": [
    "tran.sku_id = tran.sku_id.astype(object)\n",
    "tran.cheque_id = tran.cheque_id.astype(object)\n",
    "tran.shop_id = tran.shop_id.astype(object)"
   ]
  },
  {
   "cell_type": "code",
   "execution_count": 16,
   "metadata": {},
   "outputs": [],
   "source": [
    "tran.loc[tran.client_id.isnull(), \"client_id\"] = -1 # Запишем -1, если клиент не представился\n",
    "tran.client_id = tran.client_id.astype(object)"
   ]
  },
  {
   "cell_type": "code",
   "execution_count": 17,
   "metadata": {},
   "outputs": [
    {
     "name": "stdout",
     "output_type": "stream",
     "text": [
      "<class 'pandas.core.frame.DataFrame'>\n",
      "RangeIndex: 7620119 entries, 0 to 7620118\n",
      "Data columns (total 8 columns):\n",
      " #   Column     Dtype         \n",
      "---  ------     -----         \n",
      " 0   sku_id     object        \n",
      " 1   price      float64       \n",
      " 2   number     float64       \n",
      " 3   cheque_id  object        \n",
      " 4   litrs      float64       \n",
      " 5   client_id  object        \n",
      " 6   shop_id    object        \n",
      " 7   date       datetime64[ns]\n",
      "dtypes: datetime64[ns](1), float64(3), object(4)\n",
      "memory usage: 465.1+ MB\n"
     ]
    }
   ],
   "source": [
    "tran.info() # Уже выглядит лучше!"
   ]
  },
  {
   "cell_type": "code",
   "execution_count": 18,
   "metadata": {},
   "outputs": [
    {
     "data": {
      "text/html": [
       "<div>\n",
       "<style scoped>\n",
       "    .dataframe tbody tr th:only-of-type {\n",
       "        vertical-align: middle;\n",
       "    }\n",
       "\n",
       "    .dataframe tbody tr th {\n",
       "        vertical-align: top;\n",
       "    }\n",
       "\n",
       "    .dataframe thead th {\n",
       "        text-align: right;\n",
       "    }\n",
       "</style>\n",
       "<table border=\"1\" class=\"dataframe\">\n",
       "  <thead>\n",
       "    <tr style=\"text-align: right;\">\n",
       "      <th></th>\n",
       "      <th>price</th>\n",
       "      <th>number</th>\n",
       "      <th>litrs</th>\n",
       "    </tr>\n",
       "  </thead>\n",
       "  <tbody>\n",
       "    <tr>\n",
       "      <th>count</th>\n",
       "      <td>7.620119e+06</td>\n",
       "      <td>7.620119e+06</td>\n",
       "      <td>7.620119e+06</td>\n",
       "    </tr>\n",
       "    <tr>\n",
       "      <th>mean</th>\n",
       "      <td>6.422721e-03</td>\n",
       "      <td>3.887713e-04</td>\n",
       "      <td>1.125244e-01</td>\n",
       "    </tr>\n",
       "    <tr>\n",
       "      <th>std</th>\n",
       "      <td>7.003628e-03</td>\n",
       "      <td>2.233106e-03</td>\n",
       "      <td>1.750252e-02</td>\n",
       "    </tr>\n",
       "    <tr>\n",
       "      <th>min</th>\n",
       "      <td>0.000000e+00</td>\n",
       "      <td>0.000000e+00</td>\n",
       "      <td>0.000000e+00</td>\n",
       "    </tr>\n",
       "    <tr>\n",
       "      <th>25%</th>\n",
       "      <td>2.770652e-03</td>\n",
       "      <td>4.522493e-04</td>\n",
       "      <td>1.041835e-01</td>\n",
       "    </tr>\n",
       "    <tr>\n",
       "      <th>50%</th>\n",
       "      <td>6.105695e-03</td>\n",
       "      <td>4.522493e-04</td>\n",
       "      <td>1.041835e-01</td>\n",
       "    </tr>\n",
       "    <tr>\n",
       "      <th>75%</th>\n",
       "      <td>8.671113e-03</td>\n",
       "      <td>4.522493e-04</td>\n",
       "      <td>1.041835e-01</td>\n",
       "    </tr>\n",
       "    <tr>\n",
       "      <th>max</th>\n",
       "      <td>1.000000e+00</td>\n",
       "      <td>1.000000e+00</td>\n",
       "      <td>1.000000e+00</td>\n",
       "    </tr>\n",
       "  </tbody>\n",
       "</table>\n",
       "</div>"
      ],
      "text/plain": [
       "              price        number         litrs\n",
       "count  7.620119e+06  7.620119e+06  7.620119e+06\n",
       "mean   6.422721e-03  3.887713e-04  1.125244e-01\n",
       "std    7.003628e-03  2.233106e-03  1.750252e-02\n",
       "min    0.000000e+00  0.000000e+00  0.000000e+00\n",
       "25%    2.770652e-03  4.522493e-04  1.041835e-01\n",
       "50%    6.105695e-03  4.522493e-04  1.041835e-01\n",
       "75%    8.671113e-03  4.522493e-04  1.041835e-01\n",
       "max    1.000000e+00  1.000000e+00  1.000000e+00"
      ]
     },
     "execution_count": 18,
     "metadata": {},
     "output_type": "execute_result"
    }
   ],
   "source": [
    "tran.describe() # Посмотрим на характеристики транзакций"
   ]
  },
  {
   "cell_type": "markdown",
   "metadata": {},
   "source": [
    "Очень интересно: все значения находятся в интервале от 0 до 1. Если такую цену можно объяснить деноменацией, а такие  литры тем, что варпового топлива надо совсем мало, то количество не поддается объяснению. Наверное, с этим стоит что-то сделать. Но для начала посмотрим на отдельные чеки."
   ]
  },
  {
   "cell_type": "code",
   "execution_count": 19,
   "metadata": {},
   "outputs": [],
   "source": [
    "def show_cheque(id): # функция для удобства\n",
    "    '''Позволяет смотреть чек или чеки целиком без технической информации'''\n",
    "    if type(id) == int: id = [id]\n",
    "    return tran[tran.cheque_id.isin(\n",
    "        id)].merge(nom, on=\"sku_id\")[['cheque_id','client_id', \"shop_id\", \n",
    "                                         \"full_name\", \"price\", \"number\", \"litrs\"]].sort_values('cheque_id')"
   ]
  },
  {
   "cell_type": "code",
   "execution_count": 20,
   "metadata": {},
   "outputs": [
    {
     "data": {
      "text/html": [
       "<div>\n",
       "<style scoped>\n",
       "    .dataframe tbody tr th:only-of-type {\n",
       "        vertical-align: middle;\n",
       "    }\n",
       "\n",
       "    .dataframe tbody tr th {\n",
       "        vertical-align: top;\n",
       "    }\n",
       "\n",
       "    .dataframe thead th {\n",
       "        text-align: right;\n",
       "    }\n",
       "</style>\n",
       "<table border=\"1\" class=\"dataframe\">\n",
       "  <thead>\n",
       "    <tr style=\"text-align: right;\">\n",
       "      <th></th>\n",
       "      <th>cheque_id</th>\n",
       "      <th>client_id</th>\n",
       "      <th>shop_id</th>\n",
       "      <th>full_name</th>\n",
       "      <th>price</th>\n",
       "      <th>number</th>\n",
       "      <th>litrs</th>\n",
       "    </tr>\n",
       "  </thead>\n",
       "  <tbody>\n",
       "    <tr>\n",
       "      <th>0</th>\n",
       "      <td>0</td>\n",
       "      <td>82752</td>\n",
       "      <td>5</td>\n",
       "      <td>Сок Я апельсин ст 0,2л</td>\n",
       "      <td>0.004566</td>\n",
       "      <td>0.000452</td>\n",
       "      <td>0.104183</td>\n",
       "    </tr>\n",
       "    <tr>\n",
       "      <th>1</th>\n",
       "      <td>0</td>\n",
       "      <td>82752</td>\n",
       "      <td>5</td>\n",
       "      <td>Ethereum 95</td>\n",
       "      <td>0.002517</td>\n",
       "      <td>0.000000</td>\n",
       "      <td>0.147690</td>\n",
       "    </tr>\n",
       "  </tbody>\n",
       "</table>\n",
       "</div>"
      ],
      "text/plain": [
       "  cheque_id client_id shop_id               full_name     price    number  \\\n",
       "0         0     82752       5  Сок Я апельсин ст 0,2л  0.004566  0.000452   \n",
       "1         0     82752       5             Ethereum 95  0.002517  0.000000   \n",
       "\n",
       "      litrs  \n",
       "0  0.104183  \n",
       "1  0.147690  "
      ]
     },
     "execution_count": 20,
     "metadata": {},
     "output_type": "execute_result"
    }
   ],
   "source": [
    "show_cheque(0) # смотрим, как все работает"
   ]
  },
  {
   "cell_type": "code",
   "execution_count": 21,
   "metadata": {},
   "outputs": [
    {
     "data": {
      "text/html": [
       "<div>\n",
       "<style scoped>\n",
       "    .dataframe tbody tr th:only-of-type {\n",
       "        vertical-align: middle;\n",
       "    }\n",
       "\n",
       "    .dataframe tbody tr th {\n",
       "        vertical-align: top;\n",
       "    }\n",
       "\n",
       "    .dataframe thead th {\n",
       "        text-align: right;\n",
       "    }\n",
       "</style>\n",
       "<table border=\"1\" class=\"dataframe\">\n",
       "  <thead>\n",
       "    <tr style=\"text-align: right;\">\n",
       "      <th></th>\n",
       "      <th>cheque_id</th>\n",
       "      <th>client_id</th>\n",
       "      <th>shop_id</th>\n",
       "      <th>full_name</th>\n",
       "      <th>price</th>\n",
       "      <th>number</th>\n",
       "      <th>litrs</th>\n",
       "    </tr>\n",
       "  </thead>\n",
       "  <tbody>\n",
       "    <tr>\n",
       "      <th>0</th>\n",
       "      <td>1</td>\n",
       "      <td>-1</td>\n",
       "      <td>5</td>\n",
       "      <td>Пирожок Fly Cafe яблоки дефрост 70г</td>\n",
       "      <td>0.010210</td>\n",
       "      <td>0.000452</td>\n",
       "      <td>0.104183</td>\n",
       "    </tr>\n",
       "    <tr>\n",
       "      <th>1</th>\n",
       "      <td>1</td>\n",
       "      <td>-1</td>\n",
       "      <td>5</td>\n",
       "      <td>Палочки IQOS для чистки электронных сигарет 10шт</td>\n",
       "      <td>0.010723</td>\n",
       "      <td>0.000452</td>\n",
       "      <td>0.104183</td>\n",
       "    </tr>\n",
       "    <tr>\n",
       "      <th>2</th>\n",
       "      <td>1</td>\n",
       "      <td>-1</td>\n",
       "      <td>5</td>\n",
       "      <td>Палочки IQOS для чистки электронных сигарет 10шт</td>\n",
       "      <td>0.010723</td>\n",
       "      <td>0.000452</td>\n",
       "      <td>0.104183</td>\n",
       "    </tr>\n",
       "    <tr>\n",
       "      <th>8</th>\n",
       "      <td>1</td>\n",
       "      <td>-1</td>\n",
       "      <td>5</td>\n",
       "      <td>Попкорн Fly Cafe (СТМ)/G-Fly сладкий стакан 160г</td>\n",
       "      <td>0.004053</td>\n",
       "      <td>0.000452</td>\n",
       "      <td>0.104183</td>\n",
       "    </tr>\n",
       "    <tr>\n",
       "      <th>3</th>\n",
       "      <td>6</td>\n",
       "      <td>-1</td>\n",
       "      <td>5</td>\n",
       "      <td>Напиток FOCO молочный кокосовый тетра пак 0,33л</td>\n",
       "      <td>0.004361</td>\n",
       "      <td>0.000452</td>\n",
       "      <td>0.104183</td>\n",
       "    </tr>\n",
       "    <tr>\n",
       "      <th>4</th>\n",
       "      <td>6</td>\n",
       "      <td>-1</td>\n",
       "      <td>5</td>\n",
       "      <td>Напиток FOCO молочный кокосовый тетра пак 0,33л</td>\n",
       "      <td>0.004361</td>\n",
       "      <td>0.000452</td>\n",
       "      <td>0.104183</td>\n",
       "    </tr>\n",
       "    <tr>\n",
       "      <th>5</th>\n",
       "      <td>6</td>\n",
       "      <td>-1</td>\n",
       "      <td>5</td>\n",
       "      <td>Френч-дог Fly Cafe сосиска бекон 198г</td>\n",
       "      <td>0.007645</td>\n",
       "      <td>0.000452</td>\n",
       "      <td>0.104183</td>\n",
       "    </tr>\n",
       "    <tr>\n",
       "      <th>6</th>\n",
       "      <td>6</td>\n",
       "      <td>-1</td>\n",
       "      <td>5</td>\n",
       "      <td>Френч-дог Fly Cafe сосиска бекон 198г</td>\n",
       "      <td>0.007645</td>\n",
       "      <td>0.000452</td>\n",
       "      <td>0.104183</td>\n",
       "    </tr>\n",
       "    <tr>\n",
       "      <th>7</th>\n",
       "      <td>6</td>\n",
       "      <td>-1</td>\n",
       "      <td>5</td>\n",
       "      <td>Френч-дог Fly Cafe сосиска бекон 198г</td>\n",
       "      <td>0.007645</td>\n",
       "      <td>0.000452</td>\n",
       "      <td>0.104183</td>\n",
       "    </tr>\n",
       "  </tbody>\n",
       "</table>\n",
       "</div>"
      ],
      "text/plain": [
       "  cheque_id client_id shop_id  \\\n",
       "0         1        -1       5   \n",
       "1         1        -1       5   \n",
       "2         1        -1       5   \n",
       "8         1        -1       5   \n",
       "3         6        -1       5   \n",
       "4         6        -1       5   \n",
       "5         6        -1       5   \n",
       "6         6        -1       5   \n",
       "7         6        -1       5   \n",
       "\n",
       "                                          full_name     price    number  \\\n",
       "0               Пирожок Fly Cafe яблоки дефрост 70г  0.010210  0.000452   \n",
       "1  Палочки IQOS для чистки электронных сигарет 10шт  0.010723  0.000452   \n",
       "2  Палочки IQOS для чистки электронных сигарет 10шт  0.010723  0.000452   \n",
       "8  Попкорн Fly Cafe (СТМ)/G-Fly сладкий стакан 160г  0.004053  0.000452   \n",
       "3   Напиток FOCO молочный кокосовый тетра пак 0,33л  0.004361  0.000452   \n",
       "4   Напиток FOCO молочный кокосовый тетра пак 0,33л  0.004361  0.000452   \n",
       "5             Френч-дог Fly Cafe сосиска бекон 198г  0.007645  0.000452   \n",
       "6             Френч-дог Fly Cafe сосиска бекон 198г  0.007645  0.000452   \n",
       "7             Френч-дог Fly Cafe сосиска бекон 198г  0.007645  0.000452   \n",
       "\n",
       "      litrs  \n",
       "0  0.104183  \n",
       "1  0.104183  \n",
       "2  0.104183  \n",
       "8  0.104183  \n",
       "3  0.104183  \n",
       "4  0.104183  \n",
       "5  0.104183  \n",
       "6  0.104183  \n",
       "7  0.104183  "
      ]
     },
     "execution_count": 21,
     "metadata": {},
     "output_type": "execute_result"
    }
   ],
   "source": [
    "show_cheque([1, 6])"
   ]
  },
  {
   "cell_type": "markdown",
   "metadata": {},
   "source": [
    "Выводы: В таблице много повторов (не совсем понятно, это ошибочные повторы или покупка товаров по одному), литры совсем не нулевые при покупке не топлива, в графе number значения повторяются очень часто, скорее всего это единица, но это еще надо проверить!"
   ]
  },
  {
   "cell_type": "code",
   "execution_count": 22,
   "metadata": {},
   "outputs": [],
   "source": [
    "tran = tran.drop_duplicates() # Предположим, что это ошибки регистрации и удалим повторы"
   ]
  },
  {
   "cell_type": "code",
   "execution_count": 23,
   "metadata": {},
   "outputs": [
    {
     "data": {
      "text/plain": [
       "(6800919, 8)"
      ]
     },
     "execution_count": 23,
     "metadata": {},
     "output_type": "execute_result"
    }
   ],
   "source": [
    "tran.shape"
   ]
  },
  {
   "cell_type": "code",
   "execution_count": 24,
   "metadata": {},
   "outputs": [
    {
     "data": {
      "text/html": [
       "<div>\n",
       "<style scoped>\n",
       "    .dataframe tbody tr th:only-of-type {\n",
       "        vertical-align: middle;\n",
       "    }\n",
       "\n",
       "    .dataframe tbody tr th {\n",
       "        vertical-align: top;\n",
       "    }\n",
       "\n",
       "    .dataframe thead th {\n",
       "        text-align: right;\n",
       "    }\n",
       "</style>\n",
       "<table border=\"1\" class=\"dataframe\">\n",
       "  <thead>\n",
       "    <tr style=\"text-align: right;\">\n",
       "      <th></th>\n",
       "      <th>cheque_id</th>\n",
       "      <th>client_id</th>\n",
       "      <th>shop_id</th>\n",
       "      <th>full_name</th>\n",
       "      <th>price</th>\n",
       "      <th>number</th>\n",
       "      <th>litrs</th>\n",
       "    </tr>\n",
       "  </thead>\n",
       "  <tbody>\n",
       "    <tr>\n",
       "      <th>3</th>\n",
       "      <td>0</td>\n",
       "      <td>82752</td>\n",
       "      <td>5</td>\n",
       "      <td>Сок Я апельсин ст 0,2л</td>\n",
       "      <td>0.004566</td>\n",
       "      <td>0.000452</td>\n",
       "      <td>0.104183</td>\n",
       "    </tr>\n",
       "    <tr>\n",
       "      <th>4</th>\n",
       "      <td>0</td>\n",
       "      <td>82752</td>\n",
       "      <td>5</td>\n",
       "      <td>Ethereum 95</td>\n",
       "      <td>0.002517</td>\n",
       "      <td>0.000000</td>\n",
       "      <td>0.147690</td>\n",
       "    </tr>\n",
       "    <tr>\n",
       "      <th>0</th>\n",
       "      <td>1</td>\n",
       "      <td>-1</td>\n",
       "      <td>5</td>\n",
       "      <td>Пирожок Fly Cafe яблоки дефрост 70г</td>\n",
       "      <td>0.010210</td>\n",
       "      <td>0.000452</td>\n",
       "      <td>0.104183</td>\n",
       "    </tr>\n",
       "    <tr>\n",
       "      <th>1</th>\n",
       "      <td>1</td>\n",
       "      <td>-1</td>\n",
       "      <td>5</td>\n",
       "      <td>Палочки IQOS для чистки электронных сигарет 10шт</td>\n",
       "      <td>0.010723</td>\n",
       "      <td>0.000452</td>\n",
       "      <td>0.104183</td>\n",
       "    </tr>\n",
       "    <tr>\n",
       "      <th>6</th>\n",
       "      <td>1</td>\n",
       "      <td>-1</td>\n",
       "      <td>5</td>\n",
       "      <td>Попкорн Fly Cafe (СТМ)/G-Fly сладкий стакан 160г</td>\n",
       "      <td>0.004053</td>\n",
       "      <td>0.000452</td>\n",
       "      <td>0.104183</td>\n",
       "    </tr>\n",
       "    <tr>\n",
       "      <th>2</th>\n",
       "      <td>6</td>\n",
       "      <td>-1</td>\n",
       "      <td>5</td>\n",
       "      <td>Напиток FOCO молочный кокосовый тетра пак 0,33л</td>\n",
       "      <td>0.004361</td>\n",
       "      <td>0.000452</td>\n",
       "      <td>0.104183</td>\n",
       "    </tr>\n",
       "    <tr>\n",
       "      <th>5</th>\n",
       "      <td>6</td>\n",
       "      <td>-1</td>\n",
       "      <td>5</td>\n",
       "      <td>Френч-дог Fly Cafe сосиска бекон 198г</td>\n",
       "      <td>0.007645</td>\n",
       "      <td>0.000452</td>\n",
       "      <td>0.104183</td>\n",
       "    </tr>\n",
       "  </tbody>\n",
       "</table>\n",
       "</div>"
      ],
      "text/plain": [
       "  cheque_id client_id shop_id  \\\n",
       "3         0     82752       5   \n",
       "4         0     82752       5   \n",
       "0         1        -1       5   \n",
       "1         1        -1       5   \n",
       "6         1        -1       5   \n",
       "2         6        -1       5   \n",
       "5         6        -1       5   \n",
       "\n",
       "                                          full_name     price    number  \\\n",
       "3                            Сок Я апельсин ст 0,2л  0.004566  0.000452   \n",
       "4                                       Ethereum 95  0.002517  0.000000   \n",
       "0               Пирожок Fly Cafe яблоки дефрост 70г  0.010210  0.000452   \n",
       "1  Палочки IQOS для чистки электронных сигарет 10шт  0.010723  0.000452   \n",
       "6  Попкорн Fly Cafe (СТМ)/G-Fly сладкий стакан 160г  0.004053  0.000452   \n",
       "2   Напиток FOCO молочный кокосовый тетра пак 0,33л  0.004361  0.000452   \n",
       "5             Френч-дог Fly Cafe сосиска бекон 198г  0.007645  0.000452   \n",
       "\n",
       "      litrs  \n",
       "3  0.104183  \n",
       "4  0.147690  \n",
       "0  0.104183  \n",
       "1  0.104183  \n",
       "6  0.104183  \n",
       "2  0.104183  \n",
       "5  0.104183  "
      ]
     },
     "execution_count": 24,
     "metadata": {},
     "output_type": "execute_result"
    }
   ],
   "source": [
    "show_cheque([0, 1, 6])"
   ]
  },
  {
   "cell_type": "markdown",
   "metadata": {},
   "source": [
    "##### Займемся числовыми значениями"
   ]
  },
  {
   "cell_type": "code",
   "execution_count": 25,
   "metadata": {},
   "outputs": [
    {
     "data": {
      "text/plain": [
       "0.000452    4539178\n",
       "0.000000    1825168\n",
       "0.000904     379214\n",
       "0.001357      31768\n",
       "0.001809      13149\n",
       "             ...   \n",
       "0.001976          1\n",
       "0.001710          1\n",
       "0.000104          1\n",
       "0.003342          1\n",
       "0.112701          1\n",
       "Name: number, Length: 957, dtype: int64"
      ]
     },
     "execution_count": 25,
     "metadata": {},
     "output_type": "execute_result"
    }
   ],
   "source": [
    "tran.number.value_counts() # посмотрим на частоту значений в number "
   ]
  },
  {
   "cell_type": "markdown",
   "metadata": {},
   "source": [
    "По всей видимости 0.000452 это единица, 0.000904 двойка, а 0.001357 тройка, потому что наиболее часто берут от одного до трех штук в магазине. Так как количество масштабировано от 0 до 1, значит все значения разделили на какое-то большое значение. Проверим, так ли это, разделив ряд на 0.000452."
   ]
  },
  {
   "cell_type": "code",
   "execution_count": 26,
   "metadata": {},
   "outputs": [
    {
     "data": {
      "text/plain": [
       "1.00      4539178\n",
       "0.00      1825168\n",
       "2.00       379214\n",
       "3.00        31768\n",
       "4.00        13149\n",
       "           ...   \n",
       "135.16          1\n",
       "5.48            1\n",
       "1.68            1\n",
       "274.85          1\n",
       "156.33          1\n",
       "Name: number, Length: 636, dtype: int64"
      ]
     },
     "execution_count": 26,
     "metadata": {},
     "output_type": "execute_result"
    }
   ],
   "source": [
    "(tran.number/0.000452).round(decimals=2).value_counts() # результат очень похож на правду"
   ]
  },
  {
   "cell_type": "code",
   "execution_count": 27,
   "metadata": {},
   "outputs": [],
   "source": [
    "tran.number = (tran.number/0.000452).round(decimals=3)"
   ]
  },
  {
   "cell_type": "code",
   "execution_count": 28,
   "metadata": {},
   "outputs": [
    {
     "data": {
      "text/html": [
       "<div>\n",
       "<style scoped>\n",
       "    .dataframe tbody tr th:only-of-type {\n",
       "        vertical-align: middle;\n",
       "    }\n",
       "\n",
       "    .dataframe tbody tr th {\n",
       "        vertical-align: top;\n",
       "    }\n",
       "\n",
       "    .dataframe thead th {\n",
       "        text-align: right;\n",
       "    }\n",
       "</style>\n",
       "<table border=\"1\" class=\"dataframe\">\n",
       "  <thead>\n",
       "    <tr style=\"text-align: right;\">\n",
       "      <th></th>\n",
       "      <th>sku_id</th>\n",
       "      <th>price</th>\n",
       "      <th>number</th>\n",
       "      <th>cheque_id</th>\n",
       "      <th>litrs</th>\n",
       "      <th>client_id</th>\n",
       "      <th>shop_id</th>\n",
       "      <th>date</th>\n",
       "    </tr>\n",
       "  </thead>\n",
       "  <tbody>\n",
       "    <tr>\n",
       "      <th>0</th>\n",
       "      <td>1158</td>\n",
       "      <td>0.002335</td>\n",
       "      <td>0.000</td>\n",
       "      <td>3338297</td>\n",
       "      <td>0.147929</td>\n",
       "      <td>78634</td>\n",
       "      <td>102</td>\n",
       "      <td>2171-07-23</td>\n",
       "    </tr>\n",
       "    <tr>\n",
       "      <th>1</th>\n",
       "      <td>1158</td>\n",
       "      <td>0.002317</td>\n",
       "      <td>0.000</td>\n",
       "      <td>3386107</td>\n",
       "      <td>0.134562</td>\n",
       "      <td>20900</td>\n",
       "      <td>101</td>\n",
       "      <td>2171-07-23</td>\n",
       "    </tr>\n",
       "    <tr>\n",
       "      <th>2</th>\n",
       "      <td>1913</td>\n",
       "      <td>0.007850</td>\n",
       "      <td>1.001</td>\n",
       "      <td>1845331</td>\n",
       "      <td>0.104183</td>\n",
       "      <td>96397</td>\n",
       "      <td>36</td>\n",
       "      <td>2171-07-23</td>\n",
       "    </tr>\n",
       "    <tr>\n",
       "      <th>3</th>\n",
       "      <td>1808</td>\n",
       "      <td>0.008979</td>\n",
       "      <td>1.001</td>\n",
       "      <td>2256499</td>\n",
       "      <td>0.104183</td>\n",
       "      <td>103560</td>\n",
       "      <td>89</td>\n",
       "      <td>2171-07-23</td>\n",
       "    </tr>\n",
       "    <tr>\n",
       "      <th>4</th>\n",
       "      <td>1158</td>\n",
       "      <td>0.002355</td>\n",
       "      <td>0.000</td>\n",
       "      <td>3257281</td>\n",
       "      <td>0.115023</td>\n",
       "      <td>67691</td>\n",
       "      <td>58</td>\n",
       "      <td>2171-07-23</td>\n",
       "    </tr>\n",
       "    <tr>\n",
       "      <th>...</th>\n",
       "      <td>...</td>\n",
       "      <td>...</td>\n",
       "      <td>...</td>\n",
       "      <td>...</td>\n",
       "      <td>...</td>\n",
       "      <td>...</td>\n",
       "      <td>...</td>\n",
       "      <td>...</td>\n",
       "    </tr>\n",
       "    <tr>\n",
       "      <th>7620114</th>\n",
       "      <td>1159</td>\n",
       "      <td>0.002496</td>\n",
       "      <td>0.000</td>\n",
       "      <td>2262516</td>\n",
       "      <td>0.114416</td>\n",
       "      <td>83585</td>\n",
       "      <td>96</td>\n",
       "      <td>2171-03-01</td>\n",
       "    </tr>\n",
       "    <tr>\n",
       "      <th>7620115</th>\n",
       "      <td>1159</td>\n",
       "      <td>0.002512</td>\n",
       "      <td>0.000</td>\n",
       "      <td>2857410</td>\n",
       "      <td>0.145132</td>\n",
       "      <td>54793</td>\n",
       "      <td>84</td>\n",
       "      <td>2171-03-01</td>\n",
       "    </tr>\n",
       "    <tr>\n",
       "      <th>7620116</th>\n",
       "      <td>1159</td>\n",
       "      <td>0.002522</td>\n",
       "      <td>0.000</td>\n",
       "      <td>1814506</td>\n",
       "      <td>0.134552</td>\n",
       "      <td>159580</td>\n",
       "      <td>36</td>\n",
       "      <td>2171-03-01</td>\n",
       "    </tr>\n",
       "    <tr>\n",
       "      <th>7620117</th>\n",
       "      <td>1159</td>\n",
       "      <td>0.002496</td>\n",
       "      <td>0.000</td>\n",
       "      <td>2262671</td>\n",
       "      <td>0.114416</td>\n",
       "      <td>159383</td>\n",
       "      <td>96</td>\n",
       "      <td>2171-03-01</td>\n",
       "    </tr>\n",
       "    <tr>\n",
       "      <th>7620118</th>\n",
       "      <td>1158</td>\n",
       "      <td>0.002270</td>\n",
       "      <td>0.000</td>\n",
       "      <td>1764664</td>\n",
       "      <td>0.159197</td>\n",
       "      <td>192548</td>\n",
       "      <td>77</td>\n",
       "      <td>2171-03-01</td>\n",
       "    </tr>\n",
       "  </tbody>\n",
       "</table>\n",
       "<p>6800919 rows × 8 columns</p>\n",
       "</div>"
      ],
      "text/plain": [
       "        sku_id     price  number cheque_id     litrs client_id shop_id  \\\n",
       "0         1158  0.002335   0.000   3338297  0.147929     78634     102   \n",
       "1         1158  0.002317   0.000   3386107  0.134562     20900     101   \n",
       "2         1913  0.007850   1.001   1845331  0.104183     96397      36   \n",
       "3         1808  0.008979   1.001   2256499  0.104183    103560      89   \n",
       "4         1158  0.002355   0.000   3257281  0.115023     67691      58   \n",
       "...        ...       ...     ...       ...       ...       ...     ...   \n",
       "7620114   1159  0.002496   0.000   2262516  0.114416     83585      96   \n",
       "7620115   1159  0.002512   0.000   2857410  0.145132     54793      84   \n",
       "7620116   1159  0.002522   0.000   1814506  0.134552    159580      36   \n",
       "7620117   1159  0.002496   0.000   2262671  0.114416    159383      96   \n",
       "7620118   1158  0.002270   0.000   1764664  0.159197    192548      77   \n",
       "\n",
       "              date  \n",
       "0       2171-07-23  \n",
       "1       2171-07-23  \n",
       "2       2171-07-23  \n",
       "3       2171-07-23  \n",
       "4       2171-07-23  \n",
       "...            ...  \n",
       "7620114 2171-03-01  \n",
       "7620115 2171-03-01  \n",
       "7620116 2171-03-01  \n",
       "7620117 2171-03-01  \n",
       "7620118 2171-03-01  \n",
       "\n",
       "[6800919 rows x 8 columns]"
      ]
     },
     "execution_count": 28,
     "metadata": {},
     "output_type": "execute_result"
    }
   ],
   "source": [
    "tran"
   ]
  },
  {
   "cell_type": "code",
   "execution_count": 29,
   "metadata": {},
   "outputs": [
    {
     "data": {
      "text/html": [
       "<div>\n",
       "<style scoped>\n",
       "    .dataframe tbody tr th:only-of-type {\n",
       "        vertical-align: middle;\n",
       "    }\n",
       "\n",
       "    .dataframe tbody tr th {\n",
       "        vertical-align: top;\n",
       "    }\n",
       "\n",
       "    .dataframe thead th {\n",
       "        text-align: right;\n",
       "    }\n",
       "</style>\n",
       "<table border=\"1\" class=\"dataframe\">\n",
       "  <thead>\n",
       "    <tr style=\"text-align: right;\">\n",
       "      <th></th>\n",
       "      <th>sku_id</th>\n",
       "      <th>price</th>\n",
       "      <th>number</th>\n",
       "      <th>cheque_id</th>\n",
       "      <th>litrs</th>\n",
       "      <th>client_id</th>\n",
       "      <th>shop_id</th>\n",
       "      <th>date</th>\n",
       "      <th>full_name</th>\n",
       "      <th>brand</th>\n",
       "      <th>sku_group</th>\n",
       "      <th>OTM</th>\n",
       "      <th>units</th>\n",
       "      <th>country</th>\n",
       "    </tr>\n",
       "  </thead>\n",
       "  <tbody>\n",
       "    <tr>\n",
       "      <th>0</th>\n",
       "      <td>3989</td>\n",
       "      <td>0.035403</td>\n",
       "      <td>0.434</td>\n",
       "      <td>2684295</td>\n",
       "      <td>0.104183</td>\n",
       "      <td>-1</td>\n",
       "      <td>79</td>\n",
       "      <td>2171-07-31</td>\n",
       "      <td>unknown</td>\n",
       "      <td>unknown</td>\n",
       "      <td>Общественное питание</td>\n",
       "      <td>unknown</td>\n",
       "      <td>unknown</td>\n",
       "      <td>unknown</td>\n",
       "    </tr>\n",
       "    <tr>\n",
       "      <th>1</th>\n",
       "      <td>3989</td>\n",
       "      <td>0.035403</td>\n",
       "      <td>0.256</td>\n",
       "      <td>2684212</td>\n",
       "      <td>0.104183</td>\n",
       "      <td>-1</td>\n",
       "      <td>79</td>\n",
       "      <td>2171-07-31</td>\n",
       "      <td>unknown</td>\n",
       "      <td>unknown</td>\n",
       "      <td>Общественное питание</td>\n",
       "      <td>unknown</td>\n",
       "      <td>unknown</td>\n",
       "      <td>unknown</td>\n",
       "    </tr>\n",
       "    <tr>\n",
       "      <th>2</th>\n",
       "      <td>3989</td>\n",
       "      <td>0.035403</td>\n",
       "      <td>0.374</td>\n",
       "      <td>2684171</td>\n",
       "      <td>0.104183</td>\n",
       "      <td>125628</td>\n",
       "      <td>79</td>\n",
       "      <td>2171-07-30</td>\n",
       "      <td>unknown</td>\n",
       "      <td>unknown</td>\n",
       "      <td>Общественное питание</td>\n",
       "      <td>unknown</td>\n",
       "      <td>unknown</td>\n",
       "      <td>unknown</td>\n",
       "    </tr>\n",
       "    <tr>\n",
       "      <th>3</th>\n",
       "      <td>3989</td>\n",
       "      <td>0.035403</td>\n",
       "      <td>0.258</td>\n",
       "      <td>2683813</td>\n",
       "      <td>0.104183</td>\n",
       "      <td>-1</td>\n",
       "      <td>79</td>\n",
       "      <td>2171-07-29</td>\n",
       "      <td>unknown</td>\n",
       "      <td>unknown</td>\n",
       "      <td>Общественное питание</td>\n",
       "      <td>unknown</td>\n",
       "      <td>unknown</td>\n",
       "      <td>unknown</td>\n",
       "    </tr>\n",
       "    <tr>\n",
       "      <th>4</th>\n",
       "      <td>3989</td>\n",
       "      <td>0.035403</td>\n",
       "      <td>0.202</td>\n",
       "      <td>2683725</td>\n",
       "      <td>0.104183</td>\n",
       "      <td>-1</td>\n",
       "      <td>79</td>\n",
       "      <td>2171-07-29</td>\n",
       "      <td>unknown</td>\n",
       "      <td>unknown</td>\n",
       "      <td>Общественное питание</td>\n",
       "      <td>unknown</td>\n",
       "      <td>unknown</td>\n",
       "      <td>unknown</td>\n",
       "    </tr>\n",
       "    <tr>\n",
       "      <th>...</th>\n",
       "      <td>...</td>\n",
       "      <td>...</td>\n",
       "      <td>...</td>\n",
       "      <td>...</td>\n",
       "      <td>...</td>\n",
       "      <td>...</td>\n",
       "      <td>...</td>\n",
       "      <td>...</td>\n",
       "      <td>...</td>\n",
       "      <td>...</td>\n",
       "      <td>...</td>\n",
       "      <td>...</td>\n",
       "      <td>...</td>\n",
       "      <td>...</td>\n",
       "    </tr>\n",
       "    <tr>\n",
       "      <th>954</th>\n",
       "      <td>4452</td>\n",
       "      <td>0.027707</td>\n",
       "      <td>0.184</td>\n",
       "      <td>2640986</td>\n",
       "      <td>0.104183</td>\n",
       "      <td>-1</td>\n",
       "      <td>79</td>\n",
       "      <td>2171-03-25</td>\n",
       "      <td>unknown</td>\n",
       "      <td>unknown</td>\n",
       "      <td>Общественное питание</td>\n",
       "      <td>unknown</td>\n",
       "      <td>unknown</td>\n",
       "      <td>unknown</td>\n",
       "    </tr>\n",
       "    <tr>\n",
       "      <th>955</th>\n",
       "      <td>4452</td>\n",
       "      <td>0.027707</td>\n",
       "      <td>0.456</td>\n",
       "      <td>2640133</td>\n",
       "      <td>0.104183</td>\n",
       "      <td>-1</td>\n",
       "      <td>79</td>\n",
       "      <td>2171-03-23</td>\n",
       "      <td>unknown</td>\n",
       "      <td>unknown</td>\n",
       "      <td>Общественное питание</td>\n",
       "      <td>unknown</td>\n",
       "      <td>unknown</td>\n",
       "      <td>unknown</td>\n",
       "    </tr>\n",
       "    <tr>\n",
       "      <th>956</th>\n",
       "      <td>4452</td>\n",
       "      <td>0.027707</td>\n",
       "      <td>0.165</td>\n",
       "      <td>2636391</td>\n",
       "      <td>0.104183</td>\n",
       "      <td>94340</td>\n",
       "      <td>79</td>\n",
       "      <td>2171-03-13</td>\n",
       "      <td>unknown</td>\n",
       "      <td>unknown</td>\n",
       "      <td>Общественное питание</td>\n",
       "      <td>unknown</td>\n",
       "      <td>unknown</td>\n",
       "      <td>unknown</td>\n",
       "    </tr>\n",
       "    <tr>\n",
       "      <th>957</th>\n",
       "      <td>4452</td>\n",
       "      <td>0.027707</td>\n",
       "      <td>0.629</td>\n",
       "      <td>2633936</td>\n",
       "      <td>0.104183</td>\n",
       "      <td>-1</td>\n",
       "      <td>79</td>\n",
       "      <td>2171-03-06</td>\n",
       "      <td>unknown</td>\n",
       "      <td>unknown</td>\n",
       "      <td>Общественное питание</td>\n",
       "      <td>unknown</td>\n",
       "      <td>unknown</td>\n",
       "      <td>unknown</td>\n",
       "    </tr>\n",
       "    <tr>\n",
       "      <th>958</th>\n",
       "      <td>4452</td>\n",
       "      <td>0.027707</td>\n",
       "      <td>0.200</td>\n",
       "      <td>2633259</td>\n",
       "      <td>0.104183</td>\n",
       "      <td>163901</td>\n",
       "      <td>79</td>\n",
       "      <td>2171-03-04</td>\n",
       "      <td>unknown</td>\n",
       "      <td>unknown</td>\n",
       "      <td>Общественное питание</td>\n",
       "      <td>unknown</td>\n",
       "      <td>unknown</td>\n",
       "      <td>unknown</td>\n",
       "    </tr>\n",
       "  </tbody>\n",
       "</table>\n",
       "<p>959 rows × 14 columns</p>\n",
       "</div>"
      ],
      "text/plain": [
       "    sku_id     price  number cheque_id     litrs client_id shop_id       date  \\\n",
       "0     3989  0.035403   0.434   2684295  0.104183        -1      79 2171-07-31   \n",
       "1     3989  0.035403   0.256   2684212  0.104183        -1      79 2171-07-31   \n",
       "2     3989  0.035403   0.374   2684171  0.104183    125628      79 2171-07-30   \n",
       "3     3989  0.035403   0.258   2683813  0.104183        -1      79 2171-07-29   \n",
       "4     3989  0.035403   0.202   2683725  0.104183        -1      79 2171-07-29   \n",
       "..     ...       ...     ...       ...       ...       ...     ...        ...   \n",
       "954   4452  0.027707   0.184   2640986  0.104183        -1      79 2171-03-25   \n",
       "955   4452  0.027707   0.456   2640133  0.104183        -1      79 2171-03-23   \n",
       "956   4452  0.027707   0.165   2636391  0.104183     94340      79 2171-03-13   \n",
       "957   4452  0.027707   0.629   2633936  0.104183        -1      79 2171-03-06   \n",
       "958   4452  0.027707   0.200   2633259  0.104183    163901      79 2171-03-04   \n",
       "\n",
       "    full_name    brand             sku_group      OTM    units  country  \n",
       "0     unknown  unknown  Общественное питание  unknown  unknown  unknown  \n",
       "1     unknown  unknown  Общественное питание  unknown  unknown  unknown  \n",
       "2     unknown  unknown  Общественное питание  unknown  unknown  unknown  \n",
       "3     unknown  unknown  Общественное питание  unknown  unknown  unknown  \n",
       "4     unknown  unknown  Общественное питание  unknown  unknown  unknown  \n",
       "..        ...      ...                   ...      ...      ...      ...  \n",
       "954   unknown  unknown  Общественное питание  unknown  unknown  unknown  \n",
       "955   unknown  unknown  Общественное питание  unknown  unknown  unknown  \n",
       "956   unknown  unknown  Общественное питание  unknown  unknown  unknown  \n",
       "957   unknown  unknown  Общественное питание  unknown  unknown  unknown  \n",
       "958   unknown  unknown  Общественное питание  unknown  unknown  unknown  \n",
       "\n",
       "[959 rows x 14 columns]"
      ]
     },
     "execution_count": 29,
     "metadata": {},
     "output_type": "execute_result"
    }
   ],
   "source": [
    "tran[(tran.number < 1) & (tran.number > 0)].merge(nom, on='sku_id') # Посмотрим, что за товары имеют дробный number"
   ]
  },
  {
   "cell_type": "markdown",
   "metadata": {},
   "source": [
    "Видимо, это товары на развес! Про них, к сожалению, больше сказать возможности нет..."
   ]
  },
  {
   "cell_type": "code",
   "execution_count": 30,
   "metadata": {},
   "outputs": [
    {
     "data": {
      "text/plain": [
       "0.104183    4975751\n",
       "Name: litrs, dtype: int64"
      ]
     },
     "execution_count": 30,
     "metadata": {},
     "output_type": "execute_result"
    }
   ],
   "source": [
    "tran[tran.number != 0].litrs.value_counts() # Посмотрим на литры в тех транзакциях, где покупали не топливо"
   ]
  },
  {
   "cell_type": "markdown",
   "metadata": {},
   "source": [
    "Значит, 0.104183 это 0. А сами литры были линейно преобразованы. Постараемся вернуть им нормальный вид!"
   ]
  },
  {
   "cell_type": "code",
   "execution_count": 31,
   "metadata": {},
   "outputs": [
    {
     "data": {
      "text/plain": [
       " 0.00000    4977938\n",
       " 0.02986      42665\n",
       " 0.01991      27803\n",
       " 0.02197      23782\n",
       " 0.03981      18226\n",
       "             ...   \n",
       " 0.10862          1\n",
       " 0.12609          1\n",
       " 0.12118          1\n",
       " 0.10820          1\n",
       "-0.03015          1\n",
       "Name: litrs, Length: 12335, dtype: int64"
      ]
     },
     "execution_count": 31,
     "metadata": {},
     "output_type": "execute_result"
    }
   ],
   "source": [
    "(tran.litrs-0.104183).round(decimals=5).value_counts()"
   ]
  },
  {
   "cell_type": "code",
   "execution_count": 32,
   "metadata": {},
   "outputs": [
    {
     "data": {
      "text/plain": [
       "0.00002    4975830\n",
       "1.00003      42665\n",
       "0.66669      27801\n",
       "0.73570      23767\n",
       "1.33337      18226\n",
       "0.36769      14736\n",
       "0.33336      11947\n",
       "0.66269      11556\n",
       "1.66671      10622\n",
       "0.73236       9102\n",
       "Name: litrs, dtype: int64"
      ]
     },
     "execution_count": 32,
     "metadata": {},
     "output_type": "execute_result"
    }
   ],
   "source": [
    "((tran.litrs-0.104183)/0.02986).round(decimals=5).value_counts().head(10) # Посмотрим, как соотносятся наиболее популярное число и следующие после него"
   ]
  },
  {
   "cell_type": "markdown",
   "metadata": {},
   "source": [
    "0.66669, очевидно, 2/3, 1.33337 - 4/3. Все крутится вокруг 3. Посмотрим повнимательнее."
   ]
  },
  {
   "cell_type": "code",
   "execution_count": 33,
   "metadata": {},
   "outputs": [
    {
     "name": "stdout",
     "output_type": "stream",
     "text": [
      "0 0.0 0.0 0.0 0.0\n",
      "3 2.00007 2.2071 4.000109999999999 1.10307\n",
      "6 4.00014 4.4142 8.000219999999999 2.20614\n",
      "9 6.00021 6.6213 12.00033 3.30921\n",
      "12 8.00028 8.8284 16.000439999999998 4.41228\n",
      "15 10.000350000000001 11.0355 20.00055 5.515350000000001\n",
      "18 12.00042 13.2426 24.00066 6.61842\n",
      "21 14.00049 15.4497 28.00077 7.72149\n",
      "24 16.00056 17.6568 32.000879999999995 8.82456\n",
      "27 18.00063 19.8639 36.00099 9.92763\n",
      "30 20.000700000000002 22.071 40.0011 11.030700000000001\n",
      "33 22.00077 24.278100000000002 44.00121 12.13377\n",
      "36 24.00084 26.4852 48.00132 13.23684\n",
      "39 26.00091 28.6923 52.00143 14.339910000000001\n",
      "42 28.00098 30.8994 56.00154 15.44298\n",
      "45 30.00105 33.106500000000004 60.00165 16.54605\n",
      "48 32.00112 35.3136 64.00175999999999 17.64912\n",
      "51 34.00119 37.5207 68.00187 18.752190000000002\n",
      "54 36.00126 39.7278 72.00198 19.85526\n",
      "57 38.00133 41.9349 76.00209 20.95833\n",
      "60 40.001400000000004 44.142 80.0022 22.061400000000003\n",
      "63 42.00147 46.3491 84.00231 23.16447\n",
      "66 44.00154 48.556200000000004 88.00242 24.26754\n",
      "69 46.00161 50.7633 92.00253 25.370610000000003\n",
      "72 48.00168 52.9704 96.00264 26.47368\n",
      "75 50.00175 55.1775 100.00274999999999 27.57675\n",
      "78 52.00182 57.3846 104.00286 28.679820000000003\n",
      "81 54.00189 59.5917 108.00296999999999 29.782890000000002\n",
      "84 56.00196 61.7988 112.00308 30.88596\n",
      "87 58.00203 64.0059 116.00318999999999 31.989030000000003\n",
      "90 60.0021 66.21300000000001 120.0033 33.0921\n",
      "93 62.00217 68.4201 124.00340999999999 34.195170000000005\n",
      "96 64.00224 70.6272 128.00351999999998 35.29824\n",
      "99 66.00231 72.8343 132.00363 36.40131\n"
     ]
    }
   ],
   "source": [
    "for i in range(0, 101, 3): # поищем такое i, чтобы все числа были красивые (многие любят заправляться ровными числами)\n",
    "    print(i, i*0.66669, i*0.73570, i*1.33337, i*0.36769)"
   ]
  },
  {
   "cell_type": "markdown",
   "metadata": {},
   "source": [
    "Мне нравится вариант 30!"
   ]
  },
  {
   "cell_type": "code",
   "execution_count": 34,
   "metadata": {},
   "outputs": [
    {
     "data": {
      "text/plain": [
       "0.000     4975752\n",
       "30.001      42665\n",
       "20.001      27801\n",
       "22.071      23767\n",
       "40.001      18226\n",
       "11.031      14738\n",
       "10.001      11947\n",
       "19.881      11556\n",
       "50.001      10622\n",
       "20.081       9108\n",
       "Name: litrs, dtype: int64"
      ]
     },
     "execution_count": 34,
     "metadata": {},
     "output_type": "execute_result"
    }
   ],
   "source": [
    "(30*(tran.litrs-0.104183)/0.02986).round(decimals=3).value_counts().head(10) "
   ]
  },
  {
   "cell_type": "markdown",
   "metadata": {},
   "source": [
    "Очень похоже на правду! Так и запишем."
   ]
  },
  {
   "cell_type": "code",
   "execution_count": 35,
   "metadata": {},
   "outputs": [],
   "source": [
    "tran.litrs = (30*(tran.litrs-0.104183)/0.02986).round(decimals=3)"
   ]
  },
  {
   "cell_type": "code",
   "execution_count": 36,
   "metadata": {},
   "outputs": [
    {
     "data": {
      "text/plain": [
       "0.000     4975752\n",
       "30.001      42665\n",
       "20.001      27801\n",
       "22.071      23767\n",
       "40.001      18226\n",
       "11.031      14738\n",
       "10.001      11947\n",
       "19.881      11556\n",
       "50.001      10622\n",
       "20.081       9108\n",
       "Name: litrs, dtype: int64"
      ]
     },
     "execution_count": 36,
     "metadata": {},
     "output_type": "execute_result"
    }
   ],
   "source": [
    "tran.litrs.value_counts().head(10)"
   ]
  },
  {
   "cell_type": "code",
   "execution_count": 37,
   "metadata": {},
   "outputs": [
    {
     "data": {
      "text/html": [
       "<div>\n",
       "<style scoped>\n",
       "    .dataframe tbody tr th:only-of-type {\n",
       "        vertical-align: middle;\n",
       "    }\n",
       "\n",
       "    .dataframe tbody tr th {\n",
       "        vertical-align: top;\n",
       "    }\n",
       "\n",
       "    .dataframe thead th {\n",
       "        text-align: right;\n",
       "    }\n",
       "</style>\n",
       "<table border=\"1\" class=\"dataframe\">\n",
       "  <thead>\n",
       "    <tr style=\"text-align: right;\">\n",
       "      <th></th>\n",
       "      <th>sku_id</th>\n",
       "      <th>price</th>\n",
       "      <th>number</th>\n",
       "      <th>cheque_id</th>\n",
       "      <th>litrs</th>\n",
       "      <th>client_id</th>\n",
       "      <th>shop_id</th>\n",
       "      <th>date</th>\n",
       "    </tr>\n",
       "  </thead>\n",
       "  <tbody>\n",
       "    <tr>\n",
       "      <th>23995</th>\n",
       "      <td>1157</td>\n",
       "      <td>0.002663</td>\n",
       "      <td>0.0</td>\n",
       "      <td>2435435</td>\n",
       "      <td>-17.033</td>\n",
       "      <td>-1</td>\n",
       "      <td>85</td>\n",
       "      <td>2171-07-31</td>\n",
       "    </tr>\n",
       "    <tr>\n",
       "      <th>24340</th>\n",
       "      <td>1158</td>\n",
       "      <td>0.002296</td>\n",
       "      <td>0.0</td>\n",
       "      <td>2435146</td>\n",
       "      <td>-17.129</td>\n",
       "      <td>-1</td>\n",
       "      <td>48</td>\n",
       "      <td>2171-07-31</td>\n",
       "    </tr>\n",
       "    <tr>\n",
       "      <th>42910</th>\n",
       "      <td>1158</td>\n",
       "      <td>0.002334</td>\n",
       "      <td>0.0</td>\n",
       "      <td>3407195</td>\n",
       "      <td>-0.106</td>\n",
       "      <td>47269</td>\n",
       "      <td>108</td>\n",
       "      <td>2171-07-31</td>\n",
       "    </tr>\n",
       "    <tr>\n",
       "      <th>139838</th>\n",
       "      <td>1159</td>\n",
       "      <td>0.002571</td>\n",
       "      <td>0.0</td>\n",
       "      <td>2401887</td>\n",
       "      <td>-0.203</td>\n",
       "      <td>-1</td>\n",
       "      <td>52</td>\n",
       "      <td>2171-07-29</td>\n",
       "    </tr>\n",
       "    <tr>\n",
       "      <th>224756</th>\n",
       "      <td>1163</td>\n",
       "      <td>0.002499</td>\n",
       "      <td>0.0</td>\n",
       "      <td>2435943</td>\n",
       "      <td>-21.535</td>\n",
       "      <td>-1</td>\n",
       "      <td>61</td>\n",
       "      <td>2171-07-27</td>\n",
       "    </tr>\n",
       "    <tr>\n",
       "      <th>...</th>\n",
       "      <td>...</td>\n",
       "      <td>...</td>\n",
       "      <td>...</td>\n",
       "      <td>...</td>\n",
       "      <td>...</td>\n",
       "      <td>...</td>\n",
       "      <td>...</td>\n",
       "      <td>...</td>\n",
       "    </tr>\n",
       "    <tr>\n",
       "      <th>7539687</th>\n",
       "      <td>1159</td>\n",
       "      <td>0.002512</td>\n",
       "      <td>0.0</td>\n",
       "      <td>2436389</td>\n",
       "      <td>-12.998</td>\n",
       "      <td>-1</td>\n",
       "      <td>11</td>\n",
       "      <td>2171-03-02</td>\n",
       "    </tr>\n",
       "    <tr>\n",
       "      <th>7591191</th>\n",
       "      <td>1157</td>\n",
       "      <td>0.002594</td>\n",
       "      <td>0.0</td>\n",
       "      <td>2437595</td>\n",
       "      <td>-1.917</td>\n",
       "      <td>-1</td>\n",
       "      <td>45</td>\n",
       "      <td>2171-03-01</td>\n",
       "    </tr>\n",
       "    <tr>\n",
       "      <th>7591200</th>\n",
       "      <td>1157</td>\n",
       "      <td>0.002586</td>\n",
       "      <td>0.0</td>\n",
       "      <td>2403711</td>\n",
       "      <td>-38.823</td>\n",
       "      <td>-1</td>\n",
       "      <td>74</td>\n",
       "      <td>2171-03-01</td>\n",
       "    </tr>\n",
       "    <tr>\n",
       "      <th>7603634</th>\n",
       "      <td>1162</td>\n",
       "      <td>0.002483</td>\n",
       "      <td>0.0</td>\n",
       "      <td>2401029</td>\n",
       "      <td>-41.866</td>\n",
       "      <td>-1</td>\n",
       "      <td>46</td>\n",
       "      <td>2171-03-01</td>\n",
       "    </tr>\n",
       "    <tr>\n",
       "      <th>7604038</th>\n",
       "      <td>1158</td>\n",
       "      <td>0.002240</td>\n",
       "      <td>0.0</td>\n",
       "      <td>2435864</td>\n",
       "      <td>-11.279</td>\n",
       "      <td>-1</td>\n",
       "      <td>61</td>\n",
       "      <td>2171-03-01</td>\n",
       "    </tr>\n",
       "  </tbody>\n",
       "</table>\n",
       "<p>572 rows × 8 columns</p>\n",
       "</div>"
      ],
      "text/plain": [
       "        sku_id     price  number cheque_id   litrs client_id shop_id  \\\n",
       "23995     1157  0.002663     0.0   2435435 -17.033        -1      85   \n",
       "24340     1158  0.002296     0.0   2435146 -17.129        -1      48   \n",
       "42910     1158  0.002334     0.0   3407195  -0.106     47269     108   \n",
       "139838    1159  0.002571     0.0   2401887  -0.203        -1      52   \n",
       "224756    1163  0.002499     0.0   2435943 -21.535        -1      61   \n",
       "...        ...       ...     ...       ...     ...       ...     ...   \n",
       "7539687   1159  0.002512     0.0   2436389 -12.998        -1      11   \n",
       "7591191   1157  0.002594     0.0   2437595  -1.917        -1      45   \n",
       "7591200   1157  0.002586     0.0   2403711 -38.823        -1      74   \n",
       "7603634   1162  0.002483     0.0   2401029 -41.866        -1      46   \n",
       "7604038   1158  0.002240     0.0   2435864 -11.279        -1      61   \n",
       "\n",
       "              date  \n",
       "23995   2171-07-31  \n",
       "24340   2171-07-31  \n",
       "42910   2171-07-31  \n",
       "139838  2171-07-29  \n",
       "224756  2171-07-27  \n",
       "...            ...  \n",
       "7539687 2171-03-02  \n",
       "7591191 2171-03-01  \n",
       "7591200 2171-03-01  \n",
       "7603634 2171-03-01  \n",
       "7604038 2171-03-01  \n",
       "\n",
       "[572 rows x 8 columns]"
      ]
     },
     "execution_count": 37,
     "metadata": {},
     "output_type": "execute_result"
    }
   ],
   "source": [
    "tran[tran.litrs < 0] # у нас есть необъяснимые отрицательные значения литров "
   ]
  },
  {
   "cell_type": "code",
   "execution_count": 38,
   "metadata": {},
   "outputs": [
    {
     "data": {
      "text/html": [
       "<div>\n",
       "<style scoped>\n",
       "    .dataframe tbody tr th:only-of-type {\n",
       "        vertical-align: middle;\n",
       "    }\n",
       "\n",
       "    .dataframe tbody tr th {\n",
       "        vertical-align: top;\n",
       "    }\n",
       "\n",
       "    .dataframe thead th {\n",
       "        text-align: right;\n",
       "    }\n",
       "</style>\n",
       "<table border=\"1\" class=\"dataframe\">\n",
       "  <thead>\n",
       "    <tr style=\"text-align: right;\">\n",
       "      <th></th>\n",
       "      <th>cheque_id</th>\n",
       "      <th>client_id</th>\n",
       "      <th>shop_id</th>\n",
       "      <th>full_name</th>\n",
       "      <th>price</th>\n",
       "      <th>number</th>\n",
       "      <th>litrs</th>\n",
       "    </tr>\n",
       "  </thead>\n",
       "  <tbody>\n",
       "    <tr>\n",
       "      <th>0</th>\n",
       "      <td>2435435</td>\n",
       "      <td>-1</td>\n",
       "      <td>85</td>\n",
       "      <td>Ethereum 95 бренд</td>\n",
       "      <td>0.002663</td>\n",
       "      <td>0.0</td>\n",
       "      <td>-17.033</td>\n",
       "    </tr>\n",
       "    <tr>\n",
       "      <th>1</th>\n",
       "      <td>2435435</td>\n",
       "      <td>-1</td>\n",
       "      <td>85</td>\n",
       "      <td>Ethereum 95 бренд</td>\n",
       "      <td>0.002663</td>\n",
       "      <td>0.0</td>\n",
       "      <td>37.875</td>\n",
       "    </tr>\n",
       "  </tbody>\n",
       "</table>\n",
       "</div>"
      ],
      "text/plain": [
       "  cheque_id client_id shop_id          full_name     price  number   litrs\n",
       "0   2435435        -1      85  Ethereum 95 бренд  0.002663     0.0 -17.033\n",
       "1   2435435        -1      85  Ethereum 95 бренд  0.002663     0.0  37.875"
      ]
     },
     "execution_count": 38,
     "metadata": {},
     "output_type": "execute_result"
    }
   ],
   "source": [
    "show_cheque(2435435) # Чек с отрицательным значением"
   ]
  },
  {
   "cell_type": "markdown",
   "metadata": {},
   "source": [
    "Возможно, это опять же ошибка регистрации, а может возврат литров. Непонятно, но для чистоты такое лучше удалить."
   ]
  },
  {
   "cell_type": "code",
   "execution_count": 39,
   "metadata": {},
   "outputs": [],
   "source": [
    "tran = tran.drop(tran[tran.litrs < 0].index)"
   ]
  },
  {
   "cell_type": "code",
   "execution_count": 40,
   "metadata": {},
   "outputs": [
    {
     "data": {
      "text/html": [
       "<div>\n",
       "<style scoped>\n",
       "    .dataframe tbody tr th:only-of-type {\n",
       "        vertical-align: middle;\n",
       "    }\n",
       "\n",
       "    .dataframe tbody tr th {\n",
       "        vertical-align: top;\n",
       "    }\n",
       "\n",
       "    .dataframe thead th {\n",
       "        text-align: right;\n",
       "    }\n",
       "</style>\n",
       "<table border=\"1\" class=\"dataframe\">\n",
       "  <thead>\n",
       "    <tr style=\"text-align: right;\">\n",
       "      <th></th>\n",
       "      <th>sku_id</th>\n",
       "      <th>price</th>\n",
       "      <th>number</th>\n",
       "      <th>cheque_id</th>\n",
       "      <th>litrs</th>\n",
       "      <th>client_id</th>\n",
       "      <th>shop_id</th>\n",
       "      <th>date</th>\n",
       "    </tr>\n",
       "  </thead>\n",
       "  <tbody>\n",
       "  </tbody>\n",
       "</table>\n",
       "</div>"
      ],
      "text/plain": [
       "Empty DataFrame\n",
       "Columns: [sku_id, price, number, cheque_id, litrs, client_id, shop_id, date]\n",
       "Index: []"
      ]
     },
     "execution_count": 40,
     "metadata": {},
     "output_type": "execute_result"
    }
   ],
   "source": [
    "tran[tran.litrs < 0]"
   ]
  },
  {
   "cell_type": "code",
   "execution_count": 41,
   "metadata": {},
   "outputs": [
    {
     "data": {
      "text/html": [
       "<div>\n",
       "<style scoped>\n",
       "    .dataframe tbody tr th:only-of-type {\n",
       "        vertical-align: middle;\n",
       "    }\n",
       "\n",
       "    .dataframe tbody tr th {\n",
       "        vertical-align: top;\n",
       "    }\n",
       "\n",
       "    .dataframe thead th {\n",
       "        text-align: right;\n",
       "    }\n",
       "</style>\n",
       "<table border=\"1\" class=\"dataframe\">\n",
       "  <thead>\n",
       "    <tr style=\"text-align: right;\">\n",
       "      <th></th>\n",
       "      <th>cheque_id</th>\n",
       "      <th>client_id</th>\n",
       "      <th>shop_id</th>\n",
       "      <th>full_name</th>\n",
       "      <th>price</th>\n",
       "      <th>number</th>\n",
       "      <th>litrs</th>\n",
       "    </tr>\n",
       "  </thead>\n",
       "  <tbody>\n",
       "    <tr>\n",
       "      <th>0</th>\n",
       "      <td>0</td>\n",
       "      <td>82752</td>\n",
       "      <td>5</td>\n",
       "      <td>Сок Я апельсин ст 0,2л</td>\n",
       "      <td>0.004566</td>\n",
       "      <td>1.001</td>\n",
       "      <td>0.000</td>\n",
       "    </tr>\n",
       "    <tr>\n",
       "      <th>1</th>\n",
       "      <td>0</td>\n",
       "      <td>82752</td>\n",
       "      <td>5</td>\n",
       "      <td>Ethereum 95</td>\n",
       "      <td>0.002517</td>\n",
       "      <td>0.000</td>\n",
       "      <td>43.711</td>\n",
       "    </tr>\n",
       "  </tbody>\n",
       "</table>\n",
       "</div>"
      ],
      "text/plain": [
       "  cheque_id client_id shop_id               full_name     price  number  \\\n",
       "0         0     82752       5  Сок Я апельсин ст 0,2л  0.004566   1.001   \n",
       "1         0     82752       5             Ethereum 95  0.002517   0.000   \n",
       "\n",
       "    litrs  \n",
       "0   0.000  \n",
       "1  43.711  "
      ]
     },
     "execution_count": 41,
     "metadata": {},
     "output_type": "execute_result"
    }
   ],
   "source": [
    "show_cheque(0) # Осталось заняться ценой"
   ]
  },
  {
   "cell_type": "code",
   "execution_count": 42,
   "metadata": {},
   "outputs": [
    {
     "data": {
      "text/plain": [
       "0    86.762442\n",
       "1    47.816829\n",
       "Name: price, dtype: float64"
      ]
     },
     "execution_count": 42,
     "metadata": {},
     "output_type": "execute_result"
    }
   ],
   "source": [
    "show_cheque(0).price * 19000 # 19 000 это экспертная оценка. Я попробовал много, и мне показалось, что это наиболее адекватное значение! Если что, можно списать на инфляцию"
   ]
  },
  {
   "cell_type": "code",
   "execution_count": 43,
   "metadata": {},
   "outputs": [
    {
     "data": {
      "text/html": [
       "<div>\n",
       "<style scoped>\n",
       "    .dataframe tbody tr th:only-of-type {\n",
       "        vertical-align: middle;\n",
       "    }\n",
       "\n",
       "    .dataframe tbody tr th {\n",
       "        vertical-align: top;\n",
       "    }\n",
       "\n",
       "    .dataframe thead th {\n",
       "        text-align: right;\n",
       "    }\n",
       "</style>\n",
       "<table border=\"1\" class=\"dataframe\">\n",
       "  <thead>\n",
       "    <tr style=\"text-align: right;\">\n",
       "      <th></th>\n",
       "      <th>cheque_id</th>\n",
       "      <th>client_id</th>\n",
       "      <th>shop_id</th>\n",
       "      <th>full_name</th>\n",
       "      <th>price</th>\n",
       "      <th>number</th>\n",
       "      <th>litrs</th>\n",
       "    </tr>\n",
       "  </thead>\n",
       "  <tbody>\n",
       "    <tr>\n",
       "      <th>0</th>\n",
       "      <td>186548</td>\n",
       "      <td>-1</td>\n",
       "      <td>69</td>\n",
       "      <td>Напиток Red Bull energy drink энергетический ж...</td>\n",
       "      <td>0.008671</td>\n",
       "      <td>1.001</td>\n",
       "      <td>0.0</td>\n",
       "    </tr>\n",
       "    <tr>\n",
       "      <th>1</th>\n",
       "      <td>186548</td>\n",
       "      <td>-1</td>\n",
       "      <td>69</td>\n",
       "      <td>Набор Juul Labs JUUL Simple 8W,200mAh сталь</td>\n",
       "      <td>0.009133</td>\n",
       "      <td>1.001</td>\n",
       "      <td>0.0</td>\n",
       "    </tr>\n",
       "  </tbody>\n",
       "</table>\n",
       "</div>"
      ],
      "text/plain": [
       "  cheque_id client_id shop_id  \\\n",
       "0    186548        -1      69   \n",
       "1    186548        -1      69   \n",
       "\n",
       "                                           full_name     price  number  litrs  \n",
       "0  Напиток Red Bull energy drink энергетический ж...  0.008671   1.001    0.0  \n",
       "1        Набор Juul Labs JUUL Simple 8W,200mAh сталь  0.009133   1.001    0.0  "
      ]
     },
     "execution_count": 43,
     "metadata": {},
     "output_type": "execute_result"
    }
   ],
   "source": [
    "show_cheque(186548)"
   ]
  },
  {
   "cell_type": "code",
   "execution_count": 44,
   "metadata": {},
   "outputs": [
    {
     "data": {
      "text/plain": [
       "0    164.751154\n",
       "1    173.524885\n",
       "Name: price, dtype: float64"
      ]
     },
     "execution_count": 44,
     "metadata": {},
     "output_type": "execute_result"
    }
   ],
   "source": [
    "show_cheque(186548).price * 19000"
   ]
  },
  {
   "cell_type": "code",
   "execution_count": 45,
   "metadata": {},
   "outputs": [],
   "source": [
    "tran.price = tran.price*19000"
   ]
  },
  {
   "cell_type": "code",
   "execution_count": 46,
   "metadata": {},
   "outputs": [
    {
     "data": {
      "text/html": [
       "<div>\n",
       "<style scoped>\n",
       "    .dataframe tbody tr th:only-of-type {\n",
       "        vertical-align: middle;\n",
       "    }\n",
       "\n",
       "    .dataframe tbody tr th {\n",
       "        vertical-align: top;\n",
       "    }\n",
       "\n",
       "    .dataframe thead th {\n",
       "        text-align: right;\n",
       "    }\n",
       "</style>\n",
       "<table border=\"1\" class=\"dataframe\">\n",
       "  <thead>\n",
       "    <tr style=\"text-align: right;\">\n",
       "      <th></th>\n",
       "      <th>cheque_id</th>\n",
       "      <th>client_id</th>\n",
       "      <th>shop_id</th>\n",
       "      <th>full_name</th>\n",
       "      <th>price</th>\n",
       "      <th>number</th>\n",
       "      <th>litrs</th>\n",
       "    </tr>\n",
       "  </thead>\n",
       "  <tbody>\n",
       "    <tr>\n",
       "      <th>0</th>\n",
       "      <td>0</td>\n",
       "      <td>82752</td>\n",
       "      <td>5</td>\n",
       "      <td>Сок Я апельсин ст 0,2л</td>\n",
       "      <td>86.762442</td>\n",
       "      <td>1.001</td>\n",
       "      <td>0.000</td>\n",
       "    </tr>\n",
       "    <tr>\n",
       "      <th>1</th>\n",
       "      <td>0</td>\n",
       "      <td>82752</td>\n",
       "      <td>5</td>\n",
       "      <td>Ethereum 95</td>\n",
       "      <td>47.816829</td>\n",
       "      <td>0.000</td>\n",
       "      <td>43.711</td>\n",
       "    </tr>\n",
       "  </tbody>\n",
       "</table>\n",
       "</div>"
      ],
      "text/plain": [
       "  cheque_id client_id shop_id               full_name      price  number  \\\n",
       "0         0     82752       5  Сок Я апельсин ст 0,2л  86.762442   1.001   \n",
       "1         0     82752       5             Ethereum 95  47.816829   0.000   \n",
       "\n",
       "    litrs  \n",
       "0   0.000  \n",
       "1  43.711  "
      ]
     },
     "execution_count": 46,
     "metadata": {},
     "output_type": "execute_result"
    }
   ],
   "source": [
    "show_cheque(0) # Теперь и на чеки смотреть приятно!"
   ]
  },
  {
   "cell_type": "code",
   "execution_count": 47,
   "metadata": {},
   "outputs": [],
   "source": [
    "def cheque_sum(cheque_id): # можно и сумму чека посчитать\n",
    "    return sum(tran[tran.cheque_id==cheque_id].price *\n",
    "               (tran[tran.cheque_id==cheque_id].number + tran[tran.cheque_id==cheque_id].litrs))"
   ]
  },
  {
   "cell_type": "code",
   "execution_count": 48,
   "metadata": {},
   "outputs": [
    {
     "data": {
      "text/plain": [
       "2176.9706233966135"
      ]
     },
     "execution_count": 48,
     "metadata": {},
     "output_type": "execute_result"
    }
   ],
   "source": [
    "cheque_sum(0)"
   ]
  },
  {
   "cell_type": "code",
   "execution_count": 49,
   "metadata": {},
   "outputs": [
    {
     "data": {
      "text/html": [
       "<div>\n",
       "<style scoped>\n",
       "    .dataframe tbody tr th:only-of-type {\n",
       "        vertical-align: middle;\n",
       "    }\n",
       "\n",
       "    .dataframe tbody tr th {\n",
       "        vertical-align: top;\n",
       "    }\n",
       "\n",
       "    .dataframe thead th {\n",
       "        text-align: right;\n",
       "    }\n",
       "</style>\n",
       "<table border=\"1\" class=\"dataframe\">\n",
       "  <thead>\n",
       "    <tr style=\"text-align: right;\">\n",
       "      <th></th>\n",
       "      <th>cheque_id</th>\n",
       "      <th>client_id</th>\n",
       "      <th>shop_id</th>\n",
       "      <th>full_name</th>\n",
       "      <th>price</th>\n",
       "      <th>number</th>\n",
       "      <th>litrs</th>\n",
       "    </tr>\n",
       "  </thead>\n",
       "  <tbody>\n",
       "    <tr>\n",
       "      <th>0</th>\n",
       "      <td>1</td>\n",
       "      <td>-1</td>\n",
       "      <td>5</td>\n",
       "      <td>Пирожок Fly Cafe яблоки дефрост 70г</td>\n",
       "      <td>193.996921</td>\n",
       "      <td>1.001</td>\n",
       "      <td>0.0</td>\n",
       "    </tr>\n",
       "    <tr>\n",
       "      <th>1</th>\n",
       "      <td>1</td>\n",
       "      <td>-1</td>\n",
       "      <td>5</td>\n",
       "      <td>Палочки IQOS для чистки электронных сигарет 10шт</td>\n",
       "      <td>203.745511</td>\n",
       "      <td>1.001</td>\n",
       "      <td>0.0</td>\n",
       "    </tr>\n",
       "    <tr>\n",
       "      <th>2</th>\n",
       "      <td>1</td>\n",
       "      <td>-1</td>\n",
       "      <td>5</td>\n",
       "      <td>Попкорн Fly Cafe (СТМ)/G-Fly сладкий стакан 160г</td>\n",
       "      <td>77.013853</td>\n",
       "      <td>1.001</td>\n",
       "      <td>0.0</td>\n",
       "    </tr>\n",
       "  </tbody>\n",
       "</table>\n",
       "</div>"
      ],
      "text/plain": [
       "  cheque_id client_id shop_id  \\\n",
       "0         1        -1       5   \n",
       "1         1        -1       5   \n",
       "2         1        -1       5   \n",
       "\n",
       "                                          full_name       price  number  litrs  \n",
       "0               Пирожок Fly Cafe яблоки дефрост 70г  193.996921   1.001    0.0  \n",
       "1  Палочки IQOS для чистки электронных сигарет 10шт  203.745511   1.001    0.0  \n",
       "2  Попкорн Fly Cafe (СТМ)/G-Fly сладкий стакан 160г   77.013853   1.001    0.0  "
      ]
     },
     "execution_count": 49,
     "metadata": {},
     "output_type": "execute_result"
    }
   ],
   "source": [
    "show_cheque(1)"
   ]
  },
  {
   "cell_type": "code",
   "execution_count": 50,
   "metadata": {},
   "outputs": [
    {
     "data": {
      "text/plain": [
       "475.2310415597741"
      ]
     },
     "execution_count": 50,
     "metadata": {},
     "output_type": "execute_result"
    }
   ],
   "source": [
    "cheque_sum(1)"
   ]
  },
  {
   "cell_type": "markdown",
   "metadata": {},
   "source": [
    "Нас, в первую очередь, интересуют товары из слудующих групп:\n",
    "    • вода \n",
    "    • сладкие газированные напитки, холодный чай \n",
    "    • кофейные напитки с молоком \n",
    "    • энергетические напитки \n",
    "    • снеки \n",
    "    • соки и сокосодержащие напитки"
   ]
  },
  {
   "cell_type": "code",
   "execution_count": 51,
   "metadata": {},
   "outputs": [
    {
     "data": {
      "text/plain": [
       "Кондитерские изделия                                               714\n",
       "Сезонные товары                                                    649\n",
       "Автотовары                                                         516\n",
       "Общественное питание                                               441\n",
       "Уход за автомобилем                                                426\n",
       "Хозяйственные товары, персональный уход                            423\n",
       "Снеки                                                              360\n",
       "Табачные изделия                                                   264\n",
       "Гастроном                                                          196\n",
       "Сладкие Уранированные напитки, холодный чай                        184\n",
       "Соки и сокосодержащие напитки                                      145\n",
       "Вода                                                               144\n",
       "Прочие напитки кафе                                                144\n",
       "Бакалея                                                             95\n",
       "Очки для водителя                                                   92\n",
       "Кофейные напитки с молоком                                          80\n",
       "Энергетические напитки                                              61\n",
       "Автохимия и автокосметика (кроме масел, смазок и СОЖ)               52\n",
       "СОЖ                                                                 29\n",
       "Масла моторные (для Ethereumовых двигателей)                        26\n",
       "Масла моторные (для Ethereumовых двигателей) \"УранПромEtherium\"     19\n",
       "Топливо                                                              9\n",
       "Тиражная лотерея                                                     6\n",
       "Услуги АЗС/АЗК                                                       5\n",
       "Масла моторные (для варповых двигателей)\"УранПромEtherium\"           4\n",
       "Масла трансмиссионные \"УранПромEtherium\"                             3\n",
       "Масла прочие \"УранПромEtherium\"                                      3\n",
       "Смазки пластичные \"УранПромEtherium\"                                 3\n",
       "Масла моторные (для варповых двигателей)                             3\n",
       "Пиво                                                                 3\n",
       "Масла трансмиссионные                                                2\n",
       "Карты лояльности                                                     1\n",
       "Услуги мойки                                                         1\n",
       "Name: sku_group, dtype: int64"
      ]
     },
     "execution_count": 51,
     "metadata": {},
     "output_type": "execute_result"
    }
   ],
   "source": [
    "nom.sku_group.value_counts()"
   ]
  },
  {
   "cell_type": "code",
   "execution_count": 52,
   "metadata": {},
   "outputs": [],
   "source": [
    "target_groups = ['Снеки', 'Сладкие Уранированные напитки, холодный чай', \n",
    "                 'Соки и сокосодержащие напитки', 'Вода', 'Кофейные напитки с молоком', 'Энергетические напитки']"
   ]
  },
  {
   "cell_type": "code",
   "execution_count": 53,
   "metadata": {},
   "outputs": [],
   "source": [
    "target_sku = nom[nom.sku_group.isin(target_groups)].sku_id # выпишем для удобства целевые товары"
   ]
  },
  {
   "cell_type": "code",
   "execution_count": 54,
   "metadata": {},
   "outputs": [],
   "source": [
    "targ_tran = tran[tran.cheque_id.isin(tran[tran.sku_id.isin(target_sku)].cheque_id)] # Чеки, в которых есть целевые товары"
   ]
  },
  {
   "cell_type": "code",
   "execution_count": 55,
   "metadata": {},
   "outputs": [
    {
     "data": {
      "text/plain": [
       "1170929    21\n",
       "943110     18\n",
       "1180679    14\n",
       "1309689    14\n",
       "806931     12\n",
       "           ..\n",
       "3298360     1\n",
       "1201209     1\n",
       "572256      1\n",
       "1284355     1\n",
       "2097152     1\n",
       "Name: cheque_id, Length: 1582881, dtype: int64"
      ]
     },
     "execution_count": 55,
     "metadata": {},
     "output_type": "execute_result"
    }
   ],
   "source": [
    "tran[tran.sku_id.isin(nom[nom.sku_group.isin(target_groups)].sku_id)].cheque_id.value_counts()"
   ]
  },
  {
   "cell_type": "code",
   "execution_count": 56,
   "metadata": {},
   "outputs": [
    {
     "data": {
      "text/plain": [
       "2875620    33\n",
       "943110     27\n",
       "728530     25\n",
       "806931     24\n",
       "1900211    23\n",
       "           ..\n",
       "212872      1\n",
       "3081325     1\n",
       "212866      1\n",
       "2639979     1\n",
       "674582      1\n",
       "Name: cheque_id, Length: 2848238, dtype: int64"
      ]
     },
     "execution_count": 56,
     "metadata": {},
     "output_type": "execute_result"
    }
   ],
   "source": [
    "tran.cheque_id.value_counts()"
   ]
  },
  {
   "cell_type": "code",
   "execution_count": 57,
   "metadata": {},
   "outputs": [
    {
     "data": {
      "text/plain": [
       "1265357"
      ]
     },
     "execution_count": 57,
     "metadata": {},
     "output_type": "execute_result"
    }
   ],
   "source": [
    "2848238 - 1582881 # чеков без целевых товаров (они нам сейчас мало помогут)"
   ]
  },
  {
   "cell_type": "code",
   "execution_count": 58,
   "metadata": {},
   "outputs": [],
   "source": [
    "comf_tran = targ_tran.merge(nom, on=\"sku_id\")[['sku_id', 'price', 'number','cheque_id', \n",
    "                                   'litrs', 'client_id', 'shop_id', 'date', 'full_name', 'sku_group']] \n",
    "# Еще одна удобная табличка для анализа данных. Поможет изучить статистику по группам товаров"
   ]
  },
  {
   "cell_type": "markdown",
   "metadata": {},
   "source": [
    "# Анализ данных"
   ]
  },
  {
   "cell_type": "markdown",
   "metadata": {},
   "source": [
    "Посмотрим на данные повнимательнее и подумаем, что нам может помочь составлять рекомендации"
   ]
  },
  {
   "cell_type": "markdown",
   "metadata": {},
   "source": [
    "### Гипотеза о предпочтениях покупателей"
   ]
  },
  {
   "cell_type": "markdown",
   "metadata": {},
   "source": [
    "Возможно, представившиеся покупатели часто покупают одни и те же товары. И если они не взяли в этот раз, то его можно предложить.\n",
    "\n",
    "Пусть нулевая гипотеза будет, что клиенты не любят покупать один и тот же товар. Или в цифрах: в среднем вероятность покупки одного и того же товара меньше 20%."
   ]
  },
  {
   "cell_type": "code",
   "execution_count": 59,
   "metadata": {},
   "outputs": [
    {
     "data": {
      "text/html": [
       "<div>\n",
       "<style scoped>\n",
       "    .dataframe tbody tr th:only-of-type {\n",
       "        vertical-align: middle;\n",
       "    }\n",
       "\n",
       "    .dataframe tbody tr th {\n",
       "        vertical-align: top;\n",
       "    }\n",
       "\n",
       "    .dataframe thead th {\n",
       "        text-align: right;\n",
       "    }\n",
       "</style>\n",
       "<table border=\"1\" class=\"dataframe\">\n",
       "  <thead>\n",
       "    <tr style=\"text-align: right;\">\n",
       "      <th></th>\n",
       "      <th>sku_id</th>\n",
       "      <th>price</th>\n",
       "      <th>number</th>\n",
       "      <th>cheque_id</th>\n",
       "      <th>litrs</th>\n",
       "      <th>client_id</th>\n",
       "      <th>shop_id</th>\n",
       "      <th>date</th>\n",
       "    </tr>\n",
       "  </thead>\n",
       "  <tbody>\n",
       "    <tr>\n",
       "      <th>38</th>\n",
       "      <td>199</td>\n",
       "      <td>213.494100</td>\n",
       "      <td>1.001</td>\n",
       "      <td>2429861</td>\n",
       "      <td>0.0</td>\n",
       "      <td>2937</td>\n",
       "      <td>78</td>\n",
       "      <td>2171-07-23</td>\n",
       "    </tr>\n",
       "    <tr>\n",
       "      <th>46</th>\n",
       "      <td>3328</td>\n",
       "      <td>135.505387</td>\n",
       "      <td>1.001</td>\n",
       "      <td>2108067</td>\n",
       "      <td>0.0</td>\n",
       "      <td>128895</td>\n",
       "      <td>21</td>\n",
       "      <td>2171-07-23</td>\n",
       "    </tr>\n",
       "    <tr>\n",
       "      <th>51</th>\n",
       "      <td>1551</td>\n",
       "      <td>106.259620</td>\n",
       "      <td>1.001</td>\n",
       "      <td>3142853</td>\n",
       "      <td>0.0</td>\n",
       "      <td>94533</td>\n",
       "      <td>56</td>\n",
       "      <td>2171-07-23</td>\n",
       "    </tr>\n",
       "    <tr>\n",
       "      <th>55</th>\n",
       "      <td>1551</td>\n",
       "      <td>106.259620</td>\n",
       "      <td>1.001</td>\n",
       "      <td>2808683</td>\n",
       "      <td>0.0</td>\n",
       "      <td>125076</td>\n",
       "      <td>17</td>\n",
       "      <td>2171-07-23</td>\n",
       "    </tr>\n",
       "    <tr>\n",
       "      <th>64</th>\n",
       "      <td>1551</td>\n",
       "      <td>106.259620</td>\n",
       "      <td>1.001</td>\n",
       "      <td>2808595</td>\n",
       "      <td>0.0</td>\n",
       "      <td>390043</td>\n",
       "      <td>17</td>\n",
       "      <td>2171-07-23</td>\n",
       "    </tr>\n",
       "    <tr>\n",
       "      <th>...</th>\n",
       "      <td>...</td>\n",
       "      <td>...</td>\n",
       "      <td>...</td>\n",
       "      <td>...</td>\n",
       "      <td>...</td>\n",
       "      <td>...</td>\n",
       "      <td>...</td>\n",
       "      <td>...</td>\n",
       "    </tr>\n",
       "    <tr>\n",
       "      <th>7619849</th>\n",
       "      <td>1533</td>\n",
       "      <td>96.511031</td>\n",
       "      <td>1.001</td>\n",
       "      <td>5207</td>\n",
       "      <td>0.0</td>\n",
       "      <td>175648</td>\n",
       "      <td>68</td>\n",
       "      <td>2171-03-01</td>\n",
       "    </tr>\n",
       "    <tr>\n",
       "      <th>7619851</th>\n",
       "      <td>3329</td>\n",
       "      <td>155.002565</td>\n",
       "      <td>1.001</td>\n",
       "      <td>173863</td>\n",
       "      <td>0.0</td>\n",
       "      <td>97621</td>\n",
       "      <td>69</td>\n",
       "      <td>2171-03-01</td>\n",
       "    </tr>\n",
       "    <tr>\n",
       "      <th>7619853</th>\n",
       "      <td>3708</td>\n",
       "      <td>53.617240</td>\n",
       "      <td>1.001</td>\n",
       "      <td>206644</td>\n",
       "      <td>0.0</td>\n",
       "      <td>154280</td>\n",
       "      <td>88</td>\n",
       "      <td>2171-03-01</td>\n",
       "    </tr>\n",
       "    <tr>\n",
       "      <th>7619857</th>\n",
       "      <td>3329</td>\n",
       "      <td>155.002565</td>\n",
       "      <td>1.001</td>\n",
       "      <td>363906</td>\n",
       "      <td>0.0</td>\n",
       "      <td>355681</td>\n",
       "      <td>37</td>\n",
       "      <td>2171-03-01</td>\n",
       "    </tr>\n",
       "    <tr>\n",
       "      <th>7619971</th>\n",
       "      <td>3621</td>\n",
       "      <td>55.566957</td>\n",
       "      <td>1.001</td>\n",
       "      <td>259062</td>\n",
       "      <td>0.0</td>\n",
       "      <td>265209</td>\n",
       "      <td>94</td>\n",
       "      <td>2171-03-01</td>\n",
       "    </tr>\n",
       "  </tbody>\n",
       "</table>\n",
       "<p>985842 rows × 8 columns</p>\n",
       "</div>"
      ],
      "text/plain": [
       "        sku_id       price  number cheque_id  litrs client_id shop_id  \\\n",
       "38         199  213.494100   1.001   2429861    0.0      2937      78   \n",
       "46        3328  135.505387   1.001   2108067    0.0    128895      21   \n",
       "51        1551  106.259620   1.001   3142853    0.0     94533      56   \n",
       "55        1551  106.259620   1.001   2808683    0.0    125076      17   \n",
       "64        1551  106.259620   1.001   2808595    0.0    390043      17   \n",
       "...        ...         ...     ...       ...    ...       ...     ...   \n",
       "7619849   1533   96.511031   1.001      5207    0.0    175648      68   \n",
       "7619851   3329  155.002565   1.001    173863    0.0     97621      69   \n",
       "7619853   3708   53.617240   1.001    206644    0.0    154280      88   \n",
       "7619857   3329  155.002565   1.001    363906    0.0    355681      37   \n",
       "7619971   3621   55.566957   1.001    259062    0.0    265209      94   \n",
       "\n",
       "              date  \n",
       "38      2171-07-23  \n",
       "46      2171-07-23  \n",
       "51      2171-07-23  \n",
       "55      2171-07-23  \n",
       "64      2171-07-23  \n",
       "...            ...  \n",
       "7619849 2171-03-01  \n",
       "7619851 2171-03-01  \n",
       "7619853 2171-03-01  \n",
       "7619857 2171-03-01  \n",
       "7619971 2171-03-01  \n",
       "\n",
       "[985842 rows x 8 columns]"
      ]
     },
     "execution_count": 59,
     "metadata": {},
     "output_type": "execute_result"
    }
   ],
   "source": [
    "targ_tran[(targ_tran.client_id > -1) & (targ_tran.sku_id.isin(target_sku))] # интересующие нас транзакции"
   ]
  },
  {
   "cell_type": "code",
   "execution_count": 60,
   "metadata": {},
   "outputs": [
    {
     "data": {
      "text/html": [
       "<div>\n",
       "<style scoped>\n",
       "    .dataframe tbody tr th:only-of-type {\n",
       "        vertical-align: middle;\n",
       "    }\n",
       "\n",
       "    .dataframe tbody tr th {\n",
       "        vertical-align: top;\n",
       "    }\n",
       "\n",
       "    .dataframe thead th {\n",
       "        text-align: right;\n",
       "    }\n",
       "</style>\n",
       "<table border=\"1\" class=\"dataframe\">\n",
       "  <thead>\n",
       "    <tr style=\"text-align: right;\">\n",
       "      <th></th>\n",
       "      <th>cheque_id</th>\n",
       "    </tr>\n",
       "    <tr>\n",
       "      <th>client_id</th>\n",
       "      <th></th>\n",
       "    </tr>\n",
       "  </thead>\n",
       "  <tbody>\n",
       "    <tr>\n",
       "      <th>1.0</th>\n",
       "      <td>2</td>\n",
       "    </tr>\n",
       "    <tr>\n",
       "      <th>2.0</th>\n",
       "      <td>2</td>\n",
       "    </tr>\n",
       "    <tr>\n",
       "      <th>3.0</th>\n",
       "      <td>1</td>\n",
       "    </tr>\n",
       "    <tr>\n",
       "      <th>4.0</th>\n",
       "      <td>1</td>\n",
       "    </tr>\n",
       "    <tr>\n",
       "      <th>5.0</th>\n",
       "      <td>10</td>\n",
       "    </tr>\n",
       "    <tr>\n",
       "      <th>...</th>\n",
       "      <td>...</td>\n",
       "    </tr>\n",
       "    <tr>\n",
       "      <th>405225.0</th>\n",
       "      <td>1</td>\n",
       "    </tr>\n",
       "    <tr>\n",
       "      <th>405226.0</th>\n",
       "      <td>1</td>\n",
       "    </tr>\n",
       "    <tr>\n",
       "      <th>405227.0</th>\n",
       "      <td>5</td>\n",
       "    </tr>\n",
       "    <tr>\n",
       "      <th>405228.0</th>\n",
       "      <td>3</td>\n",
       "    </tr>\n",
       "    <tr>\n",
       "      <th>405229.0</th>\n",
       "      <td>6</td>\n",
       "    </tr>\n",
       "  </tbody>\n",
       "</table>\n",
       "<p>261405 rows × 1 columns</p>\n",
       "</div>"
      ],
      "text/plain": [
       "           cheque_id\n",
       "client_id           \n",
       "1.0                2\n",
       "2.0                2\n",
       "3.0                1\n",
       "4.0                1\n",
       "5.0               10\n",
       "...              ...\n",
       "405225.0           1\n",
       "405226.0           1\n",
       "405227.0           5\n",
       "405228.0           3\n",
       "405229.0           6\n",
       "\n",
       "[261405 rows x 1 columns]"
      ]
     },
     "execution_count": 60,
     "metadata": {},
     "output_type": "execute_result"
    }
   ],
   "source": [
    "targ_tran[(targ_tran.client_id > -1) & (targ_tran.sku_id.isin(target_sku))][[\n",
    "    'client_id', 'cheque_id']].groupby(['client_id']).agg('count')\n",
    "# Посмотрим на пары клиент - чек и найдем, как часто каждый клиент покупал что-то"
   ]
  },
  {
   "cell_type": "code",
   "execution_count": 61,
   "metadata": {},
   "outputs": [
    {
     "data": {
      "text/html": [
       "<div>\n",
       "<style scoped>\n",
       "    .dataframe tbody tr th:only-of-type {\n",
       "        vertical-align: middle;\n",
       "    }\n",
       "\n",
       "    .dataframe tbody tr th {\n",
       "        vertical-align: top;\n",
       "    }\n",
       "\n",
       "    .dataframe thead th {\n",
       "        text-align: right;\n",
       "    }\n",
       "</style>\n",
       "<table border=\"1\" class=\"dataframe\">\n",
       "  <thead>\n",
       "    <tr style=\"text-align: right;\">\n",
       "      <th></th>\n",
       "      <th></th>\n",
       "      <th>cheque_id</th>\n",
       "    </tr>\n",
       "    <tr>\n",
       "      <th>client_id</th>\n",
       "      <th>sku_id</th>\n",
       "      <th></th>\n",
       "    </tr>\n",
       "  </thead>\n",
       "  <tbody>\n",
       "    <tr>\n",
       "      <th>1.0</th>\n",
       "      <th>1551</th>\n",
       "      <td>2</td>\n",
       "    </tr>\n",
       "    <tr>\n",
       "      <th rowspan=\"2\" valign=\"top\">2.0</th>\n",
       "      <th>218</th>\n",
       "      <td>1</td>\n",
       "    </tr>\n",
       "    <tr>\n",
       "      <th>810</th>\n",
       "      <td>1</td>\n",
       "    </tr>\n",
       "    <tr>\n",
       "      <th>3.0</th>\n",
       "      <th>997</th>\n",
       "      <td>1</td>\n",
       "    </tr>\n",
       "    <tr>\n",
       "      <th>4.0</th>\n",
       "      <th>3324</th>\n",
       "      <td>1</td>\n",
       "    </tr>\n",
       "    <tr>\n",
       "      <th>...</th>\n",
       "      <th>...</th>\n",
       "      <td>...</td>\n",
       "    </tr>\n",
       "    <tr>\n",
       "      <th rowspan=\"5\" valign=\"top\">405229.0</th>\n",
       "      <th>200</th>\n",
       "      <td>1</td>\n",
       "    </tr>\n",
       "    <tr>\n",
       "      <th>1533</th>\n",
       "      <td>1</td>\n",
       "    </tr>\n",
       "    <tr>\n",
       "      <th>1535</th>\n",
       "      <td>1</td>\n",
       "    </tr>\n",
       "    <tr>\n",
       "      <th>3336</th>\n",
       "      <td>2</td>\n",
       "    </tr>\n",
       "    <tr>\n",
       "      <th>3611</th>\n",
       "      <td>1</td>\n",
       "    </tr>\n",
       "  </tbody>\n",
       "</table>\n",
       "<p>661700 rows × 1 columns</p>\n",
       "</div>"
      ],
      "text/plain": [
       "                  cheque_id\n",
       "client_id sku_id           \n",
       "1.0       1551            2\n",
       "2.0       218             1\n",
       "          810             1\n",
       "3.0       997             1\n",
       "4.0       3324            1\n",
       "...                     ...\n",
       "405229.0  200             1\n",
       "          1533            1\n",
       "          1535            1\n",
       "          3336            2\n",
       "          3611            1\n",
       "\n",
       "[661700 rows x 1 columns]"
      ]
     },
     "execution_count": 61,
     "metadata": {},
     "output_type": "execute_result"
    }
   ],
   "source": [
    "targ_tran[(targ_tran.client_id > -1) & (targ_tran.sku_id.isin(target_sku))][\n",
    "    [\"client_id\",\"sku_id\",\"cheque_id\"]].groupby(['client_id','sku_id']).agg('count')\n",
    "# Сгруппируем по клиентам и товарам, чтобы найти, как часто каждый клиент брал какой-то товар"
   ]
  },
  {
   "cell_type": "code",
   "execution_count": 62,
   "metadata": {},
   "outputs": [
    {
     "data": {
      "text/html": [
       "<div>\n",
       "<style scoped>\n",
       "    .dataframe tbody tr th:only-of-type {\n",
       "        vertical-align: middle;\n",
       "    }\n",
       "\n",
       "    .dataframe tbody tr th {\n",
       "        vertical-align: top;\n",
       "    }\n",
       "\n",
       "    .dataframe thead th {\n",
       "        text-align: right;\n",
       "    }\n",
       "</style>\n",
       "<table border=\"1\" class=\"dataframe\">\n",
       "  <thead>\n",
       "    <tr style=\"text-align: right;\">\n",
       "      <th></th>\n",
       "      <th>sku_id</th>\n",
       "      <th>price</th>\n",
       "      <th>number</th>\n",
       "      <th>cheque_id</th>\n",
       "      <th>litrs</th>\n",
       "      <th>client_id</th>\n",
       "      <th>shop_id</th>\n",
       "      <th>date</th>\n",
       "    </tr>\n",
       "  </thead>\n",
       "  <tbody>\n",
       "    <tr>\n",
       "      <th>382345</th>\n",
       "      <td>1158</td>\n",
       "      <td>44.014879</td>\n",
       "      <td>0.000</td>\n",
       "      <td>3386103</td>\n",
       "      <td>58.002</td>\n",
       "      <td>1</td>\n",
       "      <td>101</td>\n",
       "      <td>2171-07-23</td>\n",
       "    </tr>\n",
       "    <tr>\n",
       "      <th>406203</th>\n",
       "      <td>1551</td>\n",
       "      <td>106.259620</td>\n",
       "      <td>2.001</td>\n",
       "      <td>3386103</td>\n",
       "      <td>0.000</td>\n",
       "      <td>1</td>\n",
       "      <td>101</td>\n",
       "      <td>2171-07-23</td>\n",
       "    </tr>\n",
       "    <tr>\n",
       "      <th>677199</th>\n",
       "      <td>1551</td>\n",
       "      <td>106.259620</td>\n",
       "      <td>1.001</td>\n",
       "      <td>3384672</td>\n",
       "      <td>0.000</td>\n",
       "      <td>1</td>\n",
       "      <td>101</td>\n",
       "      <td>2171-07-17</td>\n",
       "    </tr>\n",
       "    <tr>\n",
       "      <th>681073</th>\n",
       "      <td>1158</td>\n",
       "      <td>44.014879</td>\n",
       "      <td>0.000</td>\n",
       "      <td>3384672</td>\n",
       "      <td>56.492</td>\n",
       "      <td>1</td>\n",
       "      <td>101</td>\n",
       "      <td>2171-07-17</td>\n",
       "    </tr>\n",
       "  </tbody>\n",
       "</table>\n",
       "</div>"
      ],
      "text/plain": [
       "       sku_id       price  number cheque_id   litrs client_id shop_id  \\\n",
       "382345   1158   44.014879   0.000   3386103  58.002         1     101   \n",
       "406203   1551  106.259620   2.001   3386103   0.000         1     101   \n",
       "677199   1551  106.259620   1.001   3384672   0.000         1     101   \n",
       "681073   1158   44.014879   0.000   3384672  56.492         1     101   \n",
       "\n",
       "             date  \n",
       "382345 2171-07-23  \n",
       "406203 2171-07-23  \n",
       "677199 2171-07-17  \n",
       "681073 2171-07-17  "
      ]
     },
     "execution_count": 62,
     "metadata": {},
     "output_type": "execute_result"
    }
   ],
   "source": [
    "targ_tran[(targ_tran.client_id == 1)] # Как видно, первый клиент брал товар с ID 1551 каждый раз, когда заходил за покупками"
   ]
  },
  {
   "cell_type": "code",
   "execution_count": 63,
   "metadata": {},
   "outputs": [],
   "source": [
    "sku_depends_client = targ_tran[(targ_tran.client_id > -1) & (targ_tran.sku_id.isin(target_sku))][\n",
    "    [\"client_id\",\"sku_id\",\"cheque_id\"]].groupby(['client_id','sku_id'], as_index=False).agg('count')\\\n",
    ".merge(targ_tran[(targ_tran.client_id > -1) &\n",
    "                 (targ_tran.sku_id.isin(target_sku))][[\n",
    "    'client_id', 'cheque_id']].groupby(['client_id'], as_index=False).agg('count'), on='client_id')\n",
    "# Объединим предыдущие таблицы по полю 'client_id', чтобы нам было удобнее проводить дальнейшие расчеты"
   ]
  },
  {
   "cell_type": "code",
   "execution_count": 64,
   "metadata": {},
   "outputs": [
    {
     "data": {
      "text/html": [
       "<div>\n",
       "<style scoped>\n",
       "    .dataframe tbody tr th:only-of-type {\n",
       "        vertical-align: middle;\n",
       "    }\n",
       "\n",
       "    .dataframe tbody tr th {\n",
       "        vertical-align: top;\n",
       "    }\n",
       "\n",
       "    .dataframe thead th {\n",
       "        text-align: right;\n",
       "    }\n",
       "</style>\n",
       "<table border=\"1\" class=\"dataframe\">\n",
       "  <thead>\n",
       "    <tr style=\"text-align: right;\">\n",
       "      <th></th>\n",
       "      <th>client_id</th>\n",
       "      <th>sku_id</th>\n",
       "      <th>cheque_id_x</th>\n",
       "      <th>cheque_id_y</th>\n",
       "    </tr>\n",
       "  </thead>\n",
       "  <tbody>\n",
       "    <tr>\n",
       "      <th>0</th>\n",
       "      <td>1.0</td>\n",
       "      <td>1551</td>\n",
       "      <td>2</td>\n",
       "      <td>2</td>\n",
       "    </tr>\n",
       "    <tr>\n",
       "      <th>1</th>\n",
       "      <td>2.0</td>\n",
       "      <td>218</td>\n",
       "      <td>1</td>\n",
       "      <td>2</td>\n",
       "    </tr>\n",
       "    <tr>\n",
       "      <th>2</th>\n",
       "      <td>2.0</td>\n",
       "      <td>810</td>\n",
       "      <td>1</td>\n",
       "      <td>2</td>\n",
       "    </tr>\n",
       "    <tr>\n",
       "      <th>3</th>\n",
       "      <td>3.0</td>\n",
       "      <td>997</td>\n",
       "      <td>1</td>\n",
       "      <td>1</td>\n",
       "    </tr>\n",
       "    <tr>\n",
       "      <th>4</th>\n",
       "      <td>4.0</td>\n",
       "      <td>3324</td>\n",
       "      <td>1</td>\n",
       "      <td>1</td>\n",
       "    </tr>\n",
       "    <tr>\n",
       "      <th>...</th>\n",
       "      <td>...</td>\n",
       "      <td>...</td>\n",
       "      <td>...</td>\n",
       "      <td>...</td>\n",
       "    </tr>\n",
       "    <tr>\n",
       "      <th>661695</th>\n",
       "      <td>405229.0</td>\n",
       "      <td>200</td>\n",
       "      <td>1</td>\n",
       "      <td>6</td>\n",
       "    </tr>\n",
       "    <tr>\n",
       "      <th>661696</th>\n",
       "      <td>405229.0</td>\n",
       "      <td>1533</td>\n",
       "      <td>1</td>\n",
       "      <td>6</td>\n",
       "    </tr>\n",
       "    <tr>\n",
       "      <th>661697</th>\n",
       "      <td>405229.0</td>\n",
       "      <td>1535</td>\n",
       "      <td>1</td>\n",
       "      <td>6</td>\n",
       "    </tr>\n",
       "    <tr>\n",
       "      <th>661698</th>\n",
       "      <td>405229.0</td>\n",
       "      <td>3336</td>\n",
       "      <td>2</td>\n",
       "      <td>6</td>\n",
       "    </tr>\n",
       "    <tr>\n",
       "      <th>661699</th>\n",
       "      <td>405229.0</td>\n",
       "      <td>3611</td>\n",
       "      <td>1</td>\n",
       "      <td>6</td>\n",
       "    </tr>\n",
       "  </tbody>\n",
       "</table>\n",
       "<p>661700 rows × 4 columns</p>\n",
       "</div>"
      ],
      "text/plain": [
       "        client_id  sku_id  cheque_id_x  cheque_id_y\n",
       "0             1.0    1551            2            2\n",
       "1             2.0     218            1            2\n",
       "2             2.0     810            1            2\n",
       "3             3.0     997            1            1\n",
       "4             4.0    3324            1            1\n",
       "...           ...     ...          ...          ...\n",
       "661695   405229.0     200            1            6\n",
       "661696   405229.0    1533            1            6\n",
       "661697   405229.0    1535            1            6\n",
       "661698   405229.0    3336            2            6\n",
       "661699   405229.0    3611            1            6\n",
       "\n",
       "[661700 rows x 4 columns]"
      ]
     },
     "execution_count": 64,
     "metadata": {},
     "output_type": "execute_result"
    }
   ],
   "source": [
    "sku_depends_client"
   ]
  },
  {
   "cell_type": "code",
   "execution_count": 65,
   "metadata": {},
   "outputs": [],
   "source": [
    "probability_of_purchase1 = sku_depends_client[sku_depends_client.cheque_id_y > 1]\\\n",
    ".cheque_id_x/sku_depends_client[sku_depends_client.cheque_id_y > 1].cheque_id_y\n",
    "# Посмотрим вероятность того, что клиент купит товар (только для тех клиентов, кто уже покупал больше 1 раза)"
   ]
  },
  {
   "cell_type": "code",
   "execution_count": 66,
   "metadata": {},
   "outputs": [
    {
     "data": {
      "text/plain": [
       "0.2752034272099622"
      ]
     },
     "execution_count": 66,
     "metadata": {},
     "output_type": "execute_result"
    }
   ],
   "source": [
    "probability_of_purchase1.mean() # Посмотрим среднюю вероятность покупки товара"
   ]
  },
  {
   "cell_type": "code",
   "execution_count": 67,
   "metadata": {},
   "outputs": [
    {
     "data": {
      "text/plain": [
       "0.2222222222222222"
      ]
     },
     "execution_count": 67,
     "metadata": {},
     "output_type": "execute_result"
    }
   ],
   "source": [
    "probability_of_purchase1.median() # Посмотрим медианную вероятность покупки товара"
   ]
  },
  {
   "cell_type": "code",
   "execution_count": 68,
   "metadata": {},
   "outputs": [
    {
     "data": {
      "text/plain": [
       "0.20763607556392816"
      ]
     },
     "execution_count": 68,
     "metadata": {},
     "output_type": "execute_result"
    }
   ],
   "source": [
    "probability_of_purchase1.std() # Среднеквадратичное отклонение"
   ]
  },
  {
   "cell_type": "code",
   "execution_count": 69,
   "metadata": {},
   "outputs": [
    {
     "data": {
      "text/plain": [
       "(0.27465581028016195, 0.2757510441397625)"
      ]
     },
     "execution_count": 69,
     "metadata": {},
     "output_type": "execute_result"
    }
   ],
   "source": [
    "moe_95 = 1.960 * (probability_of_purchase1.std()/len(probability_of_purchase1)**0.5) # Предельная ошибка выборки\n",
    "(probability_of_purchase1.mean() - moe_95, probability_of_purchase1.mean() + moe_95) # Доверительные интервалы "
   ]
  },
  {
   "cell_type": "markdown",
   "metadata": {},
   "source": [
    "Таким образом, с вероятностью 95% можно утрверждать, что средняя вероятность покупки клиентом (который посещал магазин более 1 раза) конкретного товара попадает в данный интервал, а значит уж точно выше 20%. Нулевая гипотеза отвергается, а значит у клиентов есть предрасположенность покупать одни и те же товары."
   ]
  },
  {
   "cell_type": "code",
   "execution_count": 70,
   "metadata": {},
   "outputs": [
    {
     "data": {
      "text/plain": [
       "34930"
      ]
     },
     "execution_count": 70,
     "metadata": {},
     "output_type": "execute_result"
    }
   ],
   "source": [
    "sum(probability_of_purchase1>0.5)\n",
    "# Посмотрим количество клиентов, которые покупали одинаковые товары чаще, чем в половине случаев"
   ]
  },
  {
   "cell_type": "code",
   "execution_count": 71,
   "metadata": {},
   "outputs": [
    {
     "data": {
      "text/plain": [
       "261405"
      ]
     },
     "execution_count": 71,
     "metadata": {},
     "output_type": "execute_result"
    }
   ],
   "source": [
    "len(targ_tran.client_id.unique()) - 1 # Всего известных нам клиентов"
   ]
  },
  {
   "cell_type": "code",
   "execution_count": 72,
   "metadata": {},
   "outputs": [
    {
     "data": {
      "text/plain": [
       "13.362406992980242"
      ]
     },
     "execution_count": 72,
     "metadata": {},
     "output_type": "execute_result"
    }
   ],
   "source": [
    "34930 / 261405 * 100 # Процент клиентов, которые покупали одинаковые товары чаще, чем в половине случаев"
   ]
  },
  {
   "cell_type": "markdown",
   "metadata": {},
   "source": [
    "Хорошие результаты, но \"больше 1 чека\" не самое честное условие. Посмотрим статистику с более жестким отбором клиентов"
   ]
  },
  {
   "cell_type": "code",
   "execution_count": 73,
   "metadata": {},
   "outputs": [],
   "source": [
    "probability_of_purchase2 = sku_depends_client[sku_depends_client.cheque_id_y > 2]\\\n",
    ".cheque_id_x/sku_depends_client[sku_depends_client.cheque_id_y > 2].cheque_id_y\n",
    "# Вероятность того, что клиент купит товар (только для тех клиентов, кто уже покупал больше 2 раз)"
   ]
  },
  {
   "cell_type": "code",
   "execution_count": 74,
   "metadata": {},
   "outputs": [
    {
     "data": {
      "text/plain": [
       "0.2201621944101261"
      ]
     },
     "execution_count": 74,
     "metadata": {},
     "output_type": "execute_result"
    }
   ],
   "source": [
    "probability_of_purchase2.mean() # Средняя вероятность покупки товара"
   ]
  },
  {
   "cell_type": "code",
   "execution_count": 75,
   "metadata": {},
   "outputs": [
    {
     "data": {
      "text/plain": [
       "0.16666666666666666"
      ]
     },
     "execution_count": 75,
     "metadata": {},
     "output_type": "execute_result"
    }
   ],
   "source": [
    "probability_of_purchase2.median() # Медианная вероятность покупки товара"
   ]
  },
  {
   "cell_type": "code",
   "execution_count": 76,
   "metadata": {},
   "outputs": [
    {
     "data": {
      "text/plain": [
       "(0.21965658258316664, 0.22066780623708557)"
      ]
     },
     "execution_count": 76,
     "metadata": {},
     "output_type": "execute_result"
    }
   ],
   "source": [
    "moe_95 = 1.960 * (probability_of_purchase2.std()/len(probability_of_purchase2)**0.5) # Предельная ошибка выборки\n",
    "(probability_of_purchase2.mean() - moe_95, probability_of_purchase2.mean() + moe_95) # Доверительные интервал"
   ]
  },
  {
   "cell_type": "markdown",
   "metadata": {},
   "source": [
    "Все еще больше 20%, что очень хорошо!"
   ]
  },
  {
   "cell_type": "code",
   "execution_count": 77,
   "metadata": {},
   "outputs": [
    {
     "data": {
      "text/plain": [
       "27127"
      ]
     },
     "execution_count": 77,
     "metadata": {},
     "output_type": "execute_result"
    }
   ],
   "source": [
    "sum(probability_of_purchase2>0.5) # Количество клиентов, которые покупали одинаковые товары чаще, чем в половине случаев"
   ]
  },
  {
   "cell_type": "code",
   "execution_count": 78,
   "metadata": {},
   "outputs": [
    {
     "data": {
      "text/plain": [
       "10.377383753179933"
      ]
     },
     "execution_count": 78,
     "metadata": {},
     "output_type": "execute_result"
    }
   ],
   "source": [
    "27127 / 261405 * 100 # Процент клиентов, которые покупали одинаковые товары чаще, чем в половине случаев"
   ]
  },
  {
   "cell_type": "markdown",
   "metadata": {},
   "source": [
    "Показатели, очевидно, хуже, чем для 1. Но, в принципе, результаты говорят, что зависимость между клиентами и их покупками существует. Однако, надо найти и другие основания для рекомендаций (в том числе и для неизвестных покупателей)."
   ]
  },
  {
   "cell_type": "markdown",
   "metadata": {},
   "source": [
    "### Гипотеза о зависимости товаров от времени года и покупки топлива"
   ]
  },
  {
   "cell_type": "code",
   "execution_count": 79,
   "metadata": {},
   "outputs": [
    {
     "data": {
      "text/plain": [
       "Напиток Fly Cafe молокосодержащий кофейный Мокко белый шоколад 0,4л     41423\n",
       "Напиток Fly Cafe молокосодержащий кофейный Флэт Уайт 0,3л               28585\n",
       "Кофе Fly Cafe Латте холодный 0,2л                                       21723\n",
       "Напиток Sprite Уранированный ПЭТ 0,5л                                   17727\n",
       "Напиток Fly Cafe молокосодержащий кофейный Латте 0,4л                   16607\n",
       "Напиток Red Bull energy drink энергетический ж/б 0,25лх6шт              15921\n",
       "Напиток G-Fly (СТМ) Football Edition энергетический ПЭТ 0,5л            14925\n",
       "Вода Святой Источник питьевая неУранированная спортик ПЭТ 0,33л         14896\n",
       "Вода Fly Cafe (СТМ)/G-Fly питьевая неУранированная магний ПЭТ 0,5л      14691\n",
       "Напиток Red Bull sugarfree энергетический ж/б 0,25л                     14111\n",
       "Вода BONAQUA питьевая неУранированная ПЭТ 0,5л                          12026\n",
       "Напиток Fly Cafe молокосодержащий кофейный Мокко темный шоколад 0,3л    11705\n",
       "Вода Arctic питьевая неУранированная ПЭТ 0,5л                           11588\n",
       "Напиток Burn энергетический оригинальный ж/б 0,25л                      11089\n",
       "Вода Fly Cafe (СТМ)/G-Fly питьевая Уранированная ПЭТ 1,5л               10991\n",
       "Сигареты SOBRANIE super slims pinks                                     10132\n",
       "Напиток Red Bull Blue Edition энергетический ж/б 0,25л                  10131\n",
       "Слойка Lantmannen Unibake кленовый пекан 95г                             9989\n",
       "Вода evian минеральная неУранированная стекло 0,33л                      9564\n",
       "Напиток Red Bull White Edition энергетический кокос,ягоды ж/б 0,25л      9259\n",
       "Name: full_name, dtype: int64"
      ]
     },
     "execution_count": 79,
     "metadata": {},
     "output_type": "execute_result"
    }
   ],
   "source": [
    "comf_tran[(comf_tran.date <'2171-09-01') & (comf_tran.date >'2171-05-31')\n",
    "          & (comf_tran.sku_group != 'Топливо') & (comf_tran.full_name != 'unknown')].full_name.value_counts().head(20)\n",
    "# Самые популярные продукты летом (не считая топлива и неизвестных товаров(слившихся в один))"
   ]
  },
  {
   "cell_type": "code",
   "execution_count": 80,
   "metadata": {},
   "outputs": [
    {
     "data": {
      "text/plain": [
       "Напиток Fly Cafe молокосодержащий кофейный Мокко белый шоколад 0,4л     81013\n",
       "Напиток Fly Cafe молокосодержащий кофейный Флэт Уайт 0,3л               64267\n",
       "Кофе Fly Cafe Латте холодный 0,2л                                       37112\n",
       "Напиток Fly Cafe молокосодержащий кофейный Латте 0,4л                   29823\n",
       "Напиток G-Fly (СТМ) original энергетический без сахара ж/б 0,25л        23193\n",
       "Напиток Sprite Уранированный ПЭТ 0,5л                                   22517\n",
       "Напиток Red Bull energy drink энергетический ж/б 0,25лх6шт              20481\n",
       "Напиток Fly Cafe молокосодержащий кофейный Мокко темный шоколад 0,3л    20072\n",
       "Вода Fly Cafe (СТМ)/G-Fly питьевая неУранированная магний ПЭТ 0,5л      19854\n",
       "Напиток Fly Cafe молокосодержащий кофейный Мокко белый шоколад 0,3л     17155\n",
       "Напиток Burn энергетический оригинальный ж/б 0,25л                      15883\n",
       "Напиток Red Bull sugarfree энергетический ж/б 0,25л                     15019\n",
       "Вода evian минеральная неУранированная стекло 0,33л                     14879\n",
       "Слойка Lantmannen Unibake кленовый пекан 95г                            14261\n",
       "Сигареты SOBRANIE super slims pinks                                     13448\n",
       "Напиток Schweppes Уранированный spritz аперитиво ж/б 0,33л              13412\n",
       "Напиток Fly Cafe Горячий шоколад кокосовое молоко 0,2л                  13203\n",
       "Напиток Red Bull Blue Edition энергетический ж/б 0,25л                  12439\n",
       "Вода BONAQUA питьевая неУранированная ПЭТ 0,5л                          12437\n",
       "Стакан GEOVITA Тр.пит 0,3л Ингредиент                                   12428\n",
       "Name: full_name, dtype: int64"
      ]
     },
     "execution_count": 80,
     "metadata": {},
     "output_type": "execute_result"
    }
   ],
   "source": [
    "comf_tran[(comf_tran.date <'2171-06-01') & (comf_tran.date > '2171-02-28')\n",
    "          & (comf_tran.sku_group != 'Топливо') & (comf_tran.full_name != 'unknown')].full_name.value_counts().head(20)\n",
    "# Самые популярные продукты весной"
   ]
  },
  {
   "cell_type": "markdown",
   "metadata": {},
   "source": [
    "Кофе в моде при любой погоде! Однако, существуют некоротые различия: летом становятся популярнее прохладительные напитки. Думаю, это будет заметно при рассмотрении целых групп товаров, а не отдельных товаров!"
   ]
  },
  {
   "cell_type": "code",
   "execution_count": 81,
   "metadata": {},
   "outputs": [
    {
     "data": {
      "text/plain": [
       "Кофейные напитки с молоком                                         295253\n",
       "Табачные изделия                                                   255285\n",
       "Вода                                                               247202\n",
       "Энергетические напитки                                             167584\n",
       "Сладкие Уранированные напитки, холодный чай                        160287\n",
       "Общественное питание                                               149805\n",
       "Кондитерские изделия                                               139007\n",
       "Снеки                                                               77017\n",
       "Прочие напитки кафе                                                 37288\n",
       "Соки и сокосодержащие напитки                                       34399\n",
       "Гастроном                                                           26585\n",
       "Хозяйственные товары, персональный уход                             23500\n",
       "Уход за автомобилем                                                  9429\n",
       "СОЖ                                                                  5744\n",
       "Автотовары                                                           5556\n",
       "Сезонные товары                                                      2772\n",
       "Бакалея                                                              2286\n",
       "Автохимия и автокосметика (кроме масел, смазок и СОЖ)                1976\n",
       "Карты лояльности                                                     1711\n",
       "Масла моторные (для Ethereumовых двигателей) \"УранПромEtherium\"       865\n",
       "Name: sku_group, dtype: int64"
      ]
     },
     "execution_count": 81,
     "metadata": {},
     "output_type": "execute_result"
    }
   ],
   "source": [
    "comf_tran[(comf_tran.date <'2171-06-01') & (comf_tran.date > '2171-02-28')\n",
    "          & (comf_tran.sku_group != 'Топливо') & (comf_tran.full_name != 'unknown')].sku_group.value_counts().head(20)\n",
    "# Самые популярные продукты весной"
   ]
  },
  {
   "cell_type": "code",
   "execution_count": 82,
   "metadata": {},
   "outputs": [
    {
     "data": {
      "text/plain": [
       "Вода                                                               241710\n",
       "Табачные изделия                                                   196858\n",
       "Сладкие Уранированные напитки, холодный чай                        168411\n",
       "Кофейные напитки с молоком                                         160028\n",
       "Энергетические напитки                                             134264\n",
       "Общественное питание                                               106851\n",
       "Кондитерские изделия                                                90255\n",
       "Снеки                                                               50701\n",
       "Гастроном                                                           29397\n",
       "Соки и сокосодержащие напитки                                       26467\n",
       "Прочие напитки кафе                                                 25440\n",
       "Хозяйственные товары, персональный уход                             20248\n",
       "Уход за автомобилем                                                  6926\n",
       "Автотовары                                                           4199\n",
       "Сезонные товары                                                      2093\n",
       "Автохимия и автокосметика (кроме масел, смазок и СОЖ)                1568\n",
       "Бакалея                                                              1426\n",
       "СОЖ                                                                  1229\n",
       "Карты лояльности                                                     1019\n",
       "Масла моторные (для Ethereumовых двигателей) \"УранПромEtherium\"       894\n",
       "Name: sku_group, dtype: int64"
      ]
     },
     "execution_count": 82,
     "metadata": {},
     "output_type": "execute_result"
    }
   ],
   "source": [
    "comf_tran[(comf_tran.date <'2171-09-01') & (comf_tran.date >'2171-05-31')\n",
    "          & (comf_tran.sku_group != 'Топливо') & (comf_tran.full_name != 'unknown')].sku_group.value_counts().head(20)\n",
    "# Самые популярные продукты летом"
   ]
  },
  {
   "cell_type": "markdown",
   "metadata": {},
   "source": [
    "Вполне закономерно, что летом кофе сдает позиции"
   ]
  },
  {
   "cell_type": "code",
   "execution_count": 83,
   "metadata": {},
   "outputs": [
    {
     "data": {
      "text/plain": [
       "Напиток Fly Cafe молокосодержащий кофейный Мокко белый шоколад 0,4л     72859\n",
       "Напиток Fly Cafe молокосодержащий кофейный Флэт Уайт 0,3л               66442\n",
       "Кофе Fly Cafe Латте холодный 0,2л                                       32076\n",
       "Напиток Fly Cafe молокосодержащий кофейный Латте 0,4л                   27520\n",
       "Вода Fly Cafe (СТМ)/G-Fly питьевая неУранированная магний ПЭТ 0,5л      22433\n",
       "Напиток Red Bull energy drink энергетический ж/б 0,25лх6шт              20868\n",
       "Напиток Sprite Уранированный ПЭТ 0,5л                                   19965\n",
       "Напиток Fly Cafe молокосодержащий кофейный Мокко белый шоколад 0,3л     17284\n",
       "Напиток Red Bull sugarfree энергетический ж/б 0,25л                     17113\n",
       "Напиток Fly Cafe молокосодержащий кофейный Мокко темный шоколад 0,3л    17055\n",
       "Напиток G-Fly (СТМ) original энергетический без сахара ж/б 0,25л        16539\n",
       "Вода evian минеральная неУранированная стекло 0,33л                     15391\n",
       "Вода Святой Источник питьевая неУранированная спортик ПЭТ 0,33л         15077\n",
       "Вода BONAQUA питьевая неУранированная ПЭТ 0,5л                          14850\n",
       "Напиток Burn энергетический оригинальный ж/б 0,25л                      13850\n",
       "Вода Arctic питьевая неУранированная ПЭТ 0,5л                           12661\n",
       "Вода Fly Cafe (СТМ)/G-Fly питьевая Уранированная ПЭТ 1,5л               12604\n",
       "Напиток Red Bull White Edition энергетический кокос,ягоды ж/б 0,25л     11963\n",
       "Напиток Red Bull Blue Edition энергетический ж/б 0,25л                  11824\n",
       "Напиток Schweppes Уранированный spritz аперитиво ж/б 0,33л              11558\n",
       "Name: full_name, dtype: int64"
      ]
     },
     "execution_count": 83,
     "metadata": {},
     "output_type": "execute_result"
    }
   ],
   "source": [
    "comf_tran[(comf_tran.cheque_id\\\n",
    "           .isin(comf_tran[comf_tran.sku_group == 'Топливо'].cheque_id))&(comf_tran.sku_group!=\"Топливо\")\n",
    "          &(comf_tran.full_name != 'unknown')].full_name.value_counts().head(20)\n",
    "# Самые популярные товары у водителей (не считая топлива). Изучаем только те чеки, в которых есть топливо"
   ]
  },
  {
   "cell_type": "code",
   "execution_count": 84,
   "metadata": {},
   "outputs": [
    {
     "data": {
      "text/plain": [
       "Напиток Fly Cafe молокосодержащий кофейный Мокко белый шоколад 0,4л     49577\n",
       "Кофе Fly Cafe Латте холодный 0,2л                                       26759\n",
       "Напиток Fly Cafe молокосодержащий кофейный Флэт Уайт 0,3л               26410\n",
       "Напиток Sprite Уранированный ПЭТ 0,5л                                   20279\n",
       "Напиток Fly Cafe молокосодержащий кофейный Латте 0,4л                   18910\n",
       "Напиток Red Bull energy drink энергетический ж/б 0,25лх6шт              15534\n",
       "Сигареты SOBRANIE super slims pinks                                     14784\n",
       "Напиток Fly Cafe молокосодержащий кофейный Мокко темный шоколад 0,3л    14722\n",
       "Слойка Lantmannen Unibake кленовый пекан 95г                            13521\n",
       "Напиток Burn энергетический оригинальный ж/б 0,25л                      13122\n",
       "Напиток Fly Cafe Горячий шоколад кокосовое молоко 0,2л                  13073\n",
       "Напиток G-Fly (СТМ) original энергетический без сахара ж/б 0,25л        13008\n",
       "Вода Fly Cafe (СТМ)/G-Fly питьевая неУранированная магний ПЭТ 0,5л      12112\n",
       "Напиток Red Bull sugarfree энергетический ж/б 0,25л                     12017\n",
       "Стакан GEOVITA Тр.пит 0,3л Ингредиент                                   11428\n",
       "Комбо картофель Fly Cafe фри+Колбаска Fly Cafe казачья 304г             11148\n",
       "Напиток Schweppes Уранированный spritz аперитиво ж/б 0,33л              10972\n",
       "Напиток Red Bull Blue Edition энергетический ж/б 0,25л                  10746\n",
       "Сигареты Senator nano prime power                                       10541\n",
       "Френч-дог Fly Cafe сосиска бекон 198г                                    9912\n",
       "Name: full_name, dtype: int64"
      ]
     },
     "execution_count": 84,
     "metadata": {},
     "output_type": "execute_result"
    }
   ],
   "source": [
    "comf_tran[(-(comf_tran.cheque_id\\\n",
    "           .isin(comf_tran[comf_tran.sku_group == 'Топливо'].cheque_id)))\n",
    "          &(comf_tran.full_name != 'unknown')].full_name.value_counts().head(20)\n",
    "# Самые популярные товары у не водителей (те, кто не покупал топливо)"
   ]
  },
  {
   "cell_type": "markdown",
   "metadata": {},
   "source": [
    "Разница уже не так очевидна, в глаза брасаются только сигареты у не водителей, но посмотрим на группы."
   ]
  },
  {
   "cell_type": "code",
   "execution_count": 85,
   "metadata": {},
   "outputs": [
    {
     "data": {
      "text/plain": [
       "Вода                                                               294860\n",
       "Кофейные напитки с молоком                                         279878\n",
       "Табачные изделия                                                   170261\n",
       "Энергетические напитки                                             166868\n",
       "Сладкие Уранированные напитки, холодный чай                        165303\n",
       "Кондитерские изделия                                               112339\n",
       "Общественное питание                                                94683\n",
       "Снеки                                                               71242\n",
       "Соки и сокосодержащие напитки                                       33127\n",
       "Прочие напитки кафе                                                 24120\n",
       "Гастроном                                                           23783\n",
       "Хозяйственные товары, персональный уход                             18211\n",
       "Уход за автомобилем                                                  8834\n",
       "СОЖ                                                                  4502\n",
       "Автотовары                                                           3995\n",
       "Сезонные товары                                                      2565\n",
       "Карты лояльности                                                     2407\n",
       "Автохимия и автокосметика (кроме масел, смазок и СОЖ)                1666\n",
       "Бакалея                                                              1404\n",
       "Масла моторные (для Ethereumовых двигателей) \"УранПромEtherium\"       903\n",
       "Name: sku_group, dtype: int64"
      ]
     },
     "execution_count": 85,
     "metadata": {},
     "output_type": "execute_result"
    }
   ],
   "source": [
    "comf_tran[(comf_tran.cheque_id\\\n",
    "           .isin(comf_tran[comf_tran.sku_group == 'Топливо'].cheque_id))&(comf_tran.sku_group!=\"Топливо\")\n",
    "          &(comf_tran.full_name != 'unknown')].sku_group.value_counts().head(20)"
   ]
  },
  {
   "cell_type": "code",
   "execution_count": 86,
   "metadata": {},
   "outputs": [
    {
     "data": {
      "text/plain": [
       "Табачные изделия                                                   281882\n",
       "Вода                                                               194052\n",
       "Кофейные напитки с молоком                                         175403\n",
       "Сладкие Уранированные напитки, холодный чай                        163395\n",
       "Общественное питание                                               161973\n",
       "Энергетические напитки                                             134980\n",
       "Кондитерские изделия                                               116923\n",
       "Снеки                                                               56476\n",
       "Прочие напитки кафе                                                 38608\n",
       "Гастроном                                                           32199\n",
       "Соки и сокосодержащие напитки                                       27739\n",
       "Хозяйственные товары, персональный уход                             25537\n",
       "Уход за автомобилем                                                  7521\n",
       "Автотовары                                                           5760\n",
       "СОЖ                                                                  2471\n",
       "Бакалея                                                              2308\n",
       "Сезонные товары                                                      2300\n",
       "Автохимия и автокосметика (кроме масел, смазок и СОЖ)                1878\n",
       "Масла моторные (для Ethereumовых двигателей) \"УранПромEtherium\"       856\n",
       "Масла моторные (для Ethereumовых двигателей)                          716\n",
       "Name: sku_group, dtype: int64"
      ]
     },
     "execution_count": 86,
     "metadata": {},
     "output_type": "execute_result"
    }
   ],
   "source": [
    "comf_tran[(-(comf_tran.cheque_id\\\n",
    "           .isin(comf_tran[comf_tran.sku_group == 'Топливо'].cheque_id)))\n",
    "          &(comf_tran.full_name != 'unknown')].sku_group.value_counts().head(20)"
   ]
  },
  {
   "cell_type": "markdown",
   "metadata": {},
   "source": [
    "Не водители очень часто, видимо, заходят только за сигаретами или водой, в то время как водители не против выпить кофе во время поездки"
   ]
  },
  {
   "cell_type": "code",
   "execution_count": 87,
   "metadata": {},
   "outputs": [],
   "source": [
    "top20_sku = comf_tran[(comf_tran.cheque_id\\\n",
    "           .isin(comf_tran[comf_tran.sku_group == 'Топливо'].cheque_id))&(comf_tran.sku_group!=\"Топливо\")\n",
    "          &(comf_tran.full_name != 'unknown')].sku_id.value_counts().head(20).index"
   ]
  },
  {
   "cell_type": "code",
   "execution_count": 88,
   "metadata": {},
   "outputs": [
    {
     "data": {
      "text/plain": [
       "25.01223563480299"
      ]
     },
     "execution_count": 88,
     "metadata": {},
     "output_type": "execute_result"
    }
   ],
   "source": [
    "len(tran[tran.sku_id.isin(top20_sku)].cheque_id.value_counts())/len(tran.cheque_id.value_counts()) * 100 \n",
    "# Доля чеков, в которых присудствуют "
   ]
  },
  {
   "cell_type": "markdown",
   "metadata": {},
   "source": [
    "Так как данная случайная величина имеет биномиальное распределение (0, если в чек не входит один из 20 популярных товаров и 1, если входит), и наблюдений у нас достаточно много, можно рассчитывать, что распределение похоже на нормальное, а значит можно воспользоваться Z-критерием. Нулевая гипотеза состоит в том, что популярный товар есть по крайней мере в четверти чеков."
   ]
  },
  {
   "cell_type": "code",
   "execution_count": 90,
   "metadata": {},
   "outputs": [
    {
     "data": {
      "text/plain": [
       "True"
      ]
     },
     "execution_count": 90,
     "metadata": {},
     "output_type": "execute_result"
    }
   ],
   "source": [
    "z = (0.2501 - 0.25)/(0.2501*(1-0.2501))**0.5\n",
    "abs(z) < 1.960"
   ]
  },
  {
   "cell_type": "markdown",
   "metadata": {},
   "source": [
    "Таким образом, у нас нет оснований отвергнуть гипотезу. Очень неплохой результат! Почти 25% процентов чеков содержат хотя бы 1 из 20 популярных товаров (не считая топливо и unknown)! Этим обязательно надо воспользоваться!"
   ]
  },
  {
   "cell_type": "markdown",
   "metadata": {},
   "source": [
    "#### Посмотрим на суммы чеков повнимательнее"
   ]
  },
  {
   "cell_type": "code",
   "execution_count": 91,
   "metadata": {},
   "outputs": [],
   "source": [
    "cheque_sums = tran.eval(\"S = price*(litrs+number)\").groupby('cheque_id').agg('sum').S # Запишем суммы чеков в одну переменную"
   ]
  },
  {
   "cell_type": "code",
   "execution_count": 92,
   "metadata": {},
   "outputs": [
    {
     "data": {
      "text/plain": [
       "count    2848238.000\n",
       "mean        1358.388\n",
       "std         1127.603\n",
       "min            0.010\n",
       "25%          359.107\n",
       "50%         1119.322\n",
       "75%         2114.840\n",
       "max       126688.953\n",
       "Name: S, dtype: float64"
      ]
     },
     "execution_count": 92,
     "metadata": {},
     "output_type": "execute_result"
    }
   ],
   "source": [
    "cheque_sums.describe().round(decimals=3)"
   ]
  },
  {
   "cell_type": "markdown",
   "metadata": {},
   "source": [
    "Максимальная покупка на 126 688! Это очень похоже на выброс, а вообще данные выглядят реалистично"
   ]
  },
  {
   "cell_type": "code",
   "execution_count": 93,
   "metadata": {},
   "outputs": [
    {
     "data": {
      "text/plain": [
       "<matplotlib.axes._subplots.AxesSubplot at 0x2d4f4662940>"
      ]
     },
     "execution_count": 93,
     "metadata": {},
     "output_type": "execute_result"
    },
    {
     "data": {
      "image/png": "[encoded data removed]",
      "text/plain": [
       "<Figure size 432x288 with 1 Axes>"
      ]
     },
     "metadata": {
      "needs_background": "light"
     },
     "output_type": "display_data"
    }
   ],
   "source": [
    "cheque_sums[cheque_sums < 5000].hist(bins=40) # Удалим выбросы с покупками больше чем на 5 000 и посмотрим график"
   ]
  },
  {
   "cell_type": "markdown",
   "metadata": {},
   "source": [
    "Интересные пики рядом с круглыми числами (1000, 1500, 2000). Но это уже другая история"
   ]
  },
  {
   "cell_type": "code",
   "execution_count": null,
   "metadata": {},
   "outputs": [],
   "source": []
  },
  {
   "cell_type": "markdown",
   "metadata": {},
   "source": [
    "### Помотрим на кластерный анализ"
   ]
  },
  {
   "cell_type": "code",
   "execution_count": 94,
   "metadata": {},
   "outputs": [],
   "source": [
    "from sklearn.cluster import KMeans\n",
    "import numpy as np"
   ]
  },
  {
   "cell_type": "code",
   "execution_count": 95,
   "metadata": {},
   "outputs": [],
   "source": [
    "np.random.seed(42)"
   ]
  },
  {
   "cell_type": "code",
   "execution_count": 96,
   "metadata": {},
   "outputs": [],
   "source": [
    "tran_for_clust = tran.merge(nom, on='sku_id')[['cheque_id','price', 'number','litrs', 'sku_group']] \n",
    "# представим чек в виде вектора по группам купленных товаров"
   ]
  },
  {
   "cell_type": "code",
   "execution_count": 97,
   "metadata": {},
   "outputs": [],
   "source": [
    "tran_for_clust = tran_for_clust.eval(\"S = price*(litrs+number)\") # Подсчитаем сумму чека"
   ]
  },
  {
   "cell_type": "code",
   "execution_count": 98,
   "metadata": {},
   "outputs": [],
   "source": [
    "tran_for_clust.litrs = tran_for_clust.litrs.apply(lambda x: 0 if x == 0 else 1) # Покупал ли клиент топливо"
   ]
  },
  {
   "cell_type": "code",
   "execution_count": 99,
   "metadata": {},
   "outputs": [],
   "source": [
    "tran_for_clust = tran_for_clust.drop(['price', 'number'], axis = 1) # Убираем лишнее"
   ]
  },
  {
   "cell_type": "code",
   "execution_count": 100,
   "metadata": {},
   "outputs": [],
   "source": [
    "tran_for_clust = pd.get_dummies(tran_for_clust, columns=['sku_group'])"
   ]
  },
  {
   "cell_type": "code",
   "execution_count": 101,
   "metadata": {},
   "outputs": [],
   "source": [
    "tran_for_clust = tran_for_clust.groupby('cheque_id').agg('sum') # Собираем так, чтобы 1 строка = один чек"
   ]
  },
  {
   "cell_type": "code",
   "execution_count": 102,
   "metadata": {},
   "outputs": [],
   "source": [
    "km_clust5 = KMeans(5) "
   ]
  },
  {
   "cell_type": "code",
   "execution_count": 103,
   "metadata": {},
   "outputs": [
    {
     "data": {
      "text/plain": [
       "KMeans(n_clusters=5)"
      ]
     },
     "execution_count": 103,
     "metadata": {},
     "output_type": "execute_result"
    }
   ],
   "source": [
    "km_clust5.fit(tran_for_clust.head(100000)) # больше он не тянет"
   ]
  },
  {
   "cell_type": "code",
   "execution_count": 104,
   "metadata": {},
   "outputs": [
    {
     "data": {
      "text/html": [
       "<div>\n",
       "<style scoped>\n",
       "    .dataframe tbody tr th:only-of-type {\n",
       "        vertical-align: middle;\n",
       "    }\n",
       "\n",
       "    .dataframe tbody tr th {\n",
       "        vertical-align: top;\n",
       "    }\n",
       "\n",
       "    .dataframe thead th {\n",
       "        text-align: right;\n",
       "    }\n",
       "</style>\n",
       "<table border=\"1\" class=\"dataframe\">\n",
       "  <thead>\n",
       "    <tr style=\"text-align: right;\">\n",
       "      <th></th>\n",
       "      <th>litrs</th>\n",
       "      <th>S</th>\n",
       "      <th>sku_group_Автотовары</th>\n",
       "      <th>sku_group_Автохимия и автокосметика (кроме масел, смазок и СОЖ)</th>\n",
       "      <th>sku_group_Бакалея</th>\n",
       "      <th>sku_group_Вода</th>\n",
       "      <th>sku_group_Гастроном</th>\n",
       "      <th>sku_group_Карты лояльности</th>\n",
       "      <th>sku_group_Кондитерские изделия</th>\n",
       "      <th>sku_group_Кофейные напитки с молоком</th>\n",
       "      <th>...</th>\n",
       "      <th>sku_group_Снеки</th>\n",
       "      <th>sku_group_Соки и сокосодержащие напитки</th>\n",
       "      <th>sku_group_Табачные изделия</th>\n",
       "      <th>sku_group_Тиражная лотерея</th>\n",
       "      <th>sku_group_Топливо</th>\n",
       "      <th>sku_group_Услуги АЗС/АЗК</th>\n",
       "      <th>sku_group_Услуги мойки</th>\n",
       "      <th>sku_group_Уход за автомобилем</th>\n",
       "      <th>sku_group_Хозяйственные товары, персональный уход</th>\n",
       "      <th>sku_group_Энергетические напитки</th>\n",
       "    </tr>\n",
       "  </thead>\n",
       "  <tbody>\n",
       "    <tr>\n",
       "      <th>0</th>\n",
       "      <td>0.98431</td>\n",
       "      <td>1309.25666</td>\n",
       "      <td>0.01049</td>\n",
       "      <td>0.00625</td>\n",
       "      <td>0.00210</td>\n",
       "      <td>0.12911</td>\n",
       "      <td>0.03368</td>\n",
       "      <td>0.01154</td>\n",
       "      <td>0.12544</td>\n",
       "      <td>0.19119</td>\n",
       "      <td>...</td>\n",
       "      <td>0.03469</td>\n",
       "      <td>0.01541</td>\n",
       "      <td>0.45047</td>\n",
       "      <td>0.00000</td>\n",
       "      <td>0.98431</td>\n",
       "      <td>0.00000</td>\n",
       "      <td>0.00004</td>\n",
       "      <td>0.00928</td>\n",
       "      <td>0.01912</td>\n",
       "      <td>0.10955</td>\n",
       "    </tr>\n",
       "    <tr>\n",
       "      <th>1</th>\n",
       "      <td>1.00710</td>\n",
       "      <td>2323.76290</td>\n",
       "      <td>0.00611</td>\n",
       "      <td>0.00491</td>\n",
       "      <td>0.00241</td>\n",
       "      <td>0.12773</td>\n",
       "      <td>0.03517</td>\n",
       "      <td>0.01299</td>\n",
       "      <td>0.13875</td>\n",
       "      <td>0.35163</td>\n",
       "      <td>...</td>\n",
       "      <td>0.04383</td>\n",
       "      <td>0.01517</td>\n",
       "      <td>0.29665</td>\n",
       "      <td>0.00000</td>\n",
       "      <td>1.00710</td>\n",
       "      <td>0.00000</td>\n",
       "      <td>-0.00000</td>\n",
       "      <td>0.01227</td>\n",
       "      <td>0.01763</td>\n",
       "      <td>0.09037</td>\n",
       "    </tr>\n",
       "    <tr>\n",
       "      <th>2</th>\n",
       "      <td>0.99929</td>\n",
       "      <td>3543.33344</td>\n",
       "      <td>0.01330</td>\n",
       "      <td>0.00614</td>\n",
       "      <td>0.00171</td>\n",
       "      <td>0.13900</td>\n",
       "      <td>0.03868</td>\n",
       "      <td>0.01199</td>\n",
       "      <td>0.15683</td>\n",
       "      <td>0.50242</td>\n",
       "      <td>...</td>\n",
       "      <td>0.05651</td>\n",
       "      <td>0.01753</td>\n",
       "      <td>0.22220</td>\n",
       "      <td>0.00000</td>\n",
       "      <td>0.99929</td>\n",
       "      <td>0.00000</td>\n",
       "      <td>0.00010</td>\n",
       "      <td>0.01430</td>\n",
       "      <td>0.03153</td>\n",
       "      <td>0.07746</td>\n",
       "    </tr>\n",
       "    <tr>\n",
       "      <th>3</th>\n",
       "      <td>0.14237</td>\n",
       "      <td>340.56461</td>\n",
       "      <td>0.00524</td>\n",
       "      <td>0.00372</td>\n",
       "      <td>0.00524</td>\n",
       "      <td>0.15499</td>\n",
       "      <td>0.03867</td>\n",
       "      <td>0.00154</td>\n",
       "      <td>0.15523</td>\n",
       "      <td>0.23467</td>\n",
       "      <td>...</td>\n",
       "      <td>0.04975</td>\n",
       "      <td>0.02111</td>\n",
       "      <td>0.58279</td>\n",
       "      <td>0.00248</td>\n",
       "      <td>0.14237</td>\n",
       "      <td>0.00012</td>\n",
       "      <td>0.00005</td>\n",
       "      <td>0.01118</td>\n",
       "      <td>0.03757</td>\n",
       "      <td>0.14143</td>\n",
       "    </tr>\n",
       "    <tr>\n",
       "      <th>4</th>\n",
       "      <td>0.88350</td>\n",
       "      <td>10762.11373</td>\n",
       "      <td>0.02913</td>\n",
       "      <td>0.02913</td>\n",
       "      <td>0.00971</td>\n",
       "      <td>0.12621</td>\n",
       "      <td>0.01942</td>\n",
       "      <td>0.00971</td>\n",
       "      <td>0.03883</td>\n",
       "      <td>0.36893</td>\n",
       "      <td>...</td>\n",
       "      <td>0.01942</td>\n",
       "      <td>0.00000</td>\n",
       "      <td>0.20388</td>\n",
       "      <td>0.00000</td>\n",
       "      <td>0.88350</td>\n",
       "      <td>0.00000</td>\n",
       "      <td>-0.00000</td>\n",
       "      <td>0.00971</td>\n",
       "      <td>0.43689</td>\n",
       "      <td>0.14563</td>\n",
       "    </tr>\n",
       "  </tbody>\n",
       "</table>\n",
       "<p>5 rows × 33 columns</p>\n",
       "</div>"
      ],
      "text/plain": [
       "     litrs            S  sku_group_Автотовары  \\\n",
       "0  0.98431   1309.25666               0.01049   \n",
       "1  1.00710   2323.76290               0.00611   \n",
       "2  0.99929   3543.33344               0.01330   \n",
       "3  0.14237    340.56461               0.00524   \n",
       "4  0.88350  10762.11373               0.02913   \n",
       "\n",
       "   sku_group_Автохимия и автокосметика (кроме масел, смазок и СОЖ)  \\\n",
       "0                                            0.00625                 \n",
       "1                                            0.00491                 \n",
       "2                                            0.00614                 \n",
       "3                                            0.00372                 \n",
       "4                                            0.02913                 \n",
       "\n",
       "   sku_group_Бакалея  sku_group_Вода  sku_group_Гастроном  \\\n",
       "0            0.00210         0.12911              0.03368   \n",
       "1            0.00241         0.12773              0.03517   \n",
       "2            0.00171         0.13900              0.03868   \n",
       "3            0.00524         0.15499              0.03867   \n",
       "4            0.00971         0.12621              0.01942   \n",
       "\n",
       "   sku_group_Карты лояльности  sku_group_Кондитерские изделия  \\\n",
       "0                     0.01154                         0.12544   \n",
       "1                     0.01299                         0.13875   \n",
       "2                     0.01199                         0.15683   \n",
       "3                     0.00154                         0.15523   \n",
       "4                     0.00971                         0.03883   \n",
       "\n",
       "   sku_group_Кофейные напитки с молоком  ...  sku_group_Снеки  \\\n",
       "0                               0.19119  ...          0.03469   \n",
       "1                               0.35163  ...          0.04383   \n",
       "2                               0.50242  ...          0.05651   \n",
       "3                               0.23467  ...          0.04975   \n",
       "4                               0.36893  ...          0.01942   \n",
       "\n",
       "   sku_group_Соки и сокосодержащие напитки  sku_group_Табачные изделия  \\\n",
       "0                                  0.01541                     0.45047   \n",
       "1                                  0.01517                     0.29665   \n",
       "2                                  0.01753                     0.22220   \n",
       "3                                  0.02111                     0.58279   \n",
       "4                                  0.00000                     0.20388   \n",
       "\n",
       "   sku_group_Тиражная лотерея  sku_group_Топливо  sku_group_Услуги АЗС/АЗК  \\\n",
       "0                     0.00000            0.98431                   0.00000   \n",
       "1                     0.00000            1.00710                   0.00000   \n",
       "2                     0.00000            0.99929                   0.00000   \n",
       "3                     0.00248            0.14237                   0.00012   \n",
       "4                     0.00000            0.88350                   0.00000   \n",
       "\n",
       "   sku_group_Услуги мойки  sku_group_Уход за автомобилем  \\\n",
       "0                 0.00004                        0.00928   \n",
       "1                -0.00000                        0.01227   \n",
       "2                 0.00010                        0.01430   \n",
       "3                 0.00005                        0.01118   \n",
       "4                -0.00000                        0.00971   \n",
       "\n",
       "   sku_group_Хозяйственные товары, персональный уход  \\\n",
       "0                                            0.01912   \n",
       "1                                            0.01763   \n",
       "2                                            0.03153   \n",
       "3                                            0.03757   \n",
       "4                                            0.43689   \n",
       "\n",
       "   sku_group_Энергетические напитки  \n",
       "0                           0.10955  \n",
       "1                           0.09037  \n",
       "2                           0.07746  \n",
       "3                           0.14143  \n",
       "4                           0.14563  \n",
       "\n",
       "[5 rows x 33 columns]"
      ]
     },
     "execution_count": 104,
     "metadata": {},
     "output_type": "execute_result"
    }
   ],
   "source": [
    "pd.DataFrame.from_dict({client_type: km_clust5.cluster_centers_[client_type] for client_type in range(5)},\n",
    "                       orient='index', columns=tran_for_clust.columns).round(decimals=5)\n",
    "# Изучим центры кластеров, как наиболее типичные значения кластреров"
   ]
  },
  {
   "cell_type": "code",
   "execution_count": 105,
   "metadata": {},
   "outputs": [
    {
     "data": {
      "text/html": [
       "<div>\n",
       "<style scoped>\n",
       "    .dataframe tbody tr th:only-of-type {\n",
       "        vertical-align: middle;\n",
       "    }\n",
       "\n",
       "    .dataframe tbody tr th {\n",
       "        vertical-align: top;\n",
       "    }\n",
       "\n",
       "    .dataframe thead th {\n",
       "        text-align: right;\n",
       "    }\n",
       "</style>\n",
       "<table border=\"1\" class=\"dataframe\">\n",
       "  <thead>\n",
       "    <tr style=\"text-align: right;\">\n",
       "      <th></th>\n",
       "      <th>sku_group_Снеки</th>\n",
       "      <th>sku_group_Сладкие Уранированные напитки, холодный чай</th>\n",
       "      <th>sku_group_Соки и сокосодержащие напитки</th>\n",
       "      <th>sku_group_Вода</th>\n",
       "      <th>sku_group_Кофейные напитки с молоком</th>\n",
       "      <th>sku_group_Энергетические напитки</th>\n",
       "    </tr>\n",
       "  </thead>\n",
       "  <tbody>\n",
       "    <tr>\n",
       "      <th>0</th>\n",
       "      <td>0.03469</td>\n",
       "      <td>0.08684</td>\n",
       "      <td>0.01541</td>\n",
       "      <td>0.12911</td>\n",
       "      <td>0.19119</td>\n",
       "      <td>0.10955</td>\n",
       "    </tr>\n",
       "    <tr>\n",
       "      <th>1</th>\n",
       "      <td>0.04383</td>\n",
       "      <td>0.06632</td>\n",
       "      <td>0.01517</td>\n",
       "      <td>0.12773</td>\n",
       "      <td>0.35163</td>\n",
       "      <td>0.09037</td>\n",
       "    </tr>\n",
       "    <tr>\n",
       "      <th>2</th>\n",
       "      <td>0.05651</td>\n",
       "      <td>0.05983</td>\n",
       "      <td>0.01753</td>\n",
       "      <td>0.13900</td>\n",
       "      <td>0.50242</td>\n",
       "      <td>0.07746</td>\n",
       "    </tr>\n",
       "    <tr>\n",
       "      <th>3</th>\n",
       "      <td>0.04975</td>\n",
       "      <td>0.12062</td>\n",
       "      <td>0.02111</td>\n",
       "      <td>0.15499</td>\n",
       "      <td>0.23467</td>\n",
       "      <td>0.14143</td>\n",
       "    </tr>\n",
       "    <tr>\n",
       "      <th>4</th>\n",
       "      <td>0.01942</td>\n",
       "      <td>0.01942</td>\n",
       "      <td>0.00000</td>\n",
       "      <td>0.12621</td>\n",
       "      <td>0.36893</td>\n",
       "      <td>0.14563</td>\n",
       "    </tr>\n",
       "  </tbody>\n",
       "</table>\n",
       "</div>"
      ],
      "text/plain": [
       "   sku_group_Снеки  sku_group_Сладкие Уранированные напитки, холодный чай  \\\n",
       "0          0.03469                                            0.08684       \n",
       "1          0.04383                                            0.06632       \n",
       "2          0.05651                                            0.05983       \n",
       "3          0.04975                                            0.12062       \n",
       "4          0.01942                                            0.01942       \n",
       "\n",
       "   sku_group_Соки и сокосодержащие напитки  sku_group_Вода  \\\n",
       "0                                  0.01541         0.12911   \n",
       "1                                  0.01517         0.12773   \n",
       "2                                  0.01753         0.13900   \n",
       "3                                  0.02111         0.15499   \n",
       "4                                  0.00000         0.12621   \n",
       "\n",
       "   sku_group_Кофейные напитки с молоком  sku_group_Энергетические напитки  \n",
       "0                               0.19119                           0.10955  \n",
       "1                               0.35163                           0.09037  \n",
       "2                               0.50242                           0.07746  \n",
       "3                               0.23467                           0.14143  \n",
       "4                               0.36893                           0.14563  "
      ]
     },
     "execution_count": 105,
     "metadata": {},
     "output_type": "execute_result"
    }
   ],
   "source": [
    "pd.DataFrame.from_dict({client_type: km_clust5.cluster_centers_[client_type] for client_type in range(5)},\n",
    "                       orient='index', columns=tran_for_clust.columns).round(decimals=5)[[f'sku_group_{i}' \n",
    "                                                                                          for i in target_groups]]\n",
    "# И повнимательнее на таргетные группы"
   ]
  },
  {
   "cell_type": "markdown",
   "metadata": {},
   "source": [
    "Небольшой отчет по тому, что мы видим:\n",
    "На самом деле я на черновике перебрал много вариантов, и 5 кластеров показалось мне наиболее интересным и устойчивым делением.\n",
    "Хоть Алгоритм ближайших соседей чувствителен к масштабу, растяжение по суммам чеков выглядит логично\n",
    "Результаты, в принципе, легко поддаются интерпритации.\n",
    "3 кластер - покупатели не водители. Они тратят мало денег, много покупают табачные изделия, воду и сладкие напитки и не особо покупают кофе.\n",
    "0,1,2 - различные группы водителей с разными экономическими возможностями и предпочтениями. Например, 1 и 2 уважают кофе намного больше, чем 0.\n",
    "4 кластер - возможно, дальнобойщики, заправляются на большую сумму, пьют кофе или энергетики, много покупают Хозяйственных товаров, персонального ухода (так как подолгу находятся в пути!)"
   ]
  },
  {
   "cell_type": "code",
   "execution_count": null,
   "metadata": {},
   "outputs": [],
   "source": []
  },
  {
   "cell_type": "markdown",
   "metadata": {},
   "source": [
    "# Пишем рекомендательные системы"
   ]
  },
  {
   "cell_type": "markdown",
   "metadata": {},
   "source": [
    "Идей несколько, а значит, надо проверить их. Идея следующая - написать несколько рекомендательных систем и затем сравнить их по метрике mean average precision at 20. Я решил написать эти системы на подобии интерфейса sklearn (fit и recommend вместо predict). В перспективе это могло бы стать библиотекой."
   ]
  },
  {
   "cell_type": "markdown",
   "metadata": {},
   "source": [
    "Начнем с базового решения, когда мы советуем самые популярные товары. Я решил добавить возможность выбора периода, потому что мы видели на данных, что от времени года популярность продуктов может меняться."
   ]
  },
  {
   "cell_type": "code",
   "execution_count": 106,
   "metadata": {},
   "outputs": [],
   "source": [
    "class Popular_Recommender():\n",
    "    '''Рекомендер. Составляет рекомендацию из 20 товаров в чек на основе самых популярных товаров'''\n",
    "    def __init__(self, target_values, period = None):\n",
    "        '''При инициализации обязательно задать значения товаров, которые хотим рекомендовать и можно задать период'''\n",
    "        self.period = period\n",
    "        self.target_values = target_values\n",
    "    \n",
    "    \n",
    "    def fit(self, X):\n",
    "        '''На вход подается объект pd.DataFrame с продажами в транзакционной форме'''\n",
    "        if self.period is None: #сразу находим топ. Берем с запасом чтобы потом удалить уже купленное клиентом\n",
    "            self.top = X[X.sku_id.isin(self.target_values)].sku_id.value_counts().head(30).index.to_numpy()\n",
    "        else:\n",
    "            self.top = X[X.sku_id.isin(self.target_values) \n",
    "                         & (X.date > self.period[0]) & (X.date < self.period[1])].sku_id.value_counts().head(30).index.to_numpy()\n",
    "    \n",
    "    \n",
    "    def recommend(self, X, drop_bought = True, verbose = True):\n",
    "        '''Основной метод класса. На вход подается объект pd.DataFrame с продажами в транзакционной форме\n",
    "        drop_bought: bool, default=True\n",
    "        Если drop_bought = True, то мы удаляем уже купленные клиентом товары. Так он работает медленнее, но не предлагает \n",
    "        уже взятые товары.\n",
    "        \n",
    "        verbose: bool, default=True\n",
    "        Выводит техническую информацию о готовности рекомендации. Для оценки времени ожидания'''\n",
    "        if drop_bought:\n",
    "            self.ans = {}\n",
    "            # bought_skus - список уже купленных товаров\n",
    "            self.bought_skus = np.split(X.sort_values('cheque_id').sku_id.to_numpy(),X.groupby('cheque_id', \n",
    "                                                                     as_index=False).agg('count').sku_id.to_numpy().cumsum())[:-1]\n",
    "            # количество чеков\n",
    "            self.full = len(self.bought_skus) \n",
    "            #Проходимся по всем чекам в форме (Чек, уже купленные товары)\n",
    "            for counter, (cheque, bought_sku) in enumerate(zip(sorted(X.cheque_id.unique()), self.bought_skus)):\n",
    "                self.ans[cheque] = self.top[~np.in1d(self.top, bought_sku)][:20] # Удаляем купленные товары из рекомендации\n",
    "                if counter%500 == 0:\n",
    "                    print(f'{counter} \\ {self.full}',  end='\\r') # Выводит информацию о выполнении\n",
    "        else:\n",
    "            self.ans = {c: self.top[:20] for c in X.cheque_id.unique()}\n",
    "        return self.ans"
   ]
  },
  {
   "cell_type": "code",
   "execution_count": null,
   "metadata": {},
   "outputs": [],
   "source": []
  },
  {
   "cell_type": "code",
   "execution_count": 107,
   "metadata": {},
   "outputs": [],
   "source": [
    "rec1 = Popular_Recommender(target_sku)"
   ]
  },
  {
   "cell_type": "code",
   "execution_count": 108,
   "metadata": {},
   "outputs": [
    {
     "name": "stdout",
     "output_type": "stream",
     "text": [
      "Wall time: 2.45 s\n"
     ]
    }
   ],
   "source": [
    "%time rec1.fit(tran) # Время обучения"
   ]
  },
  {
   "cell_type": "code",
   "execution_count": 109,
   "metadata": {},
   "outputs": [
    {
     "name": "stdout",
     "output_type": "stream",
     "text": [
      "Wall time: 7.96 s\n"
     ]
    },
    {
     "data": {
      "text/plain": [
       "100000"
      ]
     },
     "execution_count": 109,
     "metadata": {},
     "output_type": "execute_result"
    }
   ],
   "source": [
    "%time len(rec1.recommend(tran[tran.cheque_id.isin([i for i in range(100000)])]))\n",
    "# Проверка времени и корректности работы: на 100 000 чеков должно выдать 100 000 рекомендаций"
   ]
  },
  {
   "cell_type": "markdown",
   "metadata": {},
   "source": [
    "Следующая рекомендательная система к идее популярности добавляет идею о постоянстве покупательского выбора"
   ]
  },
  {
   "cell_type": "code",
   "execution_count": 110,
   "metadata": {},
   "outputs": [],
   "source": [
    "class Client_Recommender():\n",
    "    '''Рекомендер. Составляет рекомендацию из 20 товаров в чек на основе предпочтений клиентов, \n",
    "    уже покупавших в магазине и популярных товаров'''\n",
    "    def __init__(self, target_values):\n",
    "        '''При инициализации обязательно задать значения товаров, которые хотим рекомендовать и можно задать период'''\n",
    "        self.target_values = target_values\n",
    "    \n",
    "    \n",
    "    def fit(self, X):\n",
    "        '''На вход подается объект pd.DataFrame с продажами в транзакционной форме'''\n",
    "        self.top = X[X.sku_id.isin(self.target_values)].sku_id.value_counts().head(30).index.to_numpy() # топ товаров\n",
    "        #Группируем клиентов и их покупки и записываем в форме (клиент, покупка)\n",
    "        self.clients_and_sku = X[(X.sku_id.isin(self.target_values))&(X.client_id>-1)][['sku_id', 'client_id', 'cheque_id']]\\\n",
    "        .groupby(['client_id','sku_id']).agg('count').sort_values('cheque_id').index.to_numpy() \n",
    "        self.client_dict = {} # Словарь с клиентами и их покупками за все время\n",
    "        for client, sku in self.clients_and_sku:\n",
    "            if client not in self.client_dict:\n",
    "                self.client_dict[int(client)]  = [sku]\n",
    "        else:\n",
    "            self.client_dict[int(client)].append(sku)\n",
    "        self.clients = list(self.client_dict.keys()) # Список всех известных нам клиентов \n",
    "        \n",
    "            \n",
    "    def recommend(self, X, drop_bought = True, verbose = True):\n",
    "        '''Основной метод класса. На вход подается объект pd.DataFrame с продажами в транзакционной форме\n",
    "        drop_bought: bool, default=True\n",
    "        Если drop_bought = True, то мы удаляем уже купленные клиентом товары. Так он работает медленнее, но не предлагает \n",
    "        уже взятые товары.\n",
    "        \n",
    "        verbose: bool, default=True\n",
    "        Выводит техническую информацию о готовности рекомендации. Для оценки времени ожидания'''\n",
    "        self.limit = 30 if drop_bought else 20\n",
    "        self.bought_skus = np.split(X.sort_values('cheque_id').sku_id.to_numpy(),X.groupby('cheque_id', \n",
    "                                                                 as_index=False).agg('count').sku_id.to_numpy().cumsum())[:-1]\n",
    "        # Для неизвестных клиентов предлагаем просто популярные товары\n",
    "        self.ans = {c: self.top[:self.limit] for c in X[-(X.client_id.isin(self.clients))].cheque_id.unique()}\n",
    "        self.cheque_id_and_client = X[X.client_id.isin(self.clients)][['cheque_id', 'client_id']].groupby([\n",
    "            'cheque_id', 'client_id']).agg('count').index.to_numpy() # Пары (Чек, клиент)\n",
    "        self.full = len(self.cheque_id_and_client)\n",
    "        for counter, (cheque, client) in enumerate(self.cheque_id_and_client):\n",
    "            self.ans[int(cheque)] = np.array(list(dict.fromkeys(np.append(self.client_dict[int(client)], self.top))))[:self.limit]\n",
    "            if counter%500 == 0 and verbose:\n",
    "                print(f'{counter} \\ {self.full}',  end='\\r') # Техническая информация \n",
    "        if drop_bought: # Удаляем покупки\n",
    "            self.full = len(self.bought_skus)\n",
    "            for counter, (cheque, bought_sku) in enumerate(zip(sorted(X.cheque_id.unique()), self.bought_skus)):\n",
    "                self.ans[cheque] = self.ans[cheque][~np.in1d(self.ans[cheque], bought_sku)][:20]\n",
    "                if counter%500 == 0 and verbose:\n",
    "                    print(f'{counter} \\ {self.full}',  end='\\r') # Техническая информация\n",
    "        return self.ans"
   ]
  },
  {
   "cell_type": "code",
   "execution_count": null,
   "metadata": {},
   "outputs": [],
   "source": []
  },
  {
   "cell_type": "code",
   "execution_count": 111,
   "metadata": {},
   "outputs": [],
   "source": [
    "rec2 = Client_Recommender(target_sku)"
   ]
  },
  {
   "cell_type": "code",
   "execution_count": 112,
   "metadata": {},
   "outputs": [
    {
     "name": "stdout",
     "output_type": "stream",
     "text": [
      "Wall time: 4.38 s\n"
     ]
    }
   ],
   "source": [
    "%time rec2.fit(tran) # Время обучения"
   ]
  },
  {
   "cell_type": "code",
   "execution_count": 113,
   "metadata": {},
   "outputs": [
    {
     "name": "stdout",
     "output_type": "stream",
     "text": [
      "Wall time: 12.9 s\n"
     ]
    },
    {
     "data": {
      "text/plain": [
       "100000"
      ]
     },
     "execution_count": 113,
     "metadata": {},
     "output_type": "execute_result"
    }
   ],
   "source": [
    "%time len(rec1.recommend(tran[tran.cheque_id.isin([i for i in range(100000)])]))\n",
    "# Проверка времени и корректности работы: на 100 000 чеков должно выдать 100 000 рекомендаций"
   ]
  },
  {
   "cell_type": "markdown",
   "metadata": {},
   "source": [
    "Следующая рекомендательная система основана на идеях кластерного анализа. Мы попытаемся угадать тип клиента, и составить список товаров для каждого типа. А на месте предлагать уже сформированный список"
   ]
  },
  {
   "cell_type": "code",
   "execution_count": 114,
   "metadata": {},
   "outputs": [],
   "source": [
    "class Cluster_Recommender():\n",
    "    '''Рекомендер. Составляет рекомендацию из 20 товаров в чек на основе групп уже купленных товаров'''\n",
    "    def __init__(self, target_groups, nom, n_clusters = 5, **kwargs):\n",
    "        '''При инициализации обязательно задать группы товаров, которые хотим рекомендовать и таблицу нуменклатуры'''\n",
    "        from sklearn.cluster import KMeans # Импортируем алгортим кластеризации для избежания ошибок\n",
    "        self_n_clusters = n_clusters\n",
    "        self.nom = nom\n",
    "        self.target_groups = target_groups\n",
    "        self.target_values = {group: nom[nom.sku_group == group].sku_id.to_numpy() for group in target_groups}\n",
    "        self.cluster = KMeans(n_clusters, **kwargs)\n",
    "        \n",
    "    def fit(self, X, limit = 10000):\n",
    "        '''На вход подается объект pd.DataFrame с продажами в транзакционной форме\n",
    "        limit: int,  default=True\n",
    "        Ограничивает данные, потому что sklern плохо справляется с полной таблицой. + Помогает избежать MemoryError'''\n",
    "        self.saved_X = X[X.cheque_id.isin(np.random.choice(X.cheque_id.unique(), limit))]\n",
    "        # Создаем топы по группам\n",
    "        self.tops_of_groups = {group: X[X.sku_id.isin(self.target_values[group])]\\\n",
    "                               .sku_id.value_counts().head(30).index.to_numpy() for group in self.target_groups}\n",
    "        # Предобрабатываем данные для кластеризации\n",
    "        self.X_for_clust = self.saved_X.copy() # Нам понадобится необработанная таблица\n",
    "        self.X_for_clust = self.X_for_clust.merge(self.nom, on='sku_id')[['cheque_id','price', 'number','litrs', 'sku_group']]\n",
    "        self.X_for_clust = self.X_for_clust.eval(\"S = price*(litrs+number)\")\n",
    "        self.X_for_clust.litrs = self.X_for_clust.litrs.apply(lambda x: 0 if x == 0 else 1)\n",
    "        self.X_for_clust = self.X_for_clust.drop(['price', 'number'], axis = 1)\n",
    "        # как оказалось get_dummies работает намного лучше OneHotEncoder от sklearn\n",
    "        self.X_for_clust = pd.get_dummies(self.X_for_clust, columns=['sku_group'])\n",
    "        self.X_for_clust = self.X_for_clust.groupby('cheque_id').agg('sum')\n",
    "        self.columns = self.X_for_clust.columns\n",
    "        self.cluster.fit(self.X_for_clust)\n",
    "        #Таблица с типичными клиентами\n",
    "        self.typical_clients_table = pd.DataFrame.from_dict({client_type: self.cluster\\\n",
    "                                                             .cluster_centers_[client_type] for client_type in range(5)},\n",
    "                       orient='index', columns=self.columns).round(decimals=5)[[f'sku_group_{i}' for i in self.target_groups]]\n",
    "        self.type_recommend_dict = {} # Словарь с рекомендациями\n",
    "        # В цикле проходимся по типам клиентав и словарями с рекомендациями и формируем словарь с рекомендациями групп\n",
    "        for client_type, rec_dict in self.typical_clients_table.apply(lambda x: np.round(30*x/x.sum())\\\n",
    "                                                      .astype(int), raw = True, axis=1).to_dict('index').items():\n",
    "            self.type_recommend_dict[client_type] = sorted([self.tops_of_groups[group[10:]][:num] \n",
    "                                               for group, num in rec_dict.items()], key=len, reverse=True)\n",
    "            self.type_recommend_dict[client_type] = [i for j in self.type_recommend_dict[client_type] for i in j]\n",
    "            \n",
    "    def recommend(self, X, verbose = True):\n",
    "        '''Основной метод класса. На вход подается объект pd.DataFrame с продажами в транзакционной форме\n",
    "        verbose: bool, default=True\n",
    "        Выводит техническую информацию о готовности рекомендации. Для оценки времени ожидания'''\n",
    "    \n",
    "        self.cheques_to_recommend = sorted(X.cheque_id.unique()) # Записываем все чеки\n",
    "        # Купленные товары\n",
    "        self.bought_skus = np.split(X.sort_values('cheque_id').sku_id.to_numpy(), X.groupby('cheque_id', \n",
    "                                                                 as_index=False).agg('count').sku_id.to_numpy().cumsum())[:-1]\n",
    "        # подсоединяем таблицу с транзакциями для предсказания к таблице из обучения и обрабатываем как в обучении\n",
    "        # Из-за особенностей pandas в таблицах это работает быстрее и эффективнее чем OneHotEncoder\n",
    "        self.X_for_clust = self.saved_X.append(X)\n",
    "        self.X_for_clust = self.X_for_clust.merge(self.nom, on='sku_id')[['cheque_id','price', 'number','litrs', 'sku_group']]\n",
    "        self.X_for_clust = self.X_for_clust.eval(\"S = price*(litrs+number)\")\n",
    "        self.X_for_clust.litrs = self.X_for_clust.litrs.apply(lambda x: 0 if x == 0 else 1)\n",
    "        self.X_for_clust = self.X_for_clust.drop(['price', 'number'], axis = 1)\n",
    "        self.X_for_clust = pd.get_dummies(self.X_for_clust, columns=['sku_group'])\n",
    "        self.X_for_clust = self.X_for_clust.groupby('cheque_id').agg('sum')\n",
    "        self.X_for_clust = self.X_for_clust.loc[self.cheques_to_recommend, self.columns] #оставляем только данные для рекомендации\n",
    "        self.ans = {}\n",
    "        # для каждого чека в цикле делаем рекомендацию и удаляем уже купленное\n",
    "        self.lenn = len(self.bought_skus)\n",
    "        for counter, (predicted_label, cheque, bought_sku) in enumerate(zip(self.cluster.predict(self.X_for_clust), \n",
    "                                                                            self.cheques_to_recommend, self.bought_skus)):\n",
    "            self.ans[cheque] = np.array(self.type_recommend_dict[predicted_label])\n",
    "            self.ans[cheque] = self.ans[cheque][~np.in1d(self.ans[cheque], bought_sku)][:20]\n",
    "            if counter%500 == 0 and verbose:\n",
    "                print(f'{counter} / {self.lenn}',  end='\\r') # техническая информация о времени выполнения\n",
    "        return self.ans        "
   ]
  },
  {
   "cell_type": "code",
   "execution_count": 115,
   "metadata": {},
   "outputs": [],
   "source": [
    "rec3 = Cluster_Recommender(target_groups, nom)"
   ]
  },
  {
   "cell_type": "code",
   "execution_count": 116,
   "metadata": {},
   "outputs": [
    {
     "name": "stdout",
     "output_type": "stream",
     "text": [
      "Wall time: 4.78 s\n"
     ]
    }
   ],
   "source": [
    "%time rec3.fit(tran)"
   ]
  },
  {
   "cell_type": "code",
   "execution_count": 117,
   "metadata": {},
   "outputs": [
    {
     "name": "stdout",
     "output_type": "stream",
     "text": [
      "Wall time: 8.15 s\n"
     ]
    },
    {
     "data": {
      "text/plain": [
       "100000"
      ]
     },
     "execution_count": 117,
     "metadata": {},
     "output_type": "execute_result"
    }
   ],
   "source": [
    "%time len(rec1.recommend(tran[tran.cheque_id.isin([i for i in range(100000)])]))\n",
    "# Проверка времени и корректности работы: на 100 000 чеков должно выдать 100 000 рекомендаций"
   ]
  },
  {
   "cell_type": "code",
   "execution_count": null,
   "metadata": {},
   "outputs": [],
   "source": []
  },
  {
   "cell_type": "markdown",
   "metadata": {},
   "source": [
    "# Сравниваем рекомендательные системы"
   ]
  },
  {
   "cell_type": "markdown",
   "metadata": {},
   "source": [
    "Я решил немного изменить метрику. Так как я хочу выкинуть из каждого чека по 1 товару, который надо рекомендовать и постараться угадать по этому чеку выкинутый товар, то Average precision at 20  для каждого чека будет не больше 1 (если выкинутый товар на 1 месте, то 1, если на 2, то 1/2. Поэтому коэффициент 1/20 будет только мешать интерпретировать результаты. Я решил считать метрику без него."
   ]
  },
  {
   "cell_type": "code",
   "execution_count": 118,
   "metadata": {},
   "outputs": [],
   "source": [
    "val_tran = targ_tran[targ_tran.cheque_id.isin(np.random.choice(targ_tran.cheque_id.unique(), 150000))]\n",
    "# Отложим выборку для предсказания"
   ]
  },
  {
   "cell_type": "code",
   "execution_count": 119,
   "metadata": {},
   "outputs": [],
   "source": [
    "train_tran = tran.drop(val_tran.index, axis=0) # выкенем из обучающей выборки валидационную"
   ]
  },
  {
   "cell_type": "code",
   "execution_count": 120,
   "metadata": {},
   "outputs": [
    {
     "data": {
      "text/plain": [
       "((6422489, 8), (377858, 8), (6800347, 8))"
      ]
     },
     "execution_count": 120,
     "metadata": {},
     "output_type": "execute_result"
    }
   ],
   "source": [
    "train_tran.shape, val_tran.shape, tran.shape"
   ]
  },
  {
   "cell_type": "code",
   "execution_count": 121,
   "metadata": {},
   "outputs": [
    {
     "data": {
      "text/plain": [
       "6800347"
      ]
     },
     "execution_count": 121,
     "metadata": {},
     "output_type": "execute_result"
    }
   ],
   "source": [
    "6544716 + 255631 # Проверка"
   ]
  },
  {
   "cell_type": "code",
   "execution_count": 122,
   "metadata": {},
   "outputs": [
    {
     "data": {
      "text/plain": [
       "885719     20\n",
       "840169     19\n",
       "1669066    17\n",
       "1909437    17\n",
       "1425283    16\n",
       "           ..\n",
       "613207      1\n",
       "571231      1\n",
       "123207      1\n",
       "110973      1\n",
       "670812      1\n",
       "Name: cheque_id, Length: 143196, dtype: int64"
      ]
     },
     "execution_count": 122,
     "metadata": {},
     "output_type": "execute_result"
    }
   ],
   "source": [
    "val_tran.cheque_id.value_counts() # Смотрим количество чеков"
   ]
  },
  {
   "cell_type": "markdown",
   "metadata": {},
   "source": [
    "Есть чеки всего на 1 товар. К сожалению, они пропадут при удалении, но их не так много"
   ]
  },
  {
   "cell_type": "code",
   "execution_count": 123,
   "metadata": {},
   "outputs": [],
   "source": [
    "droped_tran = val_tran[val_tran.sku_id.isin(target_sku)][['cheque_id', 'sku_id']]\\\n",
    ".groupby('cheque_id').agg('first').sku_id.to_dict() # Запишем выкинутые пары в словарь в виде чек:товар"
   ]
  },
  {
   "cell_type": "code",
   "execution_count": 124,
   "metadata": {},
   "outputs": [
    {
     "data": {
      "text/plain": [
       "143196"
      ]
     },
     "execution_count": 124,
     "metadata": {},
     "output_type": "execute_result"
    }
   ],
   "source": [
    "len(droped_tran) # должно совпасть с количеством чеков"
   ]
  },
  {
   "cell_type": "code",
   "execution_count": 125,
   "metadata": {},
   "outputs": [],
   "source": [
    "val_tran = pd.concat([val_tran, val_tran[val_tran.sku_id.isin(target_sku)][['cheque_id', 'sku_id']]\\\n",
    "           .groupby('cheque_id', as_index=False).agg('first')]).drop_duplicates(subset=['sku_id', 'cheque_id'], keep=False)\n",
    "# Удаляем выкинутые транзакции из валидационной выборки"
   ]
  },
  {
   "cell_type": "code",
   "execution_count": 126,
   "metadata": {},
   "outputs": [
    {
     "data": {
      "text/plain": [
       "885719     19\n",
       "840169     18\n",
       "1669066    16\n",
       "1425283    15\n",
       "1182483    15\n",
       "           ..\n",
       "676827      1\n",
       "3298268     1\n",
       "938973      1\n",
       "2773982     1\n",
       "2916905     1\n",
       "Name: cheque_id, Length: 141532, dtype: int64"
      ]
     },
     "execution_count": 126,
     "metadata": {},
     "output_type": "execute_result"
    }
   ],
   "source": [
    "val_tran.cheque_id.value_counts() # Смотрим, сколько мы потеряли "
   ]
  },
  {
   "cell_type": "code",
   "execution_count": 127,
   "metadata": {},
   "outputs": [
    {
     "data": {
      "text/plain": [
       "1126"
      ]
     },
     "execution_count": 127,
     "metadata": {},
     "output_type": "execute_result"
    }
   ],
   "source": [
    "96945 - 95819 # Потеряли не так уж и много"
   ]
  },
  {
   "cell_type": "markdown",
   "metadata": {},
   "source": [
    "Приступим к сравнению"
   ]
  },
  {
   "cell_type": "code",
   "execution_count": 128,
   "metadata": {},
   "outputs": [],
   "source": [
    "rec1 = Popular_Recommender(target_sku)"
   ]
  },
  {
   "cell_type": "code",
   "execution_count": 129,
   "metadata": {},
   "outputs": [],
   "source": [
    "rec1.fit(train_tran)"
   ]
  },
  {
   "cell_type": "code",
   "execution_count": 130,
   "metadata": {},
   "outputs": [
    {
     "name": "stdout",
     "output_type": "stream",
     "text": [
      "141500 \\ 141532\r"
     ]
    }
   ],
   "source": [
    "rec1_dict = rec1.recommend(val_tran) # Сохраним рекомендации"
   ]
  },
  {
   "cell_type": "code",
   "execution_count": 131,
   "metadata": {},
   "outputs": [
    {
     "data": {
      "text/plain": [
       "0.1419055904430231"
      ]
     },
     "execution_count": 131,
     "metadata": {},
     "output_type": "execute_result"
    }
   ],
   "source": [
    "#Найдем значение Average precision at 20, запишем в result и найдем среднее по всем чекам в валидационной выборке\n",
    "result = np.array([])\n",
    "for i in rec1_dict:\n",
    "    result = np.append(result, 1/(np.where(rec1_dict[i]==droped_tran[i])[0] + 1))\n",
    "    \n",
    "result.sum()/len(rec1_dict)"
   ]
  },
  {
   "cell_type": "code",
   "execution_count": 132,
   "metadata": {},
   "outputs": [],
   "source": [
    "# Из интереса посмотрим, насколько хуже работает система, если не выкидывать купленные товары\n",
    "rec1_5_dict = rec1.recommend(val_tran, drop_bought=False)"
   ]
  },
  {
   "cell_type": "code",
   "execution_count": 133,
   "metadata": {},
   "outputs": [
    {
     "data": {
      "text/plain": [
       "0.1414049236842211"
      ]
     },
     "execution_count": 133,
     "metadata": {},
     "output_type": "execute_result"
    }
   ],
   "source": [
    "result = np.array([])\n",
    "for i in rec1_5_dict:\n",
    "    result = np.append(result, 1/(np.where(rec1_5_dict[i]==droped_tran[i])[0] + 1))\n",
    "    \n",
    "result.sum()/len(rec1_5_dict)"
   ]
  },
  {
   "cell_type": "code",
   "execution_count": 134,
   "metadata": {},
   "outputs": [],
   "source": [
    "# Система на основе данных о клиентах\n",
    "rec2 = Client_Recommender(target_sku)"
   ]
  },
  {
   "cell_type": "code",
   "execution_count": 135,
   "metadata": {},
   "outputs": [],
   "source": [
    "rec2.fit(train_tran)"
   ]
  },
  {
   "cell_type": "code",
   "execution_count": 136,
   "metadata": {},
   "outputs": [
    {
     "name": "stdout",
     "output_type": "stream",
     "text": [
      "141500 \\ 141532\r"
     ]
    }
   ],
   "source": [
    "rec2_dict = rec2.recommend(val_tran)"
   ]
  },
  {
   "cell_type": "code",
   "execution_count": 137,
   "metadata": {},
   "outputs": [
    {
     "data": {
      "text/plain": [
       "0.1538051633254091"
      ]
     },
     "execution_count": 137,
     "metadata": {},
     "output_type": "execute_result"
    }
   ],
   "source": [
    "result = np.array([])\n",
    "for i in rec2_dict:\n",
    "    result = np.append(result, 1/(np.where(rec2_dict[i]==droped_tran[i])[0] + 1))\n",
    "    \n",
    "result.sum()/len(rec2_dict)"
   ]
  },
  {
   "cell_type": "markdown",
   "metadata": {},
   "source": [
    "Результат стал заметно лучше!"
   ]
  },
  {
   "cell_type": "code",
   "execution_count": 138,
   "metadata": {},
   "outputs": [],
   "source": [
    "# Система на основе класстерного анализа \n",
    "rec3 = Cluster_Recommender(target_groups, nom)"
   ]
  },
  {
   "cell_type": "code",
   "execution_count": 139,
   "metadata": {},
   "outputs": [],
   "source": [
    "rec3.fit(train_tran)"
   ]
  },
  {
   "cell_type": "code",
   "execution_count": 140,
   "metadata": {},
   "outputs": [
    {
     "name": "stdout",
     "output_type": "stream",
     "text": [
      "141500 / 141532\r"
     ]
    }
   ],
   "source": [
    "rec3_dict = rec3.recommend(val_tran)"
   ]
  },
  {
   "cell_type": "code",
   "execution_count": 141,
   "metadata": {},
   "outputs": [
    {
     "data": {
      "text/plain": [
       "0.09930307978708038"
      ]
     },
     "execution_count": 141,
     "metadata": {},
     "output_type": "execute_result"
    }
   ],
   "source": [
    "result = np.array([])\n",
    "for i in rec3_dict:\n",
    "    result = np.append(result, 1/(np.where(rec3_dict[i]==droped_tran[i])[0] + 1))\n",
    "    \n",
    "result.sum()/len(rec3_dict)"
   ]
  },
  {
   "cell_type": "markdown",
   "metadata": {},
   "source": [
    "Результат, к сожалению, стал хуже, но не сильно! Возможно, данный алгоритм можно усовершенствовать"
   ]
  },
  {
   "cell_type": "markdown",
   "metadata": {},
   "source": [
    "Подводим итоги: Лучше всех показала себя рекомендательная система на основе данных о клиентах.\n",
    "В среднем угаданный товар стоит на 6-7 месте (1\\6 < MAP(rec2) < 1/7). Рекомендательная система на основе кластерного анализа в среднем угадывает значение на 8 месте, что в целом тоже неплохой результат! По результатам этих вычислений, я принял решение составить рекомендации на основе Client_Recommender"
   ]
  },
  {
   "cell_type": "markdown",
   "metadata": {},
   "source": [
    "# Обработка данных и продакшен"
   ]
  },
  {
   "cell_type": "markdown",
   "metadata": {},
   "source": [
    "Теперь надо обработать данные и сделать на них прогноз. Удобно сделать для этого конвеер, который сначала обрабатывает, а затем делает прогноз. Такую систему можно непосредственно внедрять в продакшен"
   ]
  },
  {
   "cell_type": "code",
   "execution_count": 142,
   "metadata": {},
   "outputs": [],
   "source": [
    "tran_for_sub = pd.read_parquet('transactions-for_submission.parquet')"
   ]
  },
  {
   "cell_type": "code",
   "execution_count": 143,
   "metadata": {},
   "outputs": [],
   "source": [
    "# Напишем функцию для обработки данных (хорошо, что нам известны все преобразования)\n",
    "def transform(X):\n",
    "    '''Трансформирует pandas.DataFrame объект чтобы по нему можно было делать предсказания'''\n",
    "    X = X.copy() #Чтобы не менялся исходный объект\n",
    "    X.sku_id = X.sku_id.astype(object)\n",
    "    X.cheque_id = X.cheque_id.astype(object)\n",
    "    X.shop_id = X.shop_id.astype(object)\n",
    "    X.loc[X.client_id.isnull(), \"client_id\"] = -1\n",
    "    X.client_id = X.client_id.astype(object)\n",
    "    X.number = (X.number/0.000452).round(decimals=3)\n",
    "    X.litrs = (30*(X.litrs-0.104183)/0.02986).round(decimals=3)\n",
    "    X = X.drop(X[X.litrs < 0].index)\n",
    "    X.price = X.price*19000\n",
    "    return X"
   ]
  },
  {
   "cell_type": "code",
   "execution_count": 144,
   "metadata": {},
   "outputs": [
    {
     "data": {
      "text/html": [
       "<div>\n",
       "<style scoped>\n",
       "    .dataframe tbody tr th:only-of-type {\n",
       "        vertical-align: middle;\n",
       "    }\n",
       "\n",
       "    .dataframe tbody tr th {\n",
       "        vertical-align: top;\n",
       "    }\n",
       "\n",
       "    .dataframe thead th {\n",
       "        text-align: right;\n",
       "    }\n",
       "</style>\n",
       "<table border=\"1\" class=\"dataframe\">\n",
       "  <thead>\n",
       "    <tr style=\"text-align: right;\">\n",
       "      <th></th>\n",
       "      <th>sku_id</th>\n",
       "      <th>price</th>\n",
       "      <th>number</th>\n",
       "      <th>cheque_id</th>\n",
       "      <th>litrs</th>\n",
       "      <th>client_id</th>\n",
       "      <th>shop_id</th>\n",
       "      <th>date</th>\n",
       "    </tr>\n",
       "  </thead>\n",
       "  <tbody>\n",
       "    <tr>\n",
       "      <th>0</th>\n",
       "      <td>1158</td>\n",
       "      <td>43.771165</td>\n",
       "      <td>0.000</td>\n",
       "      <td>734259</td>\n",
       "      <td>38.101</td>\n",
       "      <td>223748</td>\n",
       "      <td>42</td>\n",
       "      <td>2171-08-01 09:00:00</td>\n",
       "    </tr>\n",
       "    <tr>\n",
       "      <th>1</th>\n",
       "      <td>555</td>\n",
       "      <td>173.524885</td>\n",
       "      <td>1.001</td>\n",
       "      <td>734260</td>\n",
       "      <td>0.000</td>\n",
       "      <td>-1</td>\n",
       "      <td>42</td>\n",
       "      <td>2171-08-01 09:00:00</td>\n",
       "    </tr>\n",
       "    <tr>\n",
       "      <th>2</th>\n",
       "      <td>555</td>\n",
       "      <td>173.524885</td>\n",
       "      <td>1.001</td>\n",
       "      <td>734260</td>\n",
       "      <td>0.000</td>\n",
       "      <td>-1</td>\n",
       "      <td>42</td>\n",
       "      <td>2171-08-01 09:00:00</td>\n",
       "    </tr>\n",
       "    <tr>\n",
       "      <th>3</th>\n",
       "      <td>1158</td>\n",
       "      <td>43.771165</td>\n",
       "      <td>0.000</td>\n",
       "      <td>734264</td>\n",
       "      <td>33.981</td>\n",
       "      <td>-1</td>\n",
       "      <td>42</td>\n",
       "      <td>2171-08-01 09:00:00</td>\n",
       "    </tr>\n",
       "    <tr>\n",
       "      <th>4</th>\n",
       "      <td>1534</td>\n",
       "      <td>53.617240</td>\n",
       "      <td>1.001</td>\n",
       "      <td>734266</td>\n",
       "      <td>0.000</td>\n",
       "      <td>-1</td>\n",
       "      <td>42</td>\n",
       "      <td>2171-08-01 09:00:00</td>\n",
       "    </tr>\n",
       "    <tr>\n",
       "      <th>...</th>\n",
       "      <td>...</td>\n",
       "      <td>...</td>\n",
       "      <td>...</td>\n",
       "      <td>...</td>\n",
       "      <td>...</td>\n",
       "      <td>...</td>\n",
       "      <td>...</td>\n",
       "      <td>...</td>\n",
       "    </tr>\n",
       "    <tr>\n",
       "      <th>554725</th>\n",
       "      <td>2999</td>\n",
       "      <td>150.128271</td>\n",
       "      <td>1.001</td>\n",
       "      <td>3406741</td>\n",
       "      <td>0.000</td>\n",
       "      <td>-1</td>\n",
       "      <td>107</td>\n",
       "      <td>2171-09-01 09:00:00</td>\n",
       "    </tr>\n",
       "    <tr>\n",
       "      <th>554726</th>\n",
       "      <td>1157</td>\n",
       "      <td>50.936378</td>\n",
       "      <td>0.000</td>\n",
       "      <td>3406743</td>\n",
       "      <td>92.322</td>\n",
       "      <td>340354</td>\n",
       "      <td>107</td>\n",
       "      <td>2171-09-01 09:00:00</td>\n",
       "    </tr>\n",
       "    <tr>\n",
       "      <th>554727</th>\n",
       "      <td>1158</td>\n",
       "      <td>44.697281</td>\n",
       "      <td>0.000</td>\n",
       "      <td>3406744</td>\n",
       "      <td>60.002</td>\n",
       "      <td>345307</td>\n",
       "      <td>107</td>\n",
       "      <td>2171-09-01 09:00:00</td>\n",
       "    </tr>\n",
       "    <tr>\n",
       "      <th>554728</th>\n",
       "      <td>1158</td>\n",
       "      <td>44.697281</td>\n",
       "      <td>0.000</td>\n",
       "      <td>3406745</td>\n",
       "      <td>21.811</td>\n",
       "      <td>-1</td>\n",
       "      <td>107</td>\n",
       "      <td>2171-09-01 09:00:00</td>\n",
       "    </tr>\n",
       "    <tr>\n",
       "      <th>554729</th>\n",
       "      <td>2032</td>\n",
       "      <td>57.662904</td>\n",
       "      <td>0.000</td>\n",
       "      <td>3406748</td>\n",
       "      <td>59.042</td>\n",
       "      <td>265997</td>\n",
       "      <td>107</td>\n",
       "      <td>2171-09-01 09:00:00</td>\n",
       "    </tr>\n",
       "  </tbody>\n",
       "</table>\n",
       "<p>554730 rows × 8 columns</p>\n",
       "</div>"
      ],
      "text/plain": [
       "       sku_id       price  number cheque_id   litrs client_id shop_id  \\\n",
       "0        1158   43.771165   0.000    734259  38.101    223748      42   \n",
       "1         555  173.524885   1.001    734260   0.000        -1      42   \n",
       "2         555  173.524885   1.001    734260   0.000        -1      42   \n",
       "3        1158   43.771165   0.000    734264  33.981        -1      42   \n",
       "4        1534   53.617240   1.001    734266   0.000        -1      42   \n",
       "...       ...         ...     ...       ...     ...       ...     ...   \n",
       "554725   2999  150.128271   1.001   3406741   0.000        -1     107   \n",
       "554726   1157   50.936378   0.000   3406743  92.322    340354     107   \n",
       "554727   1158   44.697281   0.000   3406744  60.002    345307     107   \n",
       "554728   1158   44.697281   0.000   3406745  21.811        -1     107   \n",
       "554729   2032   57.662904   0.000   3406748  59.042    265997     107   \n",
       "\n",
       "                      date  \n",
       "0      2171-08-01 09:00:00  \n",
       "1      2171-08-01 09:00:00  \n",
       "2      2171-08-01 09:00:00  \n",
       "3      2171-08-01 09:00:00  \n",
       "4      2171-08-01 09:00:00  \n",
       "...                    ...  \n",
       "554725 2171-09-01 09:00:00  \n",
       "554726 2171-09-01 09:00:00  \n",
       "554727 2171-09-01 09:00:00  \n",
       "554728 2171-09-01 09:00:00  \n",
       "554729 2171-09-01 09:00:00  \n",
       "\n",
       "[554730 rows x 8 columns]"
      ]
     },
     "execution_count": 144,
     "metadata": {},
     "output_type": "execute_result"
    }
   ],
   "source": [
    "transform(tran_for_sub) # Посмотрим, что получилось"
   ]
  },
  {
   "cell_type": "code",
   "execution_count": 145,
   "metadata": {},
   "outputs": [],
   "source": [
    "# Напишем полный конвеер\n",
    "def Pipeline(transformer, recommendor):\n",
    "    return lambda X: recommendor.recommend(transformer(X))"
   ]
  },
  {
   "cell_type": "code",
   "execution_count": 146,
   "metadata": {},
   "outputs": [],
   "source": [
    "# Обучим наш рекомендатор на всех данных\n",
    "rec_final = Client_Recommender(target_sku)\n",
    "rec_final.fit(tran)"
   ]
  },
  {
   "cell_type": "code",
   "execution_count": 147,
   "metadata": {},
   "outputs": [],
   "source": [
    "final_pipeline = Pipeline(transform, rec_final)"
   ]
  },
  {
   "cell_type": "code",
   "execution_count": 148,
   "metadata": {},
   "outputs": [
    {
     "name": "stdout",
     "output_type": "stream",
     "text": [
      "315000 \\ 315228\r"
     ]
    }
   ],
   "source": [
    "sub_dict = final_pipeline(tran_for_sub)"
   ]
  },
  {
   "cell_type": "code",
   "execution_count": 149,
   "metadata": {},
   "outputs": [
    {
     "data": {
      "text/plain": [
       "315228"
      ]
     },
     "execution_count": 149,
     "metadata": {},
     "output_type": "execute_result"
    }
   ],
   "source": [
    "len(sub_dict) # Проверим, все ли в порядке"
   ]
  },
  {
   "cell_type": "code",
   "execution_count": 150,
   "metadata": {},
   "outputs": [
    {
     "data": {
      "text/plain": [
       "3391059    41\n",
       "2521683    32\n",
       "1058916    31\n",
       "2907515    31\n",
       "2905380    30\n",
       "           ..\n",
       "2730518     1\n",
       "2734612     1\n",
       "1657354     1\n",
       "1659401     1\n",
       "1056772     1\n",
       "Name: cheque_id, Length: 315228, dtype: int64"
      ]
     },
     "execution_count": 150,
     "metadata": {},
     "output_type": "execute_result"
    }
   ],
   "source": [
    "tran_for_sub.cheque_id.value_counts() # Проверим, все ли в порядке"
   ]
  },
  {
   "cell_type": "markdown",
   "metadata": {},
   "source": [
    "Все в порядке. Количество предсказаний равно количеству чеков в tran_for_sub. Осталось перевести все это дело в parquet"
   ]
  },
  {
   "cell_type": "code",
   "execution_count": 151,
   "metadata": {},
   "outputs": [
    {
     "name": "stdout",
     "output_type": "stream",
     "text": [
      "315000\r"
     ]
    }
   ],
   "source": [
    "ans = []\n",
    "c = 0\n",
    "for cheque in sub_dict:\n",
    "    c += 1\n",
    "    for position, sku in enumerate(sub_dict[cheque]):\n",
    "        ans.append([cheque, sku, position+1])\n",
    "        if c%500 == 0:\n",
    "            print(c, end = '\\r')"
   ]
  },
  {
   "cell_type": "code",
   "execution_count": 152,
   "metadata": {},
   "outputs": [],
   "source": [
    "final_submission = pd.DataFrame(ans, columns=['cheque_id', 'sku_id', 'position'])"
   ]
  },
  {
   "cell_type": "code",
   "execution_count": 153,
   "metadata": {},
   "outputs": [
    {
     "data": {
      "text/html": [
       "<div>\n",
       "<style scoped>\n",
       "    .dataframe tbody tr th:only-of-type {\n",
       "        vertical-align: middle;\n",
       "    }\n",
       "\n",
       "    .dataframe tbody tr th {\n",
       "        vertical-align: top;\n",
       "    }\n",
       "\n",
       "    .dataframe thead th {\n",
       "        text-align: right;\n",
       "    }\n",
       "</style>\n",
       "<table border=\"1\" class=\"dataframe\">\n",
       "  <thead>\n",
       "    <tr style=\"text-align: right;\">\n",
       "      <th></th>\n",
       "      <th>cheque_id</th>\n",
       "      <th>sku_id</th>\n",
       "      <th>position</th>\n",
       "    </tr>\n",
       "  </thead>\n",
       "  <tbody>\n",
       "    <tr>\n",
       "      <th>0</th>\n",
       "      <td>734260</td>\n",
       "      <td>3329</td>\n",
       "      <td>1</td>\n",
       "    </tr>\n",
       "    <tr>\n",
       "      <th>1</th>\n",
       "      <td>734260</td>\n",
       "      <td>3324</td>\n",
       "      <td>2</td>\n",
       "    </tr>\n",
       "    <tr>\n",
       "      <th>2</th>\n",
       "      <td>734260</td>\n",
       "      <td>3334</td>\n",
       "      <td>3</td>\n",
       "    </tr>\n",
       "    <tr>\n",
       "      <th>3</th>\n",
       "      <td>734260</td>\n",
       "      <td>1551</td>\n",
       "      <td>4</td>\n",
       "    </tr>\n",
       "    <tr>\n",
       "      <th>4</th>\n",
       "      <td>734260</td>\n",
       "      <td>2673</td>\n",
       "      <td>5</td>\n",
       "    </tr>\n",
       "    <tr>\n",
       "      <th>...</th>\n",
       "      <td>...</td>\n",
       "      <td>...</td>\n",
       "      <td>...</td>\n",
       "    </tr>\n",
       "    <tr>\n",
       "      <th>6304555</th>\n",
       "      <td>3406748</td>\n",
       "      <td>580</td>\n",
       "      <td>16</td>\n",
       "    </tr>\n",
       "    <tr>\n",
       "      <th>6304556</th>\n",
       "      <td>3406748</td>\n",
       "      <td>403</td>\n",
       "      <td>17</td>\n",
       "    </tr>\n",
       "    <tr>\n",
       "      <th>6304557</th>\n",
       "      <td>3406748</td>\n",
       "      <td>817</td>\n",
       "      <td>18</td>\n",
       "    </tr>\n",
       "    <tr>\n",
       "      <th>6304558</th>\n",
       "      <td>3406748</td>\n",
       "      <td>229</td>\n",
       "      <td>19</td>\n",
       "    </tr>\n",
       "    <tr>\n",
       "      <th>6304559</th>\n",
       "      <td>3406748</td>\n",
       "      <td>99</td>\n",
       "      <td>20</td>\n",
       "    </tr>\n",
       "  </tbody>\n",
       "</table>\n",
       "<p>6304560 rows × 3 columns</p>\n",
       "</div>"
      ],
      "text/plain": [
       "         cheque_id  sku_id  position\n",
       "0           734260    3329         1\n",
       "1           734260    3324         2\n",
       "2           734260    3334         3\n",
       "3           734260    1551         4\n",
       "4           734260    2673         5\n",
       "...            ...     ...       ...\n",
       "6304555    3406748     580        16\n",
       "6304556    3406748     403        17\n",
       "6304557    3406748     817        18\n",
       "6304558    3406748     229        19\n",
       "6304559    3406748      99        20\n",
       "\n",
       "[6304560 rows x 3 columns]"
      ]
     },
     "execution_count": 153,
     "metadata": {},
     "output_type": "execute_result"
    }
   ],
   "source": [
    "final_submission"
   ]
  },
  {
   "cell_type": "code",
   "execution_count": 154,
   "metadata": {},
   "outputs": [
    {
     "data": {
      "text/plain": [
       "6304560"
      ]
     },
     "execution_count": 154,
     "metadata": {},
     "output_type": "execute_result"
    }
   ],
   "source": [
    "315228*20"
   ]
  },
  {
   "cell_type": "code",
   "execution_count": 155,
   "metadata": {},
   "outputs": [],
   "source": [
    "final_submission.to_parquet('submission-Trubin.parquet')"
   ]
  },
  {
   "cell_type": "code",
   "execution_count": null,
   "metadata": {},
   "outputs": [],
   "source": []
  }
 ],
 "metadata": {
  "kernelspec": {
   "display_name": "Python 3",
   "language": "python",
   "name": "python3"
  },
  "language_info": {
   "codemirror_mode": {
    "name": "ipython",
    "version": 3
   },
   "file_extension": ".py",
   "mimetype": "text/x-python",
   "name": "python",
   "nbconvert_exporter": "python",
   "pygments_lexer": "ipython3",
   "version": "3.8.3"
  }
 },
 "nbformat": 4,
 "nbformat_minor": 4
}
